{
 "cells": [
  {
   "cell_type": "markdown",
   "metadata": {},
   "source": [
    "# Stars: **"
   ]
  },
  {
   "cell_type": "markdown",
   "metadata": {},
   "source": [
    "### Day 2: Cube Conundrum\n",
    "\n",
    "#### Part 1"
   ]
  },
  {
   "cell_type": "code",
   "execution_count": 125,
   "metadata": {},
   "outputs": [],
   "source": [
    "# read all lines in text file\n",
    "with open(\"input.txt\", \"r\") as file:\n",
    "    lines = file.readlines()\n",
    "\n",
    "# remove newline text from each line\n",
    "lines = [line.rstrip(\"\\n\") for line in lines]"
   ]
  },
  {
   "cell_type": "code",
   "execution_count": 126,
   "metadata": {},
   "outputs": [],
   "source": [
    "cube_dic = {\n",
    "    \"red\": 12,\n",
    "    \"green\": 13,\n",
    "    \"blue\": 14\n",
    "}"
   ]
  },
  {
   "cell_type": "code",
   "execution_count": 156,
   "metadata": {},
   "outputs": [],
   "source": [
    "possible_games = []\n",
    "game_dics = []\n",
    "\n",
    "for line in lines:\n",
    "\n",
    "    line_split = line.rsplit(\": \")\n",
    "    game = line_split[0]\n",
    "    gameid = game.split(\" \")[-1]\n",
    "    sets = line_split[1].split(\"; \")\n",
    "    sets = [set.split(\", \") for set in sets]\n",
    "\n",
    "    game_dic = {}\n",
    "    for set in sets:\n",
    "        for cube in set:\n",
    "            num, colour = cube.split(\" \")\n",
    "            num = int(num)\n",
    "            try:\n",
    "                if game_dic[colour] < num:\n",
    "                    game_dic[colour] = num\n",
    "            except KeyError:\n",
    "                game_dic[colour] = int(num)\n",
    "    \n",
    "    game_dics.append(game_dic)\n",
    "\n",
    "    key_status = []\n",
    "    for key in cube_dic:\n",
    "        if key in game_dic and cube_dic[key] < game_dic[key]:\n",
    "            key_status.append(0)\n",
    "        else:\n",
    "            key_status.append(1)\n",
    "\n",
    "    if 0 not in key_status:\n",
    "        possible_games.append(int(gameid))\n"
   ]
  },
  {
   "cell_type": "code",
   "execution_count": 158,
   "metadata": {},
   "outputs": [
    {
     "data": {
      "text/plain": [
       "2061"
      ]
     },
     "execution_count": 158,
     "metadata": {},
     "output_type": "execute_result"
    }
   ],
   "source": [
    "sum(possible_games)"
   ]
  },
  {
   "cell_type": "markdown",
   "metadata": {},
   "source": [
    "#### Part 2"
   ]
  },
  {
   "cell_type": "code",
   "execution_count": 174,
   "metadata": {},
   "outputs": [],
   "source": [
    "powers = []\n",
    "for game_dic in game_dics:\n",
    "    power = 1\n",
    "    for value in game_dic.values():\n",
    "        power *= value \n",
    "    powers.append(power)"
   ]
  },
  {
   "cell_type": "code",
   "execution_count": 175,
   "metadata": {},
   "outputs": [
    {
     "data": {
      "text/plain": [
       "72596"
      ]
     },
     "execution_count": 175,
     "metadata": {},
     "output_type": "execute_result"
    }
   ],
   "source": [
    "sum(powers)"
   ]
  }
 ],
 "metadata": {
  "kernelspec": {
   "display_name": "Python 3",
   "language": "python",
   "name": "python3"
  },
  "language_info": {
   "codemirror_mode": {
    "name": "ipython",
    "version": 3
   },
   "file_extension": ".py",
   "mimetype": "text/x-python",
   "name": "python",
   "nbconvert_exporter": "python",
   "pygments_lexer": "ipython3",
   "version": "3.11.3"
  }
 },
 "nbformat": 4,
 "nbformat_minor": 2
}
