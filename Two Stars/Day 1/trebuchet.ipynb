{
 "cells": [
  {
   "cell_type": "markdown",
   "metadata": {},
   "source": [
    "# Stars: *"
   ]
  },
  {
   "cell_type": "markdown",
   "metadata": {},
   "source": [
    "### Day 1: Trebuchet?!\n",
    "\n",
    "#### Part 1"
   ]
  },
  {
   "cell_type": "code",
   "execution_count": 1,
   "metadata": {},
   "outputs": [],
   "source": [
    "# import libraries\n",
    "import re"
   ]
  },
  {
   "cell_type": "code",
   "execution_count": 108,
   "metadata": {},
   "outputs": [],
   "source": [
    "# read all lines in text file\n",
    "with open(\"input.txt\", \"r\") as file:\n",
    "    lines = file.readlines()"
   ]
  },
  {
   "cell_type": "code",
   "execution_count": 109,
   "metadata": {},
   "outputs": [],
   "source": [
    "# remove newline text from each line\n",
    "lines = [line.rstrip(\"\\n\") for line in lines]"
   ]
  },
  {
   "cell_type": "code",
   "execution_count": 110,
   "metadata": {},
   "outputs": [],
   "source": [
    "# remove non-numeric values from each line\n",
    "numbers = []\n",
    "for line in lines:\n",
    "    number_list = re.findall(r'\\d', line)\n",
    "    number_all = ''.join(number_list)\n",
    "    first = number_all[0]\n",
    "    last = number_all[-1]\n",
    "    number = int(first + last)\n",
    "    numbers.append(number)\n",
    "# numbers"
   ]
  },
  {
   "cell_type": "code",
   "execution_count": 111,
   "metadata": {},
   "outputs": [
    {
     "data": {
      "text/plain": [
       "55208"
      ]
     },
     "execution_count": 111,
     "metadata": {},
     "output_type": "execute_result"
    }
   ],
   "source": [
    "# sum all values in list\n",
    "sum(numbers)"
   ]
  },
  {
   "cell_type": "markdown",
   "metadata": {},
   "source": [
    "#### Part 2"
   ]
  },
  {
   "cell_type": "code",
   "execution_count": 183,
   "metadata": {},
   "outputs": [],
   "source": [
    "# read all lines in text file\n",
    "with open(\"input.txt\", \"r\") as file:\n",
    "    lines = file.readlines()\n",
    "\n",
    "# remove newline text from each line\n",
    "lines = [line.rstrip(\"\\n\") for line in lines]"
   ]
  },
  {
   "cell_type": "code",
   "execution_count": 184,
   "metadata": {},
   "outputs": [],
   "source": [
    "number_dict = {\n",
    "    'one': 1,\n",
    "    'two': 2,\n",
    "    'three': 3,\n",
    "    'four': 4,\n",
    "    'five': 5,\n",
    "    'six': 6,\n",
    "    'seven': 7,\n",
    "    'eight': 8,\n",
    "    'nine': 9\n",
    "}\n",
    "num_words = number_dict.keys()"
   ]
  },
  {
   "cell_type": "code",
   "execution_count": 182,
   "metadata": {},
   "outputs": [
    {
     "data": {
      "text/plain": [
       "54578"
      ]
     },
     "execution_count": 182,
     "metadata": {},
     "output_type": "execute_result"
    }
   ],
   "source": [
    "numbers = []\n",
    "for line in lines:\n",
    "    \n",
    "    # get first num\n",
    "    string = \"\"\n",
    "    for char in line:\n",
    "        string += char \n",
    "        ends_with_word = any(string.endswith(num_word) for num_word in num_words)\n",
    "        if ends_with_word:\n",
    "            for num_word in num_words:\n",
    "                if string.endswith(num_word):\n",
    "                    start_num = number_dict[num_word]\n",
    "            break\n",
    "        if char.isdigit():\n",
    "            start_num = char\n",
    "            break\n",
    "\n",
    "    # get last num\n",
    "    string = \"\"\n",
    "    for char in reversed(line):\n",
    "        string = char + string \n",
    "        starts_with_word = any(string.startswith(num_word) for num_word in num_words)\n",
    "        if starts_with_word:\n",
    "            for num_word in num_words:\n",
    "                if string.startswith(num_word):\n",
    "                    end_num = number_dict[num_word]\n",
    "            break\n",
    "        if char.isdigit():\n",
    "            end_num = char\n",
    "            break\n",
    "    \n",
    "    number = int(str(start_num) + str(end_num))\n",
    "    numbers.append(number)\n",
    "    \n",
    "sum(numbers)\n",
    "\n",
    "# 54529 - too low\n",
    "# 54572 - incorrect\n",
    "# 54578 - correct"
   ]
  }
 ],
 "metadata": {
  "kernelspec": {
   "display_name": "Python 3",
   "language": "python",
   "name": "python3"
  },
  "language_info": {
   "codemirror_mode": {
    "name": "ipython",
    "version": 3
   },
   "file_extension": ".py",
   "mimetype": "text/x-python",
   "name": "python",
   "nbconvert_exporter": "python",
   "pygments_lexer": "ipython3",
   "version": "3.11.3"
  }
 },
 "nbformat": 4,
 "nbformat_minor": 2
}
