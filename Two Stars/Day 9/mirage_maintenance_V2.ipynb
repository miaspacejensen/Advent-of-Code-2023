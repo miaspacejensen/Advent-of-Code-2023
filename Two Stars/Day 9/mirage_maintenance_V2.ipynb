{
 "cells": [
  {
   "cell_type": "markdown",
   "metadata": {},
   "source": [
    "# Stars: **\n",
    "\n",
    "### Day 9: Mirage Maintenance\n",
    "\n",
    "#### Part 1"
   ]
  },
  {
   "cell_type": "code",
   "execution_count": 25,
   "metadata": {},
   "outputs": [],
   "source": [
    "def read_lines(file_name):\n",
    "    # read all lines in text file\n",
    "    with open(file_name, \"r\") as file:\n",
    "        lines = file.readlines() \n",
    "\n",
    "    # remove newline text from each line\n",
    "    lines = [line.rstrip(\"\\n\").split(\" \") for line in lines]\n",
    "    lines = [[int(val) for val in line] for line in lines]\n",
    "    return lines"
   ]
  },
  {
   "cell_type": "code",
   "execution_count": 26,
   "metadata": {},
   "outputs": [],
   "source": [
    "def extrapolate(line):\n",
    "    \n",
    "    # sliding window \n",
    "    differences = [next_val - current_val for current_val, next_val in zip(line, line[1:])]\n",
    "\n",
    "    if line:\n",
    "        return line[-1] + extrapolate(differences)\n",
    "    \n",
    "    else:\n",
    "        return 0\n"
   ]
  },
  {
   "cell_type": "code",
   "execution_count": 27,
   "metadata": {},
   "outputs": [
    {
     "name": "stdout",
     "output_type": "stream",
     "text": [
      "1708206096\n"
     ]
    }
   ],
   "source": [
    "lines = read_lines(\"input.txt\")\n",
    "\n",
    "total = 0\n",
    "for line in lines:\n",
    "    next_val = extrapolate(line)\n",
    "    total += next_val\n",
    "\n",
    "print(total)"
   ]
  },
  {
   "cell_type": "markdown",
   "metadata": {},
   "source": [
    "#### Part 2"
   ]
  },
  {
   "cell_type": "code",
   "execution_count": 41,
   "metadata": {},
   "outputs": [],
   "source": [
    "def reverse_input(lines):\n",
    "    reversed_lines = []\n",
    "    for line in lines:\n",
    "        line = line[::-1]\n",
    "        reversed_lines.append(line)\n",
    "    return reversed_lines"
   ]
  },
  {
   "cell_type": "code",
   "execution_count": 44,
   "metadata": {},
   "outputs": [
    {
     "name": "stdout",
     "output_type": "stream",
     "text": [
      "1050\n"
     ]
    }
   ],
   "source": [
    "lines = read_lines(\"input.txt\")\n",
    "lines = reverse_input(lines)\n",
    "\n",
    "total = 0\n",
    "for line in lines:\n",
    "    next_val = extrapolate(line)\n",
    "    total += next_val\n",
    "\n",
    "print(total)"
   ]
  }
 ],
 "metadata": {
  "kernelspec": {
   "display_name": "Python 3",
   "language": "python",
   "name": "python3"
  },
  "language_info": {
   "codemirror_mode": {
    "name": "ipython",
    "version": 3
   },
   "file_extension": ".py",
   "mimetype": "text/x-python",
   "name": "python",
   "nbconvert_exporter": "python",
   "pygments_lexer": "ipython3",
   "version": "3.11.3"
  }
 },
 "nbformat": 4,
 "nbformat_minor": 2
}
