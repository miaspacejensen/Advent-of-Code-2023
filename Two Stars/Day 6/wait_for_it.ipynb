{
 "cells": [
  {
   "cell_type": "markdown",
   "metadata": {},
   "source": [
    "# Stars: **"
   ]
  },
  {
   "cell_type": "markdown",
   "metadata": {},
   "source": [
    "### Day 6: Wait For It\n",
    "\n",
    "#### Part 1"
   ]
  },
  {
   "cell_type": "code",
   "execution_count": 1,
   "metadata": {},
   "outputs": [],
   "source": [
    "import pandas as pd\n",
    "from functools import reduce"
   ]
  },
  {
   "cell_type": "code",
   "execution_count": 2,
   "metadata": {},
   "outputs": [],
   "source": [
    "# read all lines in text file\n",
    "with open(\"test_input.txt\", \"r\") as file:\n",
    "    lines = file.readlines() \n",
    "    \n",
    "# remove newline text from each line\n",
    "lines = [line.rstrip(\"\\n\") for line in lines]"
   ]
  },
  {
   "cell_type": "code",
   "execution_count": 3,
   "metadata": {},
   "outputs": [
    {
     "data": {
      "text/html": [
       "<div>\n",
       "<style scoped>\n",
       "    .dataframe tbody tr th:only-of-type {\n",
       "        vertical-align: middle;\n",
       "    }\n",
       "\n",
       "    .dataframe tbody tr th {\n",
       "        vertical-align: top;\n",
       "    }\n",
       "\n",
       "    .dataframe thead th {\n",
       "        text-align: right;\n",
       "    }\n",
       "</style>\n",
       "<table border=\"1\" class=\"dataframe\">\n",
       "  <thead>\n",
       "    <tr style=\"text-align: right;\">\n",
       "      <th></th>\n",
       "      <th>Race</th>\n",
       "      <th>Time</th>\n",
       "      <th>Distance</th>\n",
       "    </tr>\n",
       "  </thead>\n",
       "  <tbody>\n",
       "    <tr>\n",
       "      <th>0</th>\n",
       "      <td>1</td>\n",
       "      <td>7</td>\n",
       "      <td>9</td>\n",
       "    </tr>\n",
       "    <tr>\n",
       "      <th>1</th>\n",
       "      <td>2</td>\n",
       "      <td>15</td>\n",
       "      <td>40</td>\n",
       "    </tr>\n",
       "    <tr>\n",
       "      <th>2</th>\n",
       "      <td>3</td>\n",
       "      <td>30</td>\n",
       "      <td>200</td>\n",
       "    </tr>\n",
       "  </tbody>\n",
       "</table>\n",
       "</div>"
      ],
      "text/plain": [
       "   Race Time Distance\n",
       "0     1    7        9\n",
       "1     2   15       40\n",
       "2     3   30      200"
      ]
     },
     "execution_count": 3,
     "metadata": {},
     "output_type": "execute_result"
    }
   ],
   "source": [
    "# convert to more usable format\n",
    "dic = {}\n",
    "for line in lines:\n",
    "    split_line = line.split(\":\")\n",
    "    name = split_line[0]\n",
    "    content = split_line[1].split(\" \")\n",
    "    content = [val for val in content if val]\n",
    "    dic[name] = content\n",
    "\n",
    "df = pd.DataFrame(dic).reset_index()\n",
    "df = df.rename(columns={'index': 'Race'})\n",
    "df[\"Race\"] += 1\n",
    "df"
   ]
  },
  {
   "cell_type": "code",
   "execution_count": 4,
   "metadata": {},
   "outputs": [],
   "source": [
    "# Example\n",
    "\n",
    "# options_7 = {\n",
    "#     0: 0,   # 0 millimeter per millisecond for 7 milliseconds\n",
    "#     1: 6,   # 1 millimeter per millisecond for 6 milliseconds\n",
    "#     2: 10,  # 2 millimeter per millisecond for 5 milliseconds\n",
    "#     3: 12,  # 3 millimeter per millisecond for 4 milliseconds\n",
    "#     4: 12,  # 4 millimeter per millisecond for 3 milliseconds\n",
    "#     5: 10,  # 5 millimeter per millisecond for 2 milliseconds\n",
    "#     6: 6,   # 6 millimeter per millisecond for 1 milliseconds\n",
    "#     7: 0    # 7 millimeter per millisecond for 0 milliseconds\n",
    "# }"
   ]
  },
  {
   "cell_type": "code",
   "execution_count": 5,
   "metadata": {},
   "outputs": [
    {
     "data": {
      "text/html": [
       "<div>\n",
       "<style scoped>\n",
       "    .dataframe tbody tr th:only-of-type {\n",
       "        vertical-align: middle;\n",
       "    }\n",
       "\n",
       "    .dataframe tbody tr th {\n",
       "        vertical-align: top;\n",
       "    }\n",
       "\n",
       "    .dataframe thead th {\n",
       "        text-align: right;\n",
       "    }\n",
       "</style>\n",
       "<table border=\"1\" class=\"dataframe\">\n",
       "  <thead>\n",
       "    <tr style=\"text-align: right;\">\n",
       "      <th></th>\n",
       "      <th>Race</th>\n",
       "      <th>Time</th>\n",
       "      <th>Distance</th>\n",
       "      <th>Ways To Win</th>\n",
       "    </tr>\n",
       "  </thead>\n",
       "  <tbody>\n",
       "    <tr>\n",
       "      <th>0</th>\n",
       "      <td>1</td>\n",
       "      <td>7</td>\n",
       "      <td>9</td>\n",
       "      <td>4</td>\n",
       "    </tr>\n",
       "    <tr>\n",
       "      <th>1</th>\n",
       "      <td>2</td>\n",
       "      <td>15</td>\n",
       "      <td>40</td>\n",
       "      <td>8</td>\n",
       "    </tr>\n",
       "    <tr>\n",
       "      <th>2</th>\n",
       "      <td>3</td>\n",
       "      <td>30</td>\n",
       "      <td>200</td>\n",
       "      <td>9</td>\n",
       "    </tr>\n",
       "  </tbody>\n",
       "</table>\n",
       "</div>"
      ],
      "text/plain": [
       "   Race Time Distance  Ways To Win\n",
       "0     1    7        9            4\n",
       "1     2   15       40            8\n",
       "2     3   30      200            9"
      ]
     },
     "execution_count": 5,
     "metadata": {},
     "output_type": "execute_result"
    }
   ],
   "source": [
    "WaysToWin = []\n",
    "for index, row in df.iterrows():\n",
    "\n",
    "    race = int(row[\"Race\"])\n",
    "    time_allowed = int(row[\"Time\"])\n",
    "    record_dist = int(row[\"Distance\"])\n",
    "    # print(f\"Race {race} \\nTime allowed = {time_allowed}ms \\nRecord distance = {record_dist}mm\")\n",
    "\n",
    "    wins = 0\n",
    "    for time in range(time_allowed+1):\n",
    "        ms = time_allowed - time\n",
    "        dist = time * ms\n",
    "        # pair = (time, dist)\n",
    "        # print(f\"    {pair} \\t(where speed is {time} mm/ms, for {ms} ms)\")\n",
    "        if dist > record_dist:\n",
    "            wins += 1\n",
    "        # dists.append(pair)\n",
    "    \n",
    "    WaysToWin.append(wins)\n",
    "\n",
    "df[\"Ways To Win\"] = WaysToWin\n",
    "df"
   ]
  },
  {
   "cell_type": "code",
   "execution_count": 6,
   "metadata": {},
   "outputs": [
    {
     "data": {
      "text/plain": [
       "288"
      ]
     },
     "execution_count": 6,
     "metadata": {},
     "output_type": "execute_result"
    }
   ],
   "source": [
    "reduce(lambda x, y: x*y, WaysToWin)"
   ]
  },
  {
   "cell_type": "markdown",
   "metadata": {},
   "source": [
    "#### Part 2"
   ]
  },
  {
   "cell_type": "code",
   "execution_count": 7,
   "metadata": {},
   "outputs": [],
   "source": [
    "import re\n",
    "from tqdm import tqdm"
   ]
  },
  {
   "cell_type": "code",
   "execution_count": 8,
   "metadata": {},
   "outputs": [
    {
     "data": {
      "text/plain": [
       "['Time:        59     79     65     75',\n",
       " 'Distance:   597   1234   1032   1328']"
      ]
     },
     "execution_count": 8,
     "metadata": {},
     "output_type": "execute_result"
    }
   ],
   "source": [
    "# read all lines in text file\n",
    "with open(\"input.txt\", \"r\") as file:\n",
    "    lines = file.readlines() \n",
    "    \n",
    "# remove newline text from each line\n",
    "lines = [line.rstrip(\"\\n\") for line in lines]\n",
    "lines"
   ]
  },
  {
   "cell_type": "code",
   "execution_count": 9,
   "metadata": {},
   "outputs": [
    {
     "data": {
      "text/plain": [
       "{'Time': '59796575', 'Distance': '597123410321328'}"
      ]
     },
     "execution_count": 9,
     "metadata": {},
     "output_type": "execute_result"
    }
   ],
   "source": [
    "dic = {}\n",
    "for line in lines:\n",
    "    split_line = line.split(\":\")\n",
    "    name = split_line[0]\n",
    "    content = split_line[1]\n",
    "    clean_content = re.sub(r'\\s+', '', content)\n",
    "    dic[name] = clean_content\n",
    "dic"
   ]
  },
  {
   "cell_type": "code",
   "execution_count": 11,
   "metadata": {},
   "outputs": [
    {
     "name": "stdout",
     "output_type": "stream",
     "text": [
      "Race 1 \n",
      "Time allowed = 59796575ms \n",
      "Record distance = 597123410321328mm\n"
     ]
    },
    {
     "name": "stderr",
     "output_type": "stream",
     "text": [
      "100%|██████████| 59796576/59796576 [00:12<00:00, 4974439.82it/s]\n"
     ]
    },
    {
     "data": {
      "text/plain": [
       "34454850"
      ]
     },
     "execution_count": 11,
     "metadata": {},
     "output_type": "execute_result"
    }
   ],
   "source": [
    "race = 1\n",
    "time_allowed = int(dic[\"Time\"])\n",
    "record_dist = int(dic[\"Distance\"])\n",
    "print(f\"Race {race} \\nTime allowed = {time_allowed}ms \\nRecord distance = {record_dist}mm\")\n",
    "\n",
    "wins = 0\n",
    "for time in tqdm(range(time_allowed+1)):\n",
    "    ms = time_allowed - time\n",
    "    dist = time * ms\n",
    "    if dist > record_dist:\n",
    "        wins += 1\n",
    "\n",
    "wins"
   ]
  },
  {
   "cell_type": "code",
   "execution_count": null,
   "metadata": {},
   "outputs": [],
   "source": []
  }
 ],
 "metadata": {
  "kernelspec": {
   "display_name": "Python 3",
   "language": "python",
   "name": "python3"
  },
  "language_info": {
   "codemirror_mode": {
    "name": "ipython",
    "version": 3
   },
   "file_extension": ".py",
   "mimetype": "text/x-python",
   "name": "python",
   "nbconvert_exporter": "python",
   "pygments_lexer": "ipython3",
   "version": "3.11.3"
  }
 },
 "nbformat": 4,
 "nbformat_minor": 2
}
