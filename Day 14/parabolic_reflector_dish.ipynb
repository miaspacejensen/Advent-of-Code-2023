{
 "cells": [
  {
   "cell_type": "markdown",
   "metadata": {},
   "source": [
    "# Stars: \n",
    "\n",
    "### Day 14: Parabolic Reflector Dish\n",
    "\n",
    "#### Part 1"
   ]
  },
  {
   "cell_type": "code",
   "execution_count": 2,
   "metadata": {},
   "outputs": [],
   "source": [
    "import numpy as np"
   ]
  },
  {
   "cell_type": "code",
   "execution_count": 3,
   "metadata": {},
   "outputs": [
    {
     "data": {
      "text/plain": [
       "[['O', '.', '.', '.', '.', '#', '.', '.', '.', '.'],\n",
       " ['O', '.', 'O', 'O', '#', '.', '.', '.', '.', '#'],\n",
       " ['.', '.', '.', '.', '.', '#', '#', '.', '.', '.'],\n",
       " ['O', 'O', '.', '#', 'O', '.', '.', '.', '.', 'O'],\n",
       " ['.', 'O', '.', '.', '.', '.', '.', 'O', '#', '.'],\n",
       " ['O', '.', '#', '.', '.', 'O', '.', '#', '.', '#'],\n",
       " ['.', '.', 'O', '.', '.', '#', 'O', '.', '.', 'O'],\n",
       " ['.', '.', '.', '.', '.', '.', '.', 'O', '.', '.'],\n",
       " ['#', '.', '.', '.', '.', '#', '#', '#', '.', '.'],\n",
       " ['#', 'O', 'O', '.', '.', '#', '.', '.', '.', '.']]"
      ]
     },
     "execution_count": 3,
     "metadata": {},
     "output_type": "execute_result"
    }
   ],
   "source": [
    "# read all lines in text file\n",
    "with open(\"test_input.txt\", \"r\") as file:\n",
    "    lines = file.read() \n",
    "\n",
    "lines = lines.split(\"\\n\")\n",
    "grid = [list(char) for char in lines]\n",
    "grid"
   ]
  },
  {
   "cell_type": "code",
   "execution_count": 4,
   "metadata": {},
   "outputs": [],
   "source": [
    "def display_grid(grid):\n",
    "    for row in grid:\n",
    "        print(\"\".join(row))"
   ]
  },
  {
   "cell_type": "code",
   "execution_count": 5,
   "metadata": {},
   "outputs": [
    {
     "data": {
      "text/plain": [
       "[['O', 'O', '.', 'O', '.', 'O', '.', '.', '#', '#'],\n",
       " ['.', '.', '.', 'O', 'O', '.', '.', '.', '.', 'O'],\n",
       " ['.', 'O', '.', '.', '.', '#', 'O', '.', '.', 'O'],\n",
       " ['.', 'O', '.', '#', '.', '.', '.', '.', '.', '.'],\n",
       " ['.', '#', '.', 'O', '.', '.', '.', '.', '.', '.'],\n",
       " ['#', '.', '#', '.', '.', 'O', '#', '.', '#', '#'],\n",
       " ['.', '.', '#', '.', '.', '.', 'O', '.', '#', '.'],\n",
       " ['.', '.', '.', '.', 'O', '#', '.', 'O', '#', '.'],\n",
       " ['.', '.', '.', '.', '#', '.', '.', '.', '.', '.'],\n",
       " ['.', '#', '.', 'O', '.', '#', 'O', '.', '.', '.']]"
      ]
     },
     "execution_count": 5,
     "metadata": {},
     "output_type": "execute_result"
    }
   ],
   "source": [
    "grid_t = np.transpose(grid).tolist()\n",
    "grid_t"
   ]
  },
  {
   "cell_type": "code",
   "execution_count": 6,
   "metadata": {},
   "outputs": [
    {
     "name": "stdout",
     "output_type": "stream",
     "text": [
      "Shape: 10 10\n"
     ]
    }
   ],
   "source": [
    "n_rows = len(grid)\n",
    "n_cols = len(grid[0])\n",
    "print(\"Shape:\", n_rows, n_cols)"
   ]
  },
  {
   "cell_type": "code",
   "execution_count": 7,
   "metadata": {},
   "outputs": [],
   "source": [
    "# test_grid = grid.copy()\n",
    "# test_grid_t = grid_t.copy()\n",
    "\n",
    "# new_line = []\n",
    "# for row, line in enumerate(testgrid_t_grid_t):\n",
    "#     for col, char in enumerate(line):\n",
    "#         if col==0:\n",
    "#             new_line.append(char)\n",
    "#         elif char == 'O':\n",
    "#             new_line.append(char)\n",
    "#         elif char == \".\":\n",
    "#             new_line.append(char)\n",
    "\n",
    "#     break\n",
    "    \n",
    "\n",
    "# display_grid(test_grid_t)"
   ]
  },
  {
   "cell_type": "code",
   "execution_count": 8,
   "metadata": {},
   "outputs": [],
   "source": [
    "def bump_Os(row):\n",
    "\n",
    "    result = []\n",
    "    temp_list = []\n",
    "\n",
    "    for char in row:\n",
    "        if char == \"#\":\n",
    "            temp_list.append(char)\n",
    "            result.append(temp_list)\n",
    "            temp_list = []\n",
    "        else:\n",
    "            temp_list.append(char)\n",
    "        \n",
    "    if temp_list:\n",
    "        result.append(temp_list)\n",
    "        temp_list = []\n",
    "    \n",
    "    result2 = []\n",
    "    for i, group in enumerate(result):\n",
    "        O_vals = [char for char in group if char=='O']\n",
    "        non_O_vals = [char for char in group if char!='O']\n",
    "        new_group = O_vals + non_O_vals\n",
    "        result2 += new_group\n",
    "\n",
    "    return result2\n"
   ]
  },
  {
   "cell_type": "code",
   "execution_count": 9,
   "metadata": {},
   "outputs": [
    {
     "name": "stdout",
     "output_type": "stream",
     "text": [
      "OOOO.#.O..\n",
      "OO..#....#\n",
      "OO..O##..O\n",
      "O..#.OO...\n",
      "........#.\n",
      "..#....#.#\n",
      "..O..#.O.O\n",
      "..O.......\n",
      "#....###..\n",
      "#....#....\n"
     ]
    }
   ],
   "source": [
    "grid_t_bump = []\n",
    "for row in grid_t:\n",
    "    grid_t_bump.append(bump_Os(row))\n",
    "\n",
    "grid_bump = np.transpose(grid_t_bump).tolist()\n",
    "display_grid(grid_bump)"
   ]
  },
  {
   "cell_type": "code",
   "execution_count": 10,
   "metadata": {},
   "outputs": [
    {
     "data": {
      "text/plain": [
       "136"
      ]
     },
     "execution_count": 10,
     "metadata": {},
     "output_type": "execute_result"
    }
   ],
   "source": [
    "total_load = 0\n",
    "for i, row in enumerate(grid_bump):\n",
    "    load_val = len(grid_bump)-i\n",
    "    O_count = row.count(\"O\")\n",
    "    load = load_val * O_count\n",
    "    total_load += load\n",
    "total_load"
   ]
  },
  {
   "cell_type": "markdown",
   "metadata": {},
   "source": [
    "#### Part 2"
   ]
  },
  {
   "cell_type": "code",
   "execution_count": 33,
   "metadata": {},
   "outputs": [],
   "source": [
    "from tqdm import tqdm"
   ]
  },
  {
   "cell_type": "code",
   "execution_count": 212,
   "metadata": {},
   "outputs": [],
   "source": [
    "def read_input(file_name):\n",
    "    # read all lines in text file\n",
    "    with open(file_name, \"r\") as file:\n",
    "        lines = file.read() \n",
    "\n",
    "    lines = lines.split(\"\\n\")\n",
    "    grid = [list(char) for char in lines]\n",
    "    return grid"
   ]
  },
  {
   "cell_type": "code",
   "execution_count": 213,
   "metadata": {},
   "outputs": [],
   "source": [
    "def tilt_north(grid):\n",
    "    grid = np.transpose(grid).tolist()\n",
    "    return grid\n",
    "\n",
    "def tilt_south(grid, reverse = False):\n",
    "    if reverse == False:\n",
    "        grid = np.transpose(grid).tolist()\n",
    "        grid = [row[::-1] for row in grid]\n",
    "    else:\n",
    "        grid = [row[::-1] for row in grid]\n",
    "        grid = np.transpose(grid).tolist()\n",
    "    return grid\n",
    "\n",
    "def tilt_west(grid):\n",
    "    return grid\n",
    "\n",
    "def tilt_east(grid):\n",
    "    grid = [row[::-1] for row in grid]\n",
    "    return grid"
   ]
  },
  {
   "cell_type": "code",
   "execution_count": 214,
   "metadata": {},
   "outputs": [],
   "source": [
    "def bump_Os(row):\n",
    "\n",
    "    result = []\n",
    "    temp_list = []\n",
    "\n",
    "    for char in row:\n",
    "        if char == \"#\":\n",
    "            temp_list.append(char)\n",
    "            result.append(temp_list)\n",
    "            temp_list = []\n",
    "        else:\n",
    "            temp_list.append(char)\n",
    "        \n",
    "    if temp_list:\n",
    "        result.append(temp_list)\n",
    "        temp_list = []\n",
    "    \n",
    "    result2 = []\n",
    "    for i, group in enumerate(result):\n",
    "        O_vals = [char for char in group if char=='O']\n",
    "        non_O_vals = [char for char in group if char!='O']\n",
    "        new_group = O_vals + non_O_vals\n",
    "        result2 += new_group\n",
    "\n",
    "    return result2"
   ]
  },
  {
   "cell_type": "code",
   "execution_count": 215,
   "metadata": {},
   "outputs": [],
   "source": [
    "def bumped_grid(grid_t):\n",
    "    grid_t_bump = []\n",
    "    for row in grid_t:\n",
    "        grid_t_bump.append(bump_Os(row))\n",
    "\n",
    "    return grid_t_bump"
   ]
  },
  {
   "cell_type": "code",
   "execution_count": 216,
   "metadata": {},
   "outputs": [],
   "source": [
    "def grid_cycle_north(grid, display=False):\n",
    "    grid_north = tilt_north(grid)\n",
    "    grid_north_bump = bumped_grid(grid_north)\n",
    "    final_grid = tilt_north(grid_north_bump)\n",
    "    if display==True: display_grid(final_grid)\n",
    "    return final_grid\n",
    "\n",
    "def grid_cycle_west(grid, display=False):\n",
    "    grid_west = tilt_west(grid)\n",
    "    grid_west_bump = bumped_grid(grid_west)\n",
    "    final_grid = tilt_west(grid_west_bump)\n",
    "    if display==True: display_grid(final_grid)\n",
    "    return final_grid\n",
    "\n",
    "def grid_cycle_south(grid, display=False):\n",
    "    grid_south = tilt_south(grid)\n",
    "    grid_south_bump = bumped_grid(grid_south)\n",
    "    final_grid = tilt_south(grid_south_bump, reverse=True)\n",
    "    if display==True: display_grid(final_grid)\n",
    "    return final_grid\n",
    "\n",
    "def grid_cycle_east(grid, display=False):\n",
    "    grid_east = tilt_east(grid)\n",
    "    grid_east_bump = bumped_grid(grid_east)\n",
    "    final_grid = tilt_east(grid_east_bump)\n",
    "    if display==True: display_grid(final_grid)\n",
    "    return final_grid"
   ]
  },
  {
   "cell_type": "code",
   "execution_count": 263,
   "metadata": {},
   "outputs": [
    {
     "name": "stderr",
     "output_type": "stream",
     "text": [
      "  0%|          | 0/496 [00:00<?, ?it/s]"
     ]
    },
    {
     "name": "stderr",
     "output_type": "stream",
     "text": [
      "100%|██████████| 496/496 [00:05<00:00, 91.13it/s] "
     ]
    },
    {
     "name": "stdout",
     "output_type": "stream",
     "text": [
      "\n",
      "Total load = 99118\n"
     ]
    },
    {
     "name": "stderr",
     "output_type": "stream",
     "text": [
      "\n"
     ]
    }
   ],
   "source": [
    "current_grid = read_input(\"input.txt\")\n",
    "\n",
    "iter = 0\n",
    "max_iter = 1000000000 % (72*7)\n",
    "# grids start repeating every 7 cycles\n",
    "\n",
    "grids = {}\n",
    "\n",
    "for i in tqdm(range(max_iter)):\n",
    "\n",
    "    iter += 1\n",
    "    current_grid = grid_cycle_north(current_grid)\n",
    "    current_grid = grid_cycle_west(current_grid)\n",
    "    current_grid = grid_cycle_south(current_grid)\n",
    "    current_grid = grid_cycle_east(current_grid)\n",
    "    \n",
    "    if current_grid in grids.values():\n",
    "        iters = []\n",
    "        for key, value in grids.items():\n",
    "            if value == current_grid:\n",
    "                iters.append(key)\n",
    "        \n",
    "    grids[iter] = current_grid\n",
    "\n",
    "total_load = 0\n",
    "for i, row in enumerate(current_grid):\n",
    "    load_val = len(current_grid)-i\n",
    "    O_count = row.count(\"O\")\n",
    "    load = load_val * O_count\n",
    "    total_load += load\n",
    "    \n",
    "print(\"\\nTotal load =\", total_load)\n",
    "\n",
    "# 80052 - too low \n",
    "# 99503 - too high\n",
    "# 100525 - too high "
   ]
  }
 ],
 "metadata": {
  "kernelspec": {
   "display_name": "Python 3",
   "language": "python",
   "name": "python3"
  },
  "language_info": {
   "codemirror_mode": {
    "name": "ipython",
    "version": 3
   },
   "file_extension": ".py",
   "mimetype": "text/x-python",
   "name": "python",
   "nbconvert_exporter": "python",
   "pygments_lexer": "ipython3",
   "version": "3.11.3"
  }
 },
 "nbformat": 4,
 "nbformat_minor": 2
}
