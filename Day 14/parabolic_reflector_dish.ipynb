{
 "cells": [
  {
   "cell_type": "markdown",
   "metadata": {},
   "source": [
    "# Stars: \n",
    "\n",
    "### Day 14: Parabolic Reflector Dish\n",
    "\n",
    "#### Part 1"
   ]
  },
  {
   "cell_type": "code",
   "execution_count": 2,
   "metadata": {},
   "outputs": [],
   "source": [
    "import numpy as np"
   ]
  },
  {
   "cell_type": "code",
   "execution_count": 3,
   "metadata": {},
   "outputs": [
    {
     "data": {
      "text/plain": [
       "[['O', '.', '.', '.', '.', '#', '.', '.', '.', '.'],\n",
       " ['O', '.', 'O', 'O', '#', '.', '.', '.', '.', '#'],\n",
       " ['.', '.', '.', '.', '.', '#', '#', '.', '.', '.'],\n",
       " ['O', 'O', '.', '#', 'O', '.', '.', '.', '.', 'O'],\n",
       " ['.', 'O', '.', '.', '.', '.', '.', 'O', '#', '.'],\n",
       " ['O', '.', '#', '.', '.', 'O', '.', '#', '.', '#'],\n",
       " ['.', '.', 'O', '.', '.', '#', 'O', '.', '.', 'O'],\n",
       " ['.', '.', '.', '.', '.', '.', '.', 'O', '.', '.'],\n",
       " ['#', '.', '.', '.', '.', '#', '#', '#', '.', '.'],\n",
       " ['#', 'O', 'O', '.', '.', '#', '.', '.', '.', '.']]"
      ]
     },
     "execution_count": 3,
     "metadata": {},
     "output_type": "execute_result"
    }
   ],
   "source": [
    "# read all lines in text file\n",
    "with open(\"test_input.txt\", \"r\") as file:\n",
    "    lines = file.read() \n",
    "\n",
    "lines = lines.split(\"\\n\")\n",
    "grid = [list(char) for char in lines]\n",
    "grid"
   ]
  },
  {
   "cell_type": "code",
   "execution_count": 4,
   "metadata": {},
   "outputs": [],
   "source": [
    "def display_grid(grid):\n",
    "    for row in grid:\n",
    "        print(\"\".join(row))"
   ]
  },
  {
   "cell_type": "code",
   "execution_count": 5,
   "metadata": {},
   "outputs": [
    {
     "data": {
      "text/plain": [
       "[['O', 'O', '.', 'O', '.', 'O', '.', '.', '#', '#'],\n",
       " ['.', '.', '.', 'O', 'O', '.', '.', '.', '.', 'O'],\n",
       " ['.', 'O', '.', '.', '.', '#', 'O', '.', '.', 'O'],\n",
       " ['.', 'O', '.', '#', '.', '.', '.', '.', '.', '.'],\n",
       " ['.', '#', '.', 'O', '.', '.', '.', '.', '.', '.'],\n",
       " ['#', '.', '#', '.', '.', 'O', '#', '.', '#', '#'],\n",
       " ['.', '.', '#', '.', '.', '.', 'O', '.', '#', '.'],\n",
       " ['.', '.', '.', '.', 'O', '#', '.', 'O', '#', '.'],\n",
       " ['.', '.', '.', '.', '#', '.', '.', '.', '.', '.'],\n",
       " ['.', '#', '.', 'O', '.', '#', 'O', '.', '.', '.']]"
      ]
     },
     "execution_count": 5,
     "metadata": {},
     "output_type": "execute_result"
    }
   ],
   "source": [
    "grid_t = np.transpose(grid).tolist()\n",
    "grid_t"
   ]
  },
  {
   "cell_type": "code",
   "execution_count": 6,
   "metadata": {},
   "outputs": [
    {
     "name": "stdout",
     "output_type": "stream",
     "text": [
      "Shape: 10 10\n"
     ]
    }
   ],
   "source": [
    "n_rows = len(grid)\n",
    "n_cols = len(grid[0])\n",
    "print(\"Shape:\", n_rows, n_cols)"
   ]
  },
  {
   "cell_type": "code",
   "execution_count": 7,
   "metadata": {},
   "outputs": [],
   "source": [
    "# test_grid = grid.copy()\n",
    "# test_grid_t = grid_t.copy()\n",
    "\n",
    "# new_line = []\n",
    "# for row, line in enumerate(testgrid_t_grid_t):\n",
    "#     for col, char in enumerate(line):\n",
    "#         if col==0:\n",
    "#             new_line.append(char)\n",
    "#         elif char == 'O':\n",
    "#             new_line.append(char)\n",
    "#         elif char == \".\":\n",
    "#             new_line.append(char)\n",
    "\n",
    "#     break\n",
    "    \n",
    "\n",
    "# display_grid(test_grid_t)"
   ]
  },
  {
   "cell_type": "code",
   "execution_count": 8,
   "metadata": {},
   "outputs": [],
   "source": [
    "def bump_Os(row):\n",
    "\n",
    "    result = []\n",
    "    temp_list = []\n",
    "\n",
    "    for char in row:\n",
    "        if char == \"#\":\n",
    "            temp_list.append(char)\n",
    "            result.append(temp_list)\n",
    "            temp_list = []\n",
    "        else:\n",
    "            temp_list.append(char)\n",
    "        \n",
    "    if temp_list:\n",
    "        result.append(temp_list)\n",
    "        temp_list = []\n",
    "    \n",
    "    result2 = []\n",
    "    for i, group in enumerate(result):\n",
    "        O_vals = [char for char in group if char=='O']\n",
    "        non_O_vals = [char for char in group if char!='O']\n",
    "        new_group = O_vals + non_O_vals\n",
    "        result2 += new_group\n",
    "\n",
    "    return result2\n"
   ]
  },
  {
   "cell_type": "code",
   "execution_count": 9,
   "metadata": {},
   "outputs": [
    {
     "name": "stdout",
     "output_type": "stream",
     "text": [
      "OOOO.#.O..\n",
      "OO..#....#\n",
      "OO..O##..O\n",
      "O..#.OO...\n",
      "........#.\n",
      "..#....#.#\n",
      "..O..#.O.O\n",
      "..O.......\n",
      "#....###..\n",
      "#....#....\n"
     ]
    }
   ],
   "source": [
    "grid_t_bump = []\n",
    "for row in grid_t:\n",
    "    grid_t_bump.append(bump_Os(row))\n",
    "\n",
    "grid_bump = np.transpose(grid_t_bump).tolist()\n",
    "display_grid(grid_bump)"
   ]
  },
  {
   "cell_type": "code",
   "execution_count": 10,
   "metadata": {},
   "outputs": [
    {
     "data": {
      "text/plain": [
       "136"
      ]
     },
     "execution_count": 10,
     "metadata": {},
     "output_type": "execute_result"
    }
   ],
   "source": [
    "total_load = 0\n",
    "for i, row in enumerate(grid_bump):\n",
    "    load_val = len(grid_bump)-i\n",
    "    O_count = row.count(\"O\")\n",
    "    load = load_val * O_count\n",
    "    total_load += load\n",
    "total_load"
   ]
  },
  {
   "cell_type": "markdown",
   "metadata": {},
   "source": [
    "#### Part 2"
   ]
  },
  {
   "cell_type": "code",
   "execution_count": 33,
   "metadata": {},
   "outputs": [],
   "source": [
    "from tqdm import tqdm"
   ]
  },
  {
   "cell_type": "code",
   "execution_count": 212,
   "metadata": {},
   "outputs": [],
   "source": [
    "def read_input(file_name):\n",
    "    # read all lines in text file\n",
    "    with open(file_name, \"r\") as file:\n",
    "        lines = file.read() \n",
    "\n",
    "    lines = lines.split(\"\\n\")\n",
    "    grid = [list(char) for char in lines]\n",
    "    return grid"
   ]
  },
  {
   "cell_type": "code",
   "execution_count": 213,
   "metadata": {},
   "outputs": [],
   "source": [
    "def tilt_north(grid):\n",
    "    grid = np.transpose(grid).tolist()\n",
    "    return grid\n",
    "\n",
    "def tilt_south(grid, reverse = False):\n",
    "    if reverse == False:\n",
    "        grid = np.transpose(grid).tolist()\n",
    "        grid = [row[::-1] for row in grid]\n",
    "    else:\n",
    "        grid = [row[::-1] for row in grid]\n",
    "        grid = np.transpose(grid).tolist()\n",
    "    return grid\n",
    "\n",
    "def tilt_west(grid):\n",
    "    return grid\n",
    "\n",
    "def tilt_east(grid):\n",
    "    grid = [row[::-1] for row in grid]\n",
    "    return grid"
   ]
  },
  {
   "cell_type": "code",
   "execution_count": 214,
   "metadata": {},
   "outputs": [],
   "source": [
    "def bump_Os(row):\n",
    "\n",
    "    result = []\n",
    "    temp_list = []\n",
    "\n",
    "    for char in row:\n",
    "        if char == \"#\":\n",
    "            temp_list.append(char)\n",
    "            result.append(temp_list)\n",
    "            temp_list = []\n",
    "        else:\n",
    "            temp_list.append(char)\n",
    "        \n",
    "    if temp_list:\n",
    "        result.append(temp_list)\n",
    "        temp_list = []\n",
    "    \n",
    "    result2 = []\n",
    "    for i, group in enumerate(result):\n",
    "        O_vals = [char for char in group if char=='O']\n",
    "        non_O_vals = [char for char in group if char!='O']\n",
    "        new_group = O_vals + non_O_vals\n",
    "        result2 += new_group\n",
    "\n",
    "    return result2"
   ]
  },
  {
   "cell_type": "code",
   "execution_count": 215,
   "metadata": {},
   "outputs": [],
   "source": [
    "def bumped_grid(grid_t):\n",
    "    grid_t_bump = []\n",
    "    for row in grid_t:\n",
    "        grid_t_bump.append(bump_Os(row))\n",
    "\n",
    "    return grid_t_bump"
   ]
  },
  {
   "cell_type": "code",
   "execution_count": 216,
   "metadata": {},
   "outputs": [],
   "source": [
    "def grid_cycle_north(grid, display=False):\n",
    "    grid_north = tilt_north(grid)\n",
    "    grid_north_bump = bumped_grid(grid_north)\n",
    "    final_grid = tilt_north(grid_north_bump)\n",
    "    if display==True: display_grid(final_grid)\n",
    "    return final_grid\n",
    "\n",
    "def grid_cycle_west(grid, display=False):\n",
    "    grid_west = tilt_west(grid)\n",
    "    grid_west_bump = bumped_grid(grid_west)\n",
    "    final_grid = tilt_west(grid_west_bump)\n",
    "    if display==True: display_grid(final_grid)\n",
    "    return final_grid\n",
    "\n",
    "def grid_cycle_south(grid, display=False):\n",
    "    grid_south = tilt_south(grid)\n",
    "    grid_south_bump = bumped_grid(grid_south)\n",
    "    final_grid = tilt_south(grid_south_bump, reverse=True)\n",
    "    if display==True: display_grid(final_grid)\n",
    "    return final_grid\n",
    "\n",
    "def grid_cycle_east(grid, display=False):\n",
    "    grid_east = tilt_east(grid)\n",
    "    grid_east_bump = bumped_grid(grid_east)\n",
    "    final_grid = tilt_east(grid_east_bump)\n",
    "    if display==True: display_grid(final_grid)\n",
    "    return final_grid"
   ]
  },
  {
   "cell_type": "code",
   "execution_count": 222,
   "metadata": {},
   "outputs": [
    {
     "name": "stderr",
     "output_type": "stream",
     "text": [
      "100%|██████████| 6/6 [00:00<00:00, 83.00it/s]"
     ]
    },
    {
     "name": "stdout",
     "output_type": "stream",
     "text": [
      ".....#...#.O#..O#........#...OO##....O###..O##............OO##..##.#...#........OO#..#.....O#......O 100\n",
      "....O###...OOO#.#.....O##.OO##......OO##.......OO#..##.#..#.............O#.###..OO#.#..#.#........OO 99\n",
      "......OO#.#..##.........OO###.O#.#.........#......OO#.#.##........O#........O###.......#..#..OO#.... 98\n",
      ".O#.....OOOO#.#.#.#....#..#........OOO#....##.........OOO#...........OO#..O#..............OOOOOOOOO# 97\n",
      ".O#..OO#.....O#...O###.......O#.##...O#...OO#..#O#.......OOO#.........OO#.......OOOO##...#...#.OO##. 96\n",
      "O#......OOOO#....O#.#...................OOOOOOOOO#......OOOO#..............OOOOO#.......OO#...#...OO 95\n",
      ".OOO#...#.......OOOOOOOO#..#....OO#.#..O#....OOO#.OO#...O##....O#....#.....O#...OO#...O#.......OO#.# 94\n",
      "O##....O##....OOO#..O##..OO#.O#......O#.O##.#.O#..OOO#.O#.................OOOOOOOO#............OOOOO 93\n",
      ".O##........OOOO##...O#....OO#.....O#..#.......OOO##...#.........OO#....OO##.#...O#OO#...OOO#...#... 92\n",
      "..O##...##.OO#.#..O#...OO#........O#...#.....OOOO##....OO#......OOOOOOOOOO##.....#....OOO##.......OO 91\n",
      ".........OOOO#...OO#..O#.......O###......#...#......OOO##.OO#...OOOO#O##..#....OO#......OOO#.#..##.. 90\n",
      ".O#....#.....OO####...O#.#.............OO#...#OO#..O#.....#...OOOO#.....OO#.#...O#............OOO#.. 89\n",
      ".........OO#.#O#....#...O#..............OOOOO#...............OOOOOOO#..............OOOOOOO#.#...##.O 88\n",
      "..OO#....O#...#.....#..#.OO##.#.#........OOO#OO#O#.....#.#..O#....OOO#....O###....O#.......OO#.....O 87\n",
      "#.................OOOO#.......OO#.......OOOO##.O##........OOO#........OOOO##..#.....#.#.......OOO##. 86\n",
      "......OO#..#..........OO#.......OOO##.....O#......OO#..O#..#.OOOO##....O#.........O#...OO#.....#.... 85\n",
      "....OOOO#............OO#.....OOO#..O#......OO###...O#......O#....OOO#..#..........OOOO##........OOO# 84\n",
      ".......OOOOOOOOO#...O##.###..#....#.....O##............OOO##.OOO#.......#.O##..#.#.....OO#.......OOO 83\n",
      ".OO#.OOO#O##..O#...#..................O##..#........O#.#.#.###...OOO#.O##OO#.....#.O#.....OOO#...#.. 82\n",
      "..OO##..............OOOOOOO#.........OO#...#......O#....#...O#..OO#O#...........OOOO#....O##.......# 81\n",
      "......OOO#.#...O#....#...O#..........O#.#.............OOO#....O#..#...OO##.....................OOOOO 80\n",
      "#....O#..............OOOOO#...O#..........#.......OO#.......#....O#OOO#...#.......OOOO###........... 79\n",
      "..............OOOO#....##....##...###.........OOOO#........OOO#...O#.....OO##....#O#...O#.........O# 78\n",
      ".#.......O#.#.........OO#........OO#.......OO##.......OO#.....O#....##....#......O#.....O#.#...O##.. 77\n",
      "...........OO#...##..#...O#..O##......##..O#.O#.....O##.#...............O##..OO###.....O#..........O 76\n",
      "...OO##O#...............#.O##............##....O#..........OOO#......#......##...............OOOOOOO 75\n",
      "##...#............OOOOOO##........#..OO#...OO#..O##....#.................OOO#......OOO#..#.#.##..#.O 74\n",
      "..............OOOOO#......OO#........OOO#.#.#..OOO#................OO#....OOO#.#.#............OO#..O 73\n",
      "........OOOO#.....O#.OO###.......OOO#.....OO####..........#..#.....##....OOO#....#..O#.....#.......O 72\n",
      ".....OO#..........OO#......OOO#.OO#.#.....OOO#...##...................OO#.###.....OOO#...#......OOO# 71\n",
      ".........OOOOO#......O#.........OOOOOOOOO#........................OOOOO#....##.....O##...O#...#O##.O 70\n",
      "......OOOOO#..........O#.O#O#.O###.....O#..#................OOOOO#..........O#.....OO#........O#..#. 69\n",
      "....OOOOOOO#.......O#.....OOO#...........OOO##..#........................OOOOOOO#..#.##...#....#.##. 68\n",
      "#OO#O#....###O#......#.........OOOOOOOOO#.#........O##.....#O##.#....#....OO#.O#..O#..........OO#... 67\n",
      "..OO#............OOO#.OO#.....OO#..OO#....OOO#............OO#..........OO#..#..OO#..OO#..#..O#...... 66\n",
      ".........OOOOOOO#.....O#.OO##....O#..OO#....#.#O#.#O#.......OO#.............OOOOOO#..#.........OOOOO 65\n",
      "O#..OOO#.OO##.OO#..#.##.#O#.#.....O#..###.....##..#.......OOOO#.O#.O#......OO##..........OO##.#.O#.O 64\n",
      "O#....OOOOOO#.O#..........O#.....#..........O#..#....OO##.........O#.#.....O#....O#.....#.....O#...# 63\n",
      "#.........OOOOOOOOO##...O#........O#..............OOO#.......OO#....OO#.....##.#....O#..#.........OO 62\n",
      ".#OO#O#.#...O#......O#.........#.#.#...................OOOOOO#......OO#.................O#.....#...O 61\n",
      "...........OOOOOOO#........O#.O#....O#....#...OO##..OOO##O#.....O#.........OO##.#.......#.........OO 60\n",
      "..#...OO#...O##.........OO#.#.#.....O#.......O##..O#..OO#....OOO#.........OOO##.#...........OOO#...O 59\n",
      ".....OOOO#......#.#.O#.OO#............O#..#..#.O#.#..OO#.O#....##..OO##.OO#.#.....#....OO#.....O#..# 58\n",
      "..OOO#.......#.....O#.#.............OOO#....OO#...#.........OOOOOOO#...O##......#.#.#.#....#...#...O 57\n",
      "O#.....O#......O###...............OO##..#O##........#..OOOOO#...........................OOOOO#.#...O 56\n",
      "O#.....OO#............O##............OOOOO#....OO#...O#....OOO#..O#.OO##.....#...................OOO 55\n",
      "..O#...............O#....#..OO#.....##.........OOOOOO#.#..OO#...#..##O#.....#...#..#............O#.. 54\n",
      "#.....#...........OO#.....#.#..............OOOOOO#...O#.###.........#.OO#.O#.......OOOO#...........# 53\n",
      "............#....O#.#................OOOO#...............OOOOOOO#..OO#.#O##.O####........OO#.......O 52\n",
      "...............#......O#..............OOOOO##....OOOO##...OO#...OO#....O#..O#O#.##.O#.......O##...OO 51\n",
      "...#.......................OOOOO#........OOO#..OOOO#.....O#........OOO#....#......OO#.#.#..#..O#...O 50\n",
      ".......O#..O#....O#..OO##........OO#..##.....#..............OOOOOOOOOOOO##..O#.#..#...#....#..O#..## 49\n",
      ".........OOOO#......O##......#....#........OOOO##.O#.........OOOO#......OO##......O#.....#.........O 48\n",
      "...OOO#...O#..O#................OOOO#...O#...#.O#....OO#...#...OOOO#...#..O#..........OO#.........OO 47\n",
      "..OOOO#....O#..#..O#.#...OOO#.#O#.#.....#..#...........OOOOOOO#.O#......#..#.....OO#..##.....OOOO#.. 46\n",
      ".OOO#...O#.....#.....O#.OO#O#.............OO#OO#OO#.....OO#.#........OO#..#.#.#.........OOOO##.#..OO 45\n",
      "O#....OO#......##O#.#..O#.OO##OO#..........O###.#O##.OO#..#.##.................OOOO#...##....OO#O##. 44\n",
      "..OO#..#....#...##.....##..OOO###...........O#..#.O#....OO#.#...O#...OO#...............OOOOOOOOOOOOO 43\n",
      "..OO#.........O#....#...O####.........OO#......O#................OOOOOOOOO#..OO#OO#.....O#.O#......O 42\n",
      ".OO##.....O#...#.....OOO#.......#.O##...##.......OOO#.O#..#.......OOOOOOOOO#.#..O#..........OOOO#... 41\n",
      ".....OO#......OOOOOOO#O##.....#.......O#.......#.##.#....OOO##...OO###...OOOO#.##...#..O#.....O#...O 40\n",
      ".O#...#.OOO#....O##...........OOOOO#................OOOOOOO#.........OO#O###...O#...............OOO# 39\n",
      ".O#.#..........OOOO#.O#.....#..#...O#.................OOOOOOOOO#......OO#..........OO##..#......O#.# 38\n",
      "...O#...#..OOO#..#..#.......#.#..#...OO#.....OOOO#..O#O#....O#.......OO#..OO#............OOOOOO#..#. 37\n",
      "........O#..O#....................OOOO#.##....OOO#.#....OO####...O#......##.O#....OOOO#...OO#..OO### 36\n",
      "............OO##..........OO##.......#..#.##...#...O##.........O#.............O##........OOOO#O###.. 35\n",
      ".......OO#....O#.............OOOO#.O#.........O##..O###......#.........#...#.....O##.....O#...OO#... 34\n",
      ".O#.........OOOOO#.#......#....#....O#...OO#.....O#.#........#................OOOO#............OOOOO 33\n",
      "......OOOO#.........OO#......#........O#...OO#...........O##.......O#.....O#..OO#......#..##.O#..#.O 32\n",
      ".OO#.OOO##.#......O#..O#........O##.....##................O#.....#..###.#.#.#..O#..........#.O#....# 31\n",
      "..OOOO#........O#....#...##......O#..........O#.....###.........#..O#.##.##...#..........OO#.......O 30\n",
      "....................................................OOOOOOOOO#....#.....#......#..O#...#....#.....OO 29\n",
      "#..O#........OOOO#........O#...#.O#.........OOO#........................OOOOOO##..............OOO#.O 28\n",
      "....OOO#......OO#.....#.O#............OO#...#............OO##..#....#...#O#.###...#.....#.....#...OO 27\n",
      ".#.#....O#...###......#...............OOOOOO#......OO#........O#.......OO#..................OOOOOO#. 26\n",
      "....O#...#.............O#..O#..O#..#..O###..O#.....O#...OO##.#O#.OO#...#....#.#.#...............OOOO 25\n",
      "....#........OOO#.......##..............OOO#.......#..O#.....OOO#..........O#.......O##...#..#...OOO 24\n",
      ".........OOOOOO#.....#........OO#....#.O##...OO#....#.#.O#....OOO#O##..............#.......O#..#O##. 23\n",
      "..OOO####...............OOOOOO#.......#..OO#..............OOOOO#.##............OOOO#........O#..O#.. 22\n",
      "O#.O#...#.#....O#...#......O##.......OO#..#.........O#...O#...OO###...OO#...........O#...#..#.OOO#.O 21\n",
      ".................OOOO#.....##....O#.......OO#.....OO#....OO#.#O#..##.#..............OOOO#....#.O#..# 20\n",
      ".......OOO#OOO#..#.............OOOOO#......#.......OOOOOO#....OOO###......OO#.#O#.....O#..........OO 19\n",
      "O##.....#.O#O##.....#............OOOOOOO##.....OOO#.##.OO#...O#......O#.....OO#...............OOOOOO 18\n",
      ".....OOO#.....OO#.....OOO#.....O##.....#......OO#.....O#.O#..O#..OO#....#...........OOOOO#...##..OO# 17\n",
      ".....O##..OOO###......####.....OO#..#..##.##...O#.O##.....O#..#.##.#..#......OO#..O#.........OOO#.OO 16\n",
      "........OO#...O#.#..#.#.......OO##..........O#.....O#..O#.............OOOOO#........OO#.........O##. 15\n",
      "........O#...O#.#............OOO#............OOO#..O##..#..OO#........#O#........OOOOO##......O#.... 14\n",
      "#O#...O#.#..OO#......OO##.#.#..#.#...#............OOO#...#.......OO#..OO#..OOO#.O#..O#.....#.....O#. 13\n",
      ".#......O##.#.......OOO#......................O#..O#....#............OOOO#..OO#.#....OO#.....O#.#... 12\n",
      ".#...###........OOO#.#........OO#..............OO#......OOOO#.......O#.#...##..........OOOOOO#....#. 11\n",
      "...OO#...#.....O##.....O#..#.......O##....O#......OOOOO##.O#....#..#.O##.#...##..OO#..O#.O#..OOO#.#. 10\n",
      ".##.#...............................OOOO#.....OOOO#....OOOO#........#....#.......#.O#....#..OO#...OO 9\n",
      ".#........OO##...#..O#.O#..#.....O#......OO##.#..O#O#..O#.........OO#..#..........#......OO##..##..O 8\n",
      ".....#....OO#..O#...........OOO#..#..#..##...O#O#..#...O#..OOO#.#......#......O#........OOOO#...O#.O 7\n",
      "...OO#...........OOOOO#.......#...........#.........OO#...OOOO#........O#......###...O#.......OO#.#O 6\n",
      ".....OOOOO#...........................OOOOOOOOO##.....OOOO##.......................OOOOOO#..OO#....# 5\n",
      ".OOOO#OOOO#.O####...OO#........O#.OO#...........OOO#......OOOOOOO#................OOO#.##.......OOOO 4\n",
      ".O###OOOO#...........OOOOO#........OOOOOO##.O#..###......OOOO#.OO#.........OOO#.#...OO#..O##....OO## 3\n",
      "#O#.#OOOO#..OO#..#...OOOOO#.O#..O#.OO#.OO#..........OOOOOOOOO#.O#..O#..........OOOOOO#.#....#....OOO 2\n",
      ".OOO#.OOOO#OO#....O#...OO#..OOO##.......OOOOOOOOO###OOOOO#..OOOOOOOO#....OOOO#..OOO#.OO#OO#.#..OOOOO 1\n",
      "\n",
      "Total load = 100525\n"
     ]
    },
    {
     "name": "stderr",
     "output_type": "stream",
     "text": [
      "\n"
     ]
    }
   ],
   "source": [
    "current_grid = read_input(\"input.txt\")\n",
    "\n",
    "iter = 0\n",
    "max_iter = 1000000000 % 7\n",
    "# grids start repeating every 7 cycles\n",
    "\n",
    "grids = {}\n",
    "\n",
    "for i in tqdm(range(max_iter)):\n",
    "\n",
    "    iter += 1\n",
    "    current_grid = grid_cycle_north(current_grid)\n",
    "    current_grid = grid_cycle_west(current_grid)\n",
    "    current_grid = grid_cycle_south(current_grid)\n",
    "    current_grid = grid_cycle_east(current_grid)\n",
    "    \n",
    "    if current_grid in grids.values():\n",
    "        iters = []\n",
    "        for key, value in grids.items():\n",
    "            if value == current_grid:\n",
    "                iters.append(key)\n",
    "        # print(f\"Grid at ({iter}) also exists at iter {iters}\")\n",
    "        \n",
    "    grids[iter] = current_grid\n",
    "\n",
    "# print(\"\\nFinal grid:\")\n",
    "# display_grid(current_grid)\n",
    "\n",
    "total_load = 0\n",
    "for i, row in enumerate(current_grid):\n",
    "    load_val = len(current_grid)-i\n",
    "    print(\"\".join(row), load_val)\n",
    "    O_count = row.count(\"O\")\n",
    "    load = load_val * O_count\n",
    "    total_load += load\n",
    "    \n",
    "print(\"\\nTotal load =\", total_load)\n",
    "\n",
    "# 100525 - too high "
   ]
  }
 ],
 "metadata": {
  "kernelspec": {
   "display_name": "Python 3",
   "language": "python",
   "name": "python3"
  },
  "language_info": {
   "codemirror_mode": {
    "name": "ipython",
    "version": 3
   },
   "file_extension": ".py",
   "mimetype": "text/x-python",
   "name": "python",
   "nbconvert_exporter": "python",
   "pygments_lexer": "ipython3",
   "version": "3.11.3"
  }
 },
 "nbformat": 4,
 "nbformat_minor": 2
}
