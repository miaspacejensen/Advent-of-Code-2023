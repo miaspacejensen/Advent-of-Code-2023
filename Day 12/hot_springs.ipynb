{
 "cells": [
  {
   "cell_type": "markdown",
   "metadata": {},
   "source": [
    "# Stars: \n",
    "\n",
    "### Day 12: Hot Springs\n",
    "\n",
    "#### Part 1|"
   ]
  },
  {
   "cell_type": "code",
   "execution_count": 39,
   "metadata": {},
   "outputs": [],
   "source": [
    "# read all lines in text file\n",
    "with open(\"test_input.txt\", \"r\") as file:\n",
    "    lines = file.readlines() \n",
    "\n",
    "# remove newline text from each line\n",
    "lines = [line.rstrip(\"\\n\").split(\" \") for line in lines]"
   ]
  },
  {
   "cell_type": "code",
   "execution_count": 40,
   "metadata": {},
   "outputs": [],
   "source": [
    "# for line in lines:\n",
    "#     springs = line[0]\n",
    "#     arrange = line[1]\n",
    "#     len_springs = len(springs)\n",
    "#     print(f\"({arrange}) {springs} ({len_springs})\")\n"
   ]
  },
  {
   "cell_type": "code",
   "execution_count": 41,
   "metadata": {},
   "outputs": [],
   "source": [
    "test_lines = [lines[0]]"
   ]
  },
  {
   "cell_type": "code",
   "execution_count": 66,
   "metadata": {},
   "outputs": [
    {
     "name": "stdout",
     "output_type": "stream",
     "text": [
      "(1,1,3) ['#', '#', '###']\n",
      "(1,1,3) ['#', '#', '###']\n",
      "(1,3,1,6) ['#', '###', '#', '######']\n",
      "(4,1,1) ['####', '#', '#']\n",
      "(1,6,5) ['#', '######', '#####']\n",
      "(3,2,1) ['###', '##', '#']\n"
     ]
    }
   ],
   "source": [
    "all_groups = []\n",
    "for line in lines:\n",
    "    \n",
    "    springs = line[0]\n",
    "    arrangement = line[1]\n",
    "    arrangement_lst = arrangement.split(\",\")\n",
    "    len_springs = len(springs)\n",
    "\n",
    "    groups = []\n",
    "    for num in arrangement_lst:\n",
    "        group = \"#\" * int(num)\n",
    "        groups.append(group)\n",
    "\n",
    "    all_groups.append(groups)\n",
    "    print(f\"({arrangement}) {groups}\")\n"
   ]
  },
  {
   "cell_type": "code",
   "execution_count": null,
   "metadata": {},
   "outputs": [],
   "source": []
  },
  {
   "cell_type": "code",
   "execution_count": null,
   "metadata": {},
   "outputs": [],
   "source": []
  }
 ],
 "metadata": {
  "kernelspec": {
   "display_name": "Python 3",
   "language": "python",
   "name": "python3"
  },
  "language_info": {
   "codemirror_mode": {
    "name": "ipython",
    "version": 3
   },
   "file_extension": ".py",
   "mimetype": "text/x-python",
   "name": "python",
   "nbconvert_exporter": "python",
   "pygments_lexer": "ipython3",
   "version": "3.11.3"
  }
 },
 "nbformat": 4,
 "nbformat_minor": 2
}
