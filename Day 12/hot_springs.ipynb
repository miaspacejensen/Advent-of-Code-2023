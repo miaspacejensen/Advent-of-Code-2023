{
 "cells": [
  {
   "cell_type": "markdown",
   "metadata": {},
   "source": [
    "# Stars: \n",
    "\n",
    "### Day 12: Hot Springs\n",
    "\n",
    "#### Part 1|"
   ]
  },
  {
   "cell_type": "code",
   "execution_count": 39,
   "metadata": {},
   "outputs": [],
   "source": [
    "# read all lines in text file\n",
    "with open(\"test_input.txt\", \"r\") as file:\n",
    "    lines = file.readlines() \n",
    "\n",
    "# remove newline text from each line\n",
    "lines = [line.rstrip(\"\\n\").split(\" \") for line in lines]"
   ]
  },
  {
   "cell_type": "code",
   "execution_count": 67,
   "metadata": {},
   "outputs": [
    {
     "name": "stdout",
     "output_type": "stream",
     "text": [
      "(1,1,3) ['#', '#', '###']\n"
     ]
    }
   ],
   "source": [
    "all_groups = []\n",
    "for line in lines:\n",
    "\n",
    "    springs = line[0]\n",
    "    arrangement = line[1]\n",
    "    arrangement_lst = arrangement.split(\",\")\n",
    "    len_springs = len(springs)\n",
    "\n",
    "    groups = []\n",
    "    for num in arrangement_lst:\n",
    "        group = \"#\" * int(num)\n",
    "        groups.append(group)\n",
    "\n",
    "    all_groups.append(groups)\n",
    "    print(f\"({arrangement}) {groups}\")\n",
    "    \n",
    "    break\n"
   ]
  },
  {
   "cell_type": "code",
   "execution_count": 128,
   "metadata": {},
   "outputs": [],
   "source": [
    "values = ['???.###']\n",
    "arrangement = [1,1,3]\n",
    "\n",
    "n_vals = len(values)\n",
    "n_arr = len(arrangement)"
   ]
  },
  {
   "cell_type": "code",
   "execution_count": 127,
   "metadata": {},
   "outputs": [],
   "source": [
    "for arr in arrangement:\n",
    "    "
   ]
  },
  {
   "cell_type": "code",
   "execution_count": null,
   "metadata": {},
   "outputs": [],
   "source": [
    "def solve_nonogram(values, arrangement):\n",
    "    n_vals = len(values)\n",
    "    n_arr = sum(arrangement)\n",
    "    solutions = []\n",
    "\n",
    "    def backtrack(idx, curr_arrangement, curr_solution):\n",
    "        if idx == n_vals:\n",
    "            if sum(curr_arrangement) == n_arr:\n",
    "                solutions.append(curr_solution)\n",
    "            return\n",
    "\n",
    "        for i in range(1, min(n_arr - sum(curr_arrangement) + 1, n_vals - idx + 1)):\n",
    "            new_arrangement = curr_arrangement[:]\n",
    "            new_arrangement.append(i)\n",
    "            # add '#'s followed by a '.'\n",
    "            new_solution = curr_solution + ['#'] * i + ['.']\n",
    "            backtrack(idx + i + 1, new_arrangement, new_solution)\n",
    "\n",
    "            if idx + i < n_vals:\n",
    "                # add '#'s followed by the next value\n",
    "                new_solution = curr_solution + ['#'] * i + [values[idx + i]] \n",
    "                backtrack(idx + i + 1, new_arrangement, new_solution)\n",
    "\n",
    "    backtrack(0, [], [])\n",
    "    return solutions\n",
    "\n",
    "values = ['?','#','#','#','?','?','?','?','?','?','?','?']\n",
    "arrangement = [3, 2, 1]\n",
    "solutions = solve_nonogram(values, arrangement)\n",
    "for solution in solutions:\n",
    "    print(''.join(solution))"
   ]
  },
  {
   "cell_type": "code",
   "execution_count": null,
   "metadata": {},
   "outputs": [],
   "source": []
  }
 ],
 "metadata": {
  "kernelspec": {
   "display_name": "Python 3",
   "language": "python",
   "name": "python3"
  },
  "language_info": {
   "codemirror_mode": {
    "name": "ipython",
    "version": 3
   },
   "file_extension": ".py",
   "mimetype": "text/x-python",
   "name": "python",
   "nbconvert_exporter": "python",
   "pygments_lexer": "ipython3",
   "version": "3.11.3"
  }
 },
 "nbformat": 4,
 "nbformat_minor": 2
}
