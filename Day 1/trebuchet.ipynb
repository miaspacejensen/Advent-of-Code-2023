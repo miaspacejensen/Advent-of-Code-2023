{
 "cells": [
  {
   "cell_type": "markdown",
   "metadata": {},
   "source": [
    "### Day 1: Trebuchet?!\n",
    "----\n",
    "#### Part 1\n",
    "\n",
    "Something is wrong with global snow production, and you've been selected to take a look. The Elves have even given you a map; on it, they've used stars to mark the top fifty locations that are likely to be having problems.\n",
    "\n",
    "You've been doing this long enough to know that to restore snow operations, you need to check all fifty stars by December 25th.\n",
    "\n",
    "Collect stars by solving puzzles. Two puzzles will be made available on each day in the Advent calendar; the second puzzle is unlocked when you complete the first. Each puzzle grants one star. Good luck!\n",
    "\n",
    "You try to ask why they can't just use a weather machine (\"not powerful enough\") and where they're even sending you (\"the sky\") and why your map looks mostly blank (\"you sure ask a lot of questions\") and hang on did you just say the sky (\"of course, where do you think snow comes from\") when you realize that the Elves are already loading you into a trebuchet (\"please hold still, we need to strap you in\").\n",
    "\n",
    "As they're making the final adjustments, they discover that their calibration document (your puzzle input) has been amended by a very young Elf who was apparently just excited to show off her art skills. Consequently, the Elves are having trouble reading the values on the document.\n",
    "\n",
    "The newly-improved calibration document consists of lines of text; each line originally contained a specific calibration value that the Elves now need to recover. On each line, the calibration value can be found by combining the first digit and the last digit (in that order) to form a single two-digit number.\n",
    "\n",
    "For example:\n",
    "\n",
    "**1abc2**\n",
    "\n",
    "**pqr3stu8vwx**\n",
    "\n",
    "**a1b2c3d4e5f**\n",
    "\n",
    "**treb7uchet**\n",
    "\n",
    "In this example, the calibration values of these four lines are **12, 38, 15, and 77**. Adding these together produces **142**.\n",
    "\n",
    "Consider your entire calibration document. What is the sum of all of the calibration values?"
   ]
  },
  {
   "cell_type": "code",
   "execution_count": 175,
   "metadata": {},
   "outputs": [],
   "source": [
    "# import libraries\n",
    "import re"
   ]
  },
  {
   "cell_type": "code",
   "execution_count": 176,
   "metadata": {},
   "outputs": [],
   "source": [
    "# read all lines in text file\n",
    "with open(\"input.txt\", \"r\") as file:\n",
    "    lines = file.readlines()"
   ]
  },
  {
   "cell_type": "code",
   "execution_count": 177,
   "metadata": {},
   "outputs": [],
   "source": [
    "# remove newline text from each line\n",
    "lines = [line.rstrip(\"\\n\") for line in lines]"
   ]
  },
  {
   "cell_type": "code",
   "execution_count": 178,
   "metadata": {},
   "outputs": [],
   "source": [
    "# remove non-numeric values from each line\n",
    "numbers = []\n",
    "for line in lines:\n",
    "    number_list = re.findall(r'\\d+', line)\n",
    "    number_all = ''.join(number_list)\n",
    "    first = number_all[0]\n",
    "    last = number_all[-1]\n",
    "    number = int(first + last)\n",
    "    numbers.append(number)\n",
    "# numbers"
   ]
  },
  {
   "cell_type": "code",
   "execution_count": 179,
   "metadata": {},
   "outputs": [
    {
     "data": {
      "text/plain": [
       "55208"
      ]
     },
     "execution_count": 179,
     "metadata": {},
     "output_type": "execute_result"
    }
   ],
   "source": [
    "# sum all values in list\n",
    "sum(numbers)"
   ]
  },
  {
   "cell_type": "markdown",
   "metadata": {},
   "source": [
    "----\n",
    "#### Part 2\n",
    "\n",
    "Your calculation isn't quite right. It looks like some of the digits are actually spelled out with letters: one, two, three, four, five, six, seven, eight, and nine also count as valid \"digits\".\n",
    "\n",
    "Equipped with this new information, you now need to find the real first and last digit on each line. For example:\n",
    "\n",
    "**two1nine** -> 29\n",
    "\n",
    "**eightwothree** -> 83\n",
    "\n",
    "**abcone2threexyz** -> 13\n",
    "\n",
    "**xtwone3four** -> 24\n",
    "\n",
    "**4nineeightseven2** -> 42\n",
    "\n",
    "**zoneight234** -> 14\n",
    "\n",
    "**7pqrstsixteen** -> 76\n",
    "\n",
    "In this example, the calibration values are **29, 83, 13, 24, 42, 14, and 76**. Adding these together produces **281**.\n",
    "\n",
    "What is the sum of all of the calibration values?"
   ]
  },
  {
   "cell_type": "code",
   "execution_count": 180,
   "metadata": {},
   "outputs": [],
   "source": [
    "# import libraries\n",
    "from word2number import w2n"
   ]
  },
  {
   "cell_type": "code",
   "execution_count": 181,
   "metadata": {},
   "outputs": [],
   "source": [
    "number_dict = {\n",
    "    # 'zero': 0,\n",
    "    'one': 1,\n",
    "    'two': 2,\n",
    "    'three': 3,\n",
    "    'four': 4,\n",
    "    'five': 5,\n",
    "    'six': 6,\n",
    "    'seven': 7,\n",
    "    'eight': 8,\n",
    "    'nine': 9,\n",
    "    # 'ten': 10,\n",
    "    # 'eleven': 11,\n",
    "    # 'twelve': 12,\n",
    "    # 'thirteen': 13,\n",
    "    # 'fourteen': 14,\n",
    "    # 'fifteen': 15,\n",
    "    # 'sixteen': 16,\n",
    "    # 'seventeen': 17,\n",
    "    # 'eighteen': 18,\n",
    "    # 'nineteen': 19,\n",
    "    # 'twenty': 20,\n",
    "    # 'thirty': 30,\n",
    "    # 'forty': 40,\n",
    "    # 'fifty': 50,\n",
    "    # 'sixty': 60,\n",
    "    # 'seventy': 70,\n",
    "    # 'eighty': 80,\n",
    "    # 'ninety': 90,\n",
    "    # 'hundred': 100,\n",
    "    # 'thousand': 1000,\n",
    "    # 'million': 1000000,\n",
    "    # 'billion': 1000000000,\n",
    "    # 'trillion': 1000000000000,\n",
    "}"
   ]
  },
  {
   "cell_type": "code",
   "execution_count": 182,
   "metadata": {},
   "outputs": [
    {
     "data": {
      "text/plain": [
       "'2tqbxgrrpmxqfglsqjkqthree6nhjvbxpflhr1eightwohr'"
      ]
     },
     "execution_count": 182,
     "metadata": {},
     "output_type": "execute_result"
    }
   ],
   "source": [
    "text = lines[3]\n",
    "text"
   ]
  },
  {
   "cell_type": "code",
   "execution_count": 183,
   "metadata": {},
   "outputs": [],
   "source": [
    "def find_num_words(text, number_dict):\n",
    "    numbers = []\n",
    "    \n",
    "    # find number words\n",
    "    for key in number_dict.keys():\n",
    "        if key in text:\n",
    "            start_index = text.index(key)\n",
    "            end_index = text.index(key) + len(key)\n",
    "            # index = text.index(key)\n",
    "            # print(index, key)\n",
    "            numbers.append([start_index, end_index, key])\n",
    "\n",
    "    # find numbers\n",
    "    nums = re.findall(r'\\d+', text)\n",
    "    for num in nums:\n",
    "        word_num = str(num)\n",
    "        start_index = text.index(word_num)\n",
    "        end_index = text.index(word_num) + len(word_num)\n",
    "        numbers.append([start_index, end_index, num])\n",
    "        \n",
    "    return numbers"
   ]
  },
  {
   "cell_type": "code",
   "execution_count": 191,
   "metadata": {},
   "outputs": [],
   "source": [
    "lines2 = lines[:4]"
   ]
  },
  {
   "cell_type": "code",
   "execution_count": 201,
   "metadata": {},
   "outputs": [],
   "source": [
    "final_nums = []\n",
    "for line in lines:\n",
    "    numbers = find_num_words(line, number_dict)\n",
    "    numbers_start_index = sorted(numbers, key=lambda x: x[0])\n",
    "    numbers_end_index = sorted(numbers, key=lambda x: x[1])\n",
    "\n",
    "    # print(line)\n",
    "    # print(numbers_start_index)\n",
    "    # print(numbers_end_index)\n",
    "    # print(numbers)\n",
    "\n",
    "    digit_nums = []\n",
    "    for i, j, word_num in numbers: \n",
    "        try:\n",
    "            digit_num = w2n.word_to_num(word_num)\n",
    "            digit_nums.append(str(digit_num))\n",
    "        except:\n",
    "            digit_nums.append(str(word_num))\n",
    "\n",
    "    number_all = ''.join(digit_nums)\n",
    "    first = number_all[0]\n",
    "    last = number_all[-1]\n",
    "    final_num = int(first + last)\n",
    "    final_nums.append(final_num)\n",
    "\n",
    "    # print(first, last, final_num)"
   ]
  },
  {
   "cell_type": "code",
   "execution_count": 202,
   "metadata": {},
   "outputs": [
    {
     "data": {
      "text/plain": [
       "41178"
      ]
     },
     "execution_count": 202,
     "metadata": {},
     "output_type": "execute_result"
    }
   ],
   "source": [
    "sum(final_nums)"
   ]
  },
  {
   "cell_type": "code",
   "execution_count": null,
   "metadata": {},
   "outputs": [],
   "source": []
  }
 ],
 "metadata": {
  "kernelspec": {
   "display_name": "Python 3",
   "language": "python",
   "name": "python3"
  },
  "language_info": {
   "codemirror_mode": {
    "name": "ipython",
    "version": 3
   },
   "file_extension": ".py",
   "mimetype": "text/x-python",
   "name": "python",
   "nbconvert_exporter": "python",
   "pygments_lexer": "ipython3",
   "version": "3.11.3"
  }
 },
 "nbformat": 4,
 "nbformat_minor": 2
}
