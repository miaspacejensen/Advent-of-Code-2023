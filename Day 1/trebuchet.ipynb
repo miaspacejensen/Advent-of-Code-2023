{
 "cells": [
  {
   "cell_type": "markdown",
   "metadata": {},
   "source": [
    "# Stars: *"
   ]
  },
  {
   "cell_type": "markdown",
   "metadata": {},
   "source": [
    "### Day 1: Trebuchet?!\n",
    "\n",
    "#### Part 1"
   ]
  },
  {
   "cell_type": "code",
   "execution_count": 175,
   "metadata": {},
   "outputs": [],
   "source": [
    "# import libraries\n",
    "import re"
   ]
  },
  {
   "cell_type": "code",
   "execution_count": 176,
   "metadata": {},
   "outputs": [],
   "source": [
    "# read all lines in text file\n",
    "with open(\"input.txt\", \"r\") as file:\n",
    "    lines = file.readlines()"
   ]
  },
  {
   "cell_type": "code",
   "execution_count": 177,
   "metadata": {},
   "outputs": [],
   "source": [
    "# remove newline text from each line\n",
    "lines = [line.rstrip(\"\\n\") for line in lines]"
   ]
  },
  {
   "cell_type": "code",
   "execution_count": 178,
   "metadata": {},
   "outputs": [],
   "source": [
    "# remove non-numeric values from each line\n",
    "numbers = []\n",
    "for line in lines:\n",
    "    number_list = re.findall(r'\\d+', line)\n",
    "    number_all = ''.join(number_list)\n",
    "    first = number_all[0]\n",
    "    last = number_all[-1]\n",
    "    number = int(first + last)\n",
    "    numbers.append(number)\n",
    "# numbers"
   ]
  },
  {
   "cell_type": "code",
   "execution_count": 179,
   "metadata": {},
   "outputs": [
    {
     "data": {
      "text/plain": [
       "55208"
      ]
     },
     "execution_count": 179,
     "metadata": {},
     "output_type": "execute_result"
    }
   ],
   "source": [
    "# sum all values in list\n",
    "sum(numbers)"
   ]
  },
  {
   "cell_type": "markdown",
   "metadata": {},
   "source": [
    "#### Part 2"
   ]
  },
  {
   "cell_type": "code",
   "execution_count": 180,
   "metadata": {},
   "outputs": [],
   "source": [
    "# import libraries\n",
    "from word2number import w2n"
   ]
  },
  {
   "cell_type": "code",
   "execution_count": 181,
   "metadata": {},
   "outputs": [],
   "source": [
    "number_dict = {\n",
    "    # 'zero': 0,\n",
    "    'one': 1,\n",
    "    'two': 2,\n",
    "    'three': 3,\n",
    "    'four': 4,\n",
    "    'five': 5,\n",
    "    'six': 6,\n",
    "    'seven': 7,\n",
    "    'eight': 8,\n",
    "    'nine': 9\n",
    "}"
   ]
  },
  {
   "cell_type": "code",
   "execution_count": 182,
   "metadata": {},
   "outputs": [
    {
     "data": {
      "text/plain": [
       "'2tqbxgrrpmxqfglsqjkqthree6nhjvbxpflhr1eightwohr'"
      ]
     },
     "execution_count": 182,
     "metadata": {},
     "output_type": "execute_result"
    }
   ],
   "source": [
    "text = lines[3]\n",
    "text"
   ]
  },
  {
   "cell_type": "code",
   "execution_count": 183,
   "metadata": {},
   "outputs": [],
   "source": [
    "def find_num_words(text, number_dict):\n",
    "    numbers = []\n",
    "    \n",
    "    # find number words\n",
    "    for key in number_dict.keys():\n",
    "        if key in text:\n",
    "            start_index = text.index(key)\n",
    "            end_index = text.index(key) + len(key)\n",
    "            # index = text.index(key)\n",
    "            # print(index, key)\n",
    "            numbers.append([start_index, end_index, key])\n",
    "\n",
    "    # find numbers\n",
    "    nums = re.findall(r'\\d+', text)\n",
    "    for num in nums:\n",
    "        word_num = str(num)\n",
    "        start_index = text.index(word_num)\n",
    "        end_index = text.index(word_num) + len(word_num)\n",
    "        numbers.append([start_index, end_index, num])\n",
    "        \n",
    "    return numbers"
   ]
  },
  {
   "cell_type": "code",
   "execution_count": 191,
   "metadata": {},
   "outputs": [],
   "source": [
    "lines2 = lines[:4]"
   ]
  },
  {
   "cell_type": "code",
   "execution_count": 201,
   "metadata": {},
   "outputs": [],
   "source": [
    "final_nums = []\n",
    "for line in lines:\n",
    "    numbers = find_num_words(line, number_dict)\n",
    "    numbers_start_index = sorted(numbers, key=lambda x: x[0])\n",
    "    numbers_end_index = sorted(numbers, key=lambda x: x[1])\n",
    "\n",
    "    # print(line)\n",
    "    # print(numbers_start_index)\n",
    "    # print(numbers_end_index)\n",
    "    # print(numbers)\n",
    "\n",
    "    digit_nums = []\n",
    "    for i, j, word_num in numbers: \n",
    "        try:\n",
    "            digit_num = w2n.word_to_num(word_num)\n",
    "            digit_nums.append(str(digit_num))\n",
    "        except:\n",
    "            digit_nums.append(str(word_num))\n",
    "\n",
    "    number_all = ''.join(digit_nums)\n",
    "    first = number_all[0]\n",
    "    last = number_all[-1]\n",
    "    final_num = int(first + last)\n",
    "    final_nums.append(final_num)\n",
    "\n",
    "    # print(first, last, final_num)"
   ]
  },
  {
   "cell_type": "code",
   "execution_count": 202,
   "metadata": {},
   "outputs": [
    {
     "data": {
      "text/plain": [
       "41178"
      ]
     },
     "execution_count": 202,
     "metadata": {},
     "output_type": "execute_result"
    }
   ],
   "source": [
    "sum(final_nums)"
   ]
  },
  {
   "cell_type": "code",
   "execution_count": null,
   "metadata": {},
   "outputs": [],
   "source": []
  }
 ],
 "metadata": {
  "kernelspec": {
   "display_name": "Python 3",
   "language": "python",
   "name": "python3"
  },
  "language_info": {
   "codemirror_mode": {
    "name": "ipython",
    "version": 3
   },
   "file_extension": ".py",
   "mimetype": "text/x-python",
   "name": "python",
   "nbconvert_exporter": "python",
   "pygments_lexer": "ipython3",
   "version": "3.11.3"
  }
 },
 "nbformat": 4,
 "nbformat_minor": 2
}
