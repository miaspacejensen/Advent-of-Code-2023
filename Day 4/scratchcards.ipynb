{
 "cells": [
  {
   "cell_type": "markdown",
   "metadata": {},
   "source": [
    "# Stars: *"
   ]
  },
  {
   "cell_type": "markdown",
   "metadata": {},
   "source": [
    "### Day 4: Scratchcards\n",
    "\n",
    "#### Part 1"
   ]
  },
  {
   "cell_type": "code",
   "execution_count": 19,
   "metadata": {},
   "outputs": [],
   "source": [
    "import pandas as pd\n",
    "import re"
   ]
  },
  {
   "cell_type": "code",
   "execution_count": 81,
   "metadata": {},
   "outputs": [],
   "source": [
    "# read all lines in text file\n",
    "with open(\"input.txt\", \"r\") as file:\n",
    "    lines = file.readlines()\n",
    "\n",
    "# remove newline text from each line\n",
    "lines = [line.rstrip(\"\\n\") for line in lines]"
   ]
  },
  {
   "cell_type": "code",
   "execution_count": 82,
   "metadata": {},
   "outputs": [],
   "source": [
    "# lines_split = [re.split(r'[|:]', line) for line in lines]\n",
    "lines_split = [line.split(\": \") for line in lines]"
   ]
  },
  {
   "cell_type": "code",
   "execution_count": 87,
   "metadata": {},
   "outputs": [],
   "source": [
    "total_points = 0\n",
    "\n",
    "for line in lines_split:\n",
    "\n",
    "    card = line[0].split(\"Card\")[1].strip()\n",
    "\n",
    "    winning_nums = line[1].split(\" | \")[0].split(\" \")\n",
    "    winning_nums = [num for num in winning_nums if num]\n",
    "\n",
    "    own_nums = line[1].split(\" | \")[1].split(\" \")\n",
    "    own_nums = [num for num in own_nums if num]\n",
    "\n",
    "    points = 0\n",
    "    for num in own_nums:\n",
    "        if num in winning_nums and points == 0:\n",
    "            points += 1\n",
    "        elif num in winning_nums and points > 0:\n",
    "            points *= 2\n",
    "    \n",
    "    total_points += points\n",
    "\n",
    "    # print(\"Card\", card, \"-----\", points)"
   ]
  },
  {
   "cell_type": "code",
   "execution_count": 88,
   "metadata": {},
   "outputs": [
    {
     "data": {
      "text/plain": [
       "24848"
      ]
     },
     "execution_count": 88,
     "metadata": {},
     "output_type": "execute_result"
    }
   ],
   "source": [
    "total_points"
   ]
  },
  {
   "cell_type": "markdown",
   "metadata": {},
   "source": [
    "#### Part 2"
   ]
  },
  {
   "cell_type": "code",
   "execution_count": 221,
   "metadata": {},
   "outputs": [],
   "source": [
    "# read all lines in text file\n",
    "with open(\"input.txt\", \"r\") as file:\n",
    "    lines = file.readlines() \n",
    "\n",
    "# remove newline text from each line\n",
    "lines = [line.rstrip(\"\\n\") for line in lines] "
   ]
  },
  {
   "cell_type": "code",
   "execution_count": null,
   "metadata": {},
   "outputs": [],
   "source": [
    "lines_split = [line.split(\": \") for line in lines]"
   ]
  },
  {
   "cell_type": "code",
   "execution_count": null,
   "metadata": {},
   "outputs": [],
   "source": [
    "# convert to dictionary for easy lookup\n",
    "card_dict = {}\n",
    "\n",
    "for line in lines_split:\n",
    "\n",
    "    card = int(line[0].split(\"Card\")[1].strip())\n",
    "\n",
    "    winning_nums = line[1].split(\" | \")[0].split(\" \")\n",
    "    winning_nums = [num for num in winning_nums if num]\n",
    "\n",
    "    own_nums = line[1].split(\" | \")[1].split(\" \")\n",
    "    own_nums = [num for num in own_nums if num]\n",
    "\n",
    "    card_dict[card] = [winning_nums, own_nums]\n",
    "\n",
    "# for key, value in card_dict.items():\n",
    "#     print(key, value)"
   ]
  },
  {
   "cell_type": "code",
   "execution_count": 224,
   "metadata": {},
   "outputs": [
    {
     "name": "stdout",
     "output_type": "stream",
     "text": [
      "2288\n"
     ]
    }
   ],
   "source": [
    "# may need to create a recursive function\n",
    "\n",
    "def find_matches(card_dict, card):\n",
    "\n",
    "    winning_nums = card_dict[card][0]\n",
    "    own_nums = card_dict[card][1]\n",
    "\n",
    "    matches = 0\n",
    "    for num in own_nums:\n",
    "        if num in winning_nums:\n",
    "            matches += 1\n",
    "\n",
    "    count = 0\n",
    "    for match in range (card + 1, card + 1 + matches):\n",
    "        find_matches(card_dict, match)\n",
    "        count += 1\n",
    "\n",
    "    return count\n",
    "\n",
    "total_count = 0\n",
    "for card in range(1, len(lines_split)+1):\n",
    "    count = find_matches(card_dict, 1)\n",
    "    total_count += count + 1\n",
    "\n",
    "print(total_count)"
   ]
  },
  {
   "cell_type": "code",
   "execution_count": null,
   "metadata": {},
   "outputs": [],
   "source": []
  }
 ],
 "metadata": {
  "kernelspec": {
   "display_name": "Python 3",
   "language": "python",
   "name": "python3"
  },
  "language_info": {
   "codemirror_mode": {
    "name": "ipython",
    "version": 3
   },
   "file_extension": ".py",
   "mimetype": "text/x-python",
   "name": "python",
   "nbconvert_exporter": "python",
   "pygments_lexer": "ipython3",
   "version": "3.11.3"
  }
 },
 "nbformat": 4,
 "nbformat_minor": 2
}
