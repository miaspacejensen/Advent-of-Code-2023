{
 "cells": [
  {
   "cell_type": "markdown",
   "metadata": {},
   "source": [
    "### Day 4: Scratchcards\n",
    "\n",
    "#### Part 1\n",
    "\n",
    "The gondola takes you up. Strangely, though, the ground doesn't seem to be coming with you; you're not climbing a mountain. As the circle of Snow Island recedes below you, an entire new landmass suddenly appears above you! The gondola carries you to the surface of the new island and lurches into the station.\n",
    "\n",
    "As you exit the gondola, the first thing you notice is that the air here is much warmer than it was on Snow Island. It's also quite humid. Is this where the water source is?\n",
    "\n",
    "The next thing you notice is an Elf sitting on the floor across the station in what seems to be a pile of colorful square cards.\n",
    "\n",
    "\"Oh! Hello!\" The Elf excitedly runs over to you. \"How may I be of service?\" You ask about water sources.\n",
    "\n",
    "\"I'm not sure; I just operate the gondola lift. That does sound like something we'd have, though - this is Island Island, after all! I bet the gardener would know. He's on a different island, though - er, the small kind surrounded by water, not the floating kind. We really need to come up with a better naming scheme. Tell you what: if you can help me with something quick, I'll let you borrow my boat and you can go visit the gardener. I got all these scratchcards as a gift, but I can't figure out what I've won.\"\n",
    "\n",
    "The Elf leads you over to the pile of colorful cards. There, you discover dozens of scratchcards, all with their opaque covering already scratched off. Picking one up, it looks like each card has two lists of numbers separated by a vertical bar (|): a list of winning numbers and then a list of numbers you have. You organize the information into a table (your puzzle input).\n",
    "\n",
    "As far as the Elf has been able to figure out, you have to figure out which of the numbers you have appear in the list of winning numbers. The first match makes the card worth one point and each match after the first doubles the point value of that card.\n",
    "\n",
    "For example:\n",
    "\n",
    "Card 1: 41 48 83 86 17 | 83 86  6 31 17  9 48 53\n",
    "\n",
    "Card 2: 13 32 20 16 61 | 61 30 68 82 17 32 24 19\n",
    "\n",
    "Card 3:  1 21 53 59 44 | 69 82 63 72 16 21 14  1\n",
    "\n",
    "Card 4: 41 92 73 84 69 | 59 84 76 51 58  5 54 83\n",
    "\n",
    "Card 5: 87 83 26 28 32 | 88 30 70 12 93 22 82 36\n",
    "\n",
    "Card 6: 31 18 13 56 72 | 74 77 10 23 35 67 36 11\n",
    "\n",
    "In the above example, card 1 has five winning numbers (41, 48, 83, 86, and 17) and eight numbers you have (83, 86, 6, 31, 17, 9, 48, and 53). Of the numbers you have, four of them (48, 83, 17, and 86) are winning numbers! That means card 1 is worth 8 points (1 for the first match, then doubled three times for each of the three matches after the first).\n",
    "\n",
    "Card 2 has two winning numbers (32 and 61), so it is worth 2 points.\n",
    "\n",
    "Card 3 has two winning numbers (1 and 21), so it is worth 2 points.\n",
    "\n",
    "Card 4 has one winning number (84), so it is worth 1 point.\n",
    "\n",
    "Card 5 has no winning numbers, so it is worth no points.\n",
    "\n",
    "Card 6 has no winning numbers, so it is worth no points.\n",
    "\n",
    "So, in this example, the Elf's pile of scratchcards is worth 13 points.\n",
    "\n",
    "Take a seat in the large pile of colorful cards. How many points are they worth in total?"
   ]
  },
  {
   "cell_type": "code",
   "execution_count": 19,
   "metadata": {},
   "outputs": [],
   "source": [
    "import pandas as pd\n",
    "import re"
   ]
  },
  {
   "cell_type": "code",
   "execution_count": 81,
   "metadata": {},
   "outputs": [],
   "source": [
    "# read all lines in text file\n",
    "with open(\"input.txt\", \"r\") as file:\n",
    "    lines = file.readlines()\n",
    "\n",
    "# remove newline text from each line\n",
    "lines = [line.rstrip(\"\\n\") for line in lines]"
   ]
  },
  {
   "cell_type": "code",
   "execution_count": 82,
   "metadata": {},
   "outputs": [],
   "source": [
    "# lines_split = [re.split(r'[|:]', line) for line in lines]\n",
    "lines_split = [line.split(\": \") for line in lines]"
   ]
  },
  {
   "cell_type": "code",
   "execution_count": 87,
   "metadata": {},
   "outputs": [],
   "source": [
    "total_points = 0\n",
    "\n",
    "for line in lines_split:\n",
    "\n",
    "    card = line[0].split(\"Card\")[1].strip()\n",
    "\n",
    "    winning_nums = line[1].split(\" | \")[0].split(\" \")\n",
    "    winning_nums = [num for num in winning_nums if num]\n",
    "\n",
    "    own_nums = line[1].split(\" | \")[1].split(\" \")\n",
    "    own_nums = [num for num in own_nums if num]\n",
    "\n",
    "    points = 0\n",
    "    for num in own_nums:\n",
    "        if num in winning_nums and points == 0:\n",
    "            points += 1\n",
    "        elif num in winning_nums and points > 0:\n",
    "            points *= 2\n",
    "    \n",
    "    total_points += points\n",
    "\n",
    "    # print(\"Card\", card, \"-----\", points)"
   ]
  },
  {
   "cell_type": "code",
   "execution_count": 88,
   "metadata": {},
   "outputs": [
    {
     "data": {
      "text/plain": [
       "24848"
      ]
     },
     "execution_count": 88,
     "metadata": {},
     "output_type": "execute_result"
    }
   ],
   "source": [
    "total_points"
   ]
  },
  {
   "cell_type": "markdown",
   "metadata": {},
   "source": [
    "#### Part 2\n",
    "\n",
    "Just as you're about to report your findings to the Elf, one of you realizes that the rules have actually been printed on the back of every card this whole time.\n",
    "\n",
    "There's no such thing as \"points\". Instead, scratchcards only cause you to win more scratchcards equal to the number of winning numbers you have.\n",
    "\n",
    "Specifically, you win copies of the scratchcards below the winning card equal to the number of matches. So, if card 10 were to have 5 matching numbers, you would win one copy each of cards 11, 12, 13, 14, and 15.\n",
    "\n",
    "Copies of scratchcards are scored like normal scratchcards and have the same card number as the card they copied. So, if you win a copy of card 10 and it has 5 matching numbers, it would then win a copy of the same cards that the original card 10 won: cards 11, 12, 13, 14, and 15. This process repeats until none of the copies cause you to win any more cards. (Cards will never make you copy a card past the end of the table.)\n",
    "\n",
    "This time, the above example goes differently:\n",
    "\n",
    "Card 1: 41 48 83 86 17 | 83 86  6 31 17  9 48 53\n",
    "\n",
    "Card 2: 13 32 20 16 61 | 61 30 68 82 17 32 24 19\n",
    "\n",
    "Card 3:  1 21 53 59 44 | 69 82 63 72 16 21 14  1\n",
    "\n",
    "Card 4: 41 92 73 84 69 | 59 84 76 51 58  5 54 83\n",
    "\n",
    "Card 5: 87 83 26 28 32 | 88 30 70 12 93 22 82 36\n",
    "\n",
    "Card 6: 31 18 13 56 72 | 74 77 10 23 35 67 36 11\n",
    "\n",
    "Card 1 has four matching numbers, so you win one copy each of the next four cards: cards 2, 3, 4, and 5.\n",
    "\n",
    "Your original card 2 has two matching numbers, so you win one copy each of cards 3 and 4.\n",
    "\n",
    "Your copy of card 2 also wins one copy each of cards 3 and 4.\n",
    "\n",
    "Your four instances of card 3 (one original and three copies) have two matching numbers, so you win four copies each of cards 4 and 5.\n",
    "\n",
    "Your eight instances of card 4 (one original and seven copies) have one matching number, so you win eight copies of card 5.\n",
    "\n",
    "Your fourteen instances of card 5 (one original and thirteen copies) have no matching numbers and win no more cards.\n",
    "\n",
    "Your one instance of card 6 (one original) has no matching numbers and wins no more cards.\n",
    "\n",
    "Once all of the originals and copies have been processed, you end up with 1 instance of card 1, 2 instances of card 2, 4 instances of card 3, 8 instances of card 4, 14 instances of card 5, and 1 instance of card 6. In total, this example pile of scratchcards causes you to ultimately have 30 scratchcards!\n",
    "\n",
    "Process all of the original and copied scratchcards until no more scratchcards are won. Including the original set of scratchcards, how many total scratchcards do you end up with?"
   ]
  },
  {
   "cell_type": "code",
   "execution_count": 221,
   "metadata": {},
   "outputs": [],
   "source": [
    "# read all lines in text file\n",
    "with open(\"input.txt\", \"r\") as file:\n",
    "    lines = file.readlines() \n",
    "\n",
    "# remove newline text from each line\n",
    "lines = [line.rstrip(\"\\n\") for line in lines] "
   ]
  },
  {
   "cell_type": "code",
   "execution_count": null,
   "metadata": {},
   "outputs": [],
   "source": [
    "lines_split = [line.split(\": \") for line in lines]"
   ]
  },
  {
   "cell_type": "code",
   "execution_count": null,
   "metadata": {},
   "outputs": [],
   "source": [
    "# convert to dictionary for easy lookup\n",
    "card_dict = {}\n",
    "\n",
    "for line in lines_split:\n",
    "\n",
    "    card = int(line[0].split(\"Card\")[1].strip())\n",
    "\n",
    "    winning_nums = line[1].split(\" | \")[0].split(\" \")\n",
    "    winning_nums = [num for num in winning_nums if num]\n",
    "\n",
    "    own_nums = line[1].split(\" | \")[1].split(\" \")\n",
    "    own_nums = [num for num in own_nums if num]\n",
    "\n",
    "    card_dict[card] = [winning_nums, own_nums]\n",
    "\n",
    "# for key, value in card_dict.items():\n",
    "#     print(key, value)"
   ]
  },
  {
   "cell_type": "code",
   "execution_count": 224,
   "metadata": {},
   "outputs": [],
   "source": [
    "# may need to create a recursive function\n",
    "\n",
    "def find_matches(card_dict, card):\n",
    "\n",
    "    winning_nums = card_dict[card][0]\n",
    "    own_nums = card_dict[card][1]\n",
    "\n",
    "    matches = 0\n",
    "    for num in own_nums:\n",
    "        if num in winning_nums:\n",
    "            matches += 1\n",
    "\n",
    "    count = 0\n",
    "    for match in range (card + 1, card + 1 + matches):\n",
    "        find_matches(card_dict, match)\n",
    "        count += 1\n",
    "\n",
    "    return count\n",
    "\n",
    "total_count = 0\n",
    "for card in range(1, len(lines_split)+1):\n",
    "    count = find_matches(card_dict, 1)\n",
    "    total_count += count + 1\n",
    "\n",
    "print(total_count)"
   ]
  },
  {
   "cell_type": "code",
   "execution_count": null,
   "metadata": {},
   "outputs": [],
   "source": []
  }
 ],
 "metadata": {
  "kernelspec": {
   "display_name": "Python 3",
   "language": "python",
   "name": "python3"
  },
  "language_info": {
   "codemirror_mode": {
    "name": "ipython",
    "version": 3
   },
   "file_extension": ".py",
   "mimetype": "text/x-python",
   "name": "python",
   "nbconvert_exporter": "python",
   "pygments_lexer": "ipython3",
   "version": "3.11.3"
  }
 },
 "nbformat": 4,
 "nbformat_minor": 2
}
