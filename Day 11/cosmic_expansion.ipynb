{
 "cells": [
  {
   "cell_type": "markdown",
   "metadata": {},
   "source": [
    "# Stars: \n",
    "\n",
    "### Day 11: Cosmic Expansion\n",
    "\n",
    "#### Part 1"
   ]
  },
  {
   "cell_type": "code",
   "execution_count": 4,
   "metadata": {},
   "outputs": [
    {
     "name": "stdout",
     "output_type": "stream",
     "text": [
      "Shape: 10 columns, 10 rows\n"
     ]
    }
   ],
   "source": [
    "# read all lines in text file\n",
    "with open(\"test1_input.txt\", \"r\") as file:\n",
    "    lines = file.readlines() \n",
    "\n",
    "# remove newline text from each line\n",
    "lines = [line.rstrip(\"\\n\").split(\" \") for line in lines]\n",
    "\n",
    "# get metadata\n",
    "n_rows = len(lines)\n",
    "n_cols = len(lines[0][0])\n",
    "print(f\"Shape: {n_cols} columns, {n_rows} rows\")"
   ]
  },
  {
   "cell_type": "code",
   "execution_count": 6,
   "metadata": {},
   "outputs": [],
   "source": [
    "def display_grid(grid):\n",
    "    print(\"Grid:\")\n",
    "    for row in grid:\n",
    "        print(\"\".join(row))\n",
    "\n",
    "def generate_grid(lines, n_rows, n_cols, print_grid=False):\n",
    "\n",
    "    grid = [[' ' for _ in range(n_rows)] for _ in range(n_cols)]\n",
    "\n",
    "    for i, row in enumerate(lines):\n",
    "        for j, element in enumerate(row[0]):\n",
    "            grid[i][j] = element\n",
    "\n",
    "    if print_grid==True:\n",
    "        display_grid(grid)\n",
    "    \n",
    "    return grid"
   ]
  },
  {
   "cell_type": "code",
   "execution_count": 9,
   "metadata": {},
   "outputs": [
    {
     "name": "stdout",
     "output_type": "stream",
     "text": [
      "Grid:\n",
      "...#......\n",
      ".......#..\n",
      "#.........\n",
      "..........\n",
      "......#...\n",
      ".#........\n",
      ".........#\n",
      "..........\n",
      ".......#..\n",
      "#...#.....\n"
     ]
    }
   ],
   "source": [
    "grid = generate_grid(lines, n_rows, n_cols, print_grid=True)"
   ]
  }
 ],
 "metadata": {
  "kernelspec": {
   "display_name": "Python 3",
   "language": "python",
   "name": "python3"
  },
  "language_info": {
   "codemirror_mode": {
    "name": "ipython",
    "version": 3
   },
   "file_extension": ".py",
   "mimetype": "text/x-python",
   "name": "python",
   "nbconvert_exporter": "python",
   "pygments_lexer": "ipython3",
   "version": "3.11.3"
  }
 },
 "nbformat": 4,
 "nbformat_minor": 2
}
