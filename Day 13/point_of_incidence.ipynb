{
 "cells": [
  {
   "cell_type": "markdown",
   "metadata": {},
   "source": [
    "# Stars: \n",
    "\n",
    "### Day 13: Point of Incidence\n",
    "\n",
    "#### Part 1|"
   ]
  },
  {
   "cell_type": "code",
   "execution_count": 1,
   "metadata": {},
   "outputs": [],
   "source": [
    "import numpy as np"
   ]
  },
  {
   "cell_type": "code",
   "execution_count": 2,
   "metadata": {},
   "outputs": [],
   "source": [
    "# read all lines in text file\n",
    "with open(\"input.txt\", \"r\") as file:\n",
    "    lines = file.read() \n",
    "\n",
    "patterns = lines.split(\"\\n\\n\")\n",
    "patterns = [pattern.split(\"\\n\") for pattern in patterns]"
   ]
  },
  {
   "cell_type": "code",
   "execution_count": 3,
   "metadata": {},
   "outputs": [],
   "source": [
    "def display_grid(grid):\n",
    "    print(\"Grid:\")\n",
    "    for row in grid:\n",
    "        print(\"\".join(row))"
   ]
  },
  {
   "cell_type": "code",
   "execution_count": 4,
   "metadata": {},
   "outputs": [],
   "source": [
    "grids_t = []\n",
    "grids = [[[char for char in line] for line in pattern] for pattern in patterns]\n",
    "for grid in grids:\n",
    "    grid_t = np.transpose(grid)\n",
    "    grids_t.append(grid_t)"
   ]
  },
  {
   "cell_type": "code",
   "execution_count": 5,
   "metadata": {},
   "outputs": [],
   "source": [
    "results = []\n",
    "\n",
    "for ind, grid in enumerate(grids):\n",
    "    \n",
    "    # print(\"--------------------------------------------------------\")\n",
    "\n",
    "    grid_t = grids_t[ind]\n",
    "    grid_pair = [grid, grid_t]\n",
    "\n",
    "    pair = [\"\",\"\"]\n",
    "\n",
    "    for ind2, g in enumerate(grid_pair):\n",
    "\n",
    "        if ind2 == 0:\n",
    "            grid_type = \"Original\"\n",
    "        else:\n",
    "            grid_type = \"Transposed\"\n",
    "\n",
    "        n_rows = len(g)\n",
    "        n_cols = len(g[0])\n",
    "        status = \"\"\n",
    "\n",
    "        # display_grid(g)        \n",
    "        # print(\"Rows:\", n_rows, \", Cols:\", n_cols)\n",
    "\n",
    "        all_matches = {}\n",
    "\n",
    "        for i in range(n_rows):\n",
    "\n",
    "            current = \"\".join(g[i])\n",
    "\n",
    "            next_i = i+1\n",
    "            prev_i = i-1\n",
    "\n",
    "            if i == 0:\n",
    "                prev = \"None\"\n",
    "                next = \"\".join(g[next_i])\n",
    "            if 0 < i < (n_rows-1):\n",
    "                prev = \"\".join(g[prev_i])\n",
    "                next = \"\".join(g[next_i])\n",
    "            elif i == (n_rows-1):\n",
    "                prev = \"\".join(g[prev_i])\n",
    "                next = \"None\"\n",
    "            else:\n",
    "                pass\n",
    "\n",
    "            matches = []\n",
    "\n",
    "            if (status == \"\") and (current == next):\n",
    "\n",
    "                status = \"Match\"\n",
    "\n",
    "                # print(\"\\n\", f\"Match at rows ({i}) and ({next_i}): '{current}'\")\n",
    "\n",
    "                matches.append(0)\n",
    "                \n",
    "                max_steps = min(i + 1, n_rows - i + 1)\n",
    "\n",
    "                for offset in range(2, max_steps+1):\n",
    "\n",
    "                    offset_up = i+offset\n",
    "                    offset_dn = i-offset+1\n",
    "\n",
    "                    if (0 <= offset_up <= (n_rows-1)) and (0 <= offset_up <= (n_rows-1)):\n",
    "\n",
    "                        val_up = \"\".join(g[offset_up])\n",
    "                        val_dn = \"\".join(g[offset_dn])\n",
    "\n",
    "                        if val_up == val_dn:\n",
    "                            # print(f\" >>> Match at rows ({offset_up}) and ({offset_dn}): '{val_up}'\")\n",
    "                            matches.append(0)\n",
    "                        \n",
    "                        else:\n",
    "                            # print(f\" >>> NO match at rows ({offset_up}) and ({offset_dn}): '{val_up}' and '{val_dn}'\")\n",
    "                            matches.append(1)\n",
    "                            break\n",
    "\n",
    "            else:\n",
    "                status = \"\"\n",
    "            \n",
    "            if len(matches) > 0:\n",
    "                all_matches[i] = [ind, ind2, matches] \n",
    "        \n",
    "        # print(\"\")\n",
    "        for key, val in all_matches.items():\n",
    "            val_matches = val[2]\n",
    "            val_ind2 = int(val[1])\n",
    "            # print(key, val_matches)\n",
    "            if sum(val_matches) == 0: \n",
    "                pair[val_ind2] = key\n",
    "            if sum(val_matches) > 0: \n",
    "                pair[val_ind2] = \"\"\n",
    "    \n",
    "    # print(pair)\n",
    "    results.append(pair)\n",
    "\n",
    "# results "
   ]
  },
  {
   "cell_type": "code",
   "execution_count": 6,
   "metadata": {},
   "outputs": [
    {
     "data": {
      "text/plain": [
       "31904"
      ]
     },
     "execution_count": 6,
     "metadata": {},
     "output_type": "execute_result"
    }
   ],
   "source": [
    "total = 0\n",
    "for result in results:\n",
    "    rows = result[0]\n",
    "    cols = result[1]\n",
    "\n",
    "    if rows != \"\": \n",
    "        val = (rows + 1) * 100\n",
    "        total += val\n",
    "    \n",
    "    if cols != \"\":\n",
    "        val = cols + 1\n",
    "        total += val\n",
    "\n",
    "total\n",
    "\n",
    "# 23607 - too low\n",
    "# 31904 - too low"
   ]
  },
  {
   "cell_type": "code",
   "execution_count": null,
   "metadata": {},
   "outputs": [],
   "source": []
  },
  {
   "cell_type": "code",
   "execution_count": null,
   "metadata": {},
   "outputs": [],
   "source": []
  },
  {
   "cell_type": "code",
   "execution_count": null,
   "metadata": {},
   "outputs": [],
   "source": []
  },
  {
   "cell_type": "code",
   "execution_count": null,
   "metadata": {},
   "outputs": [],
   "source": []
  },
  {
   "cell_type": "code",
   "execution_count": null,
   "metadata": {},
   "outputs": [],
   "source": []
  },
  {
   "cell_type": "code",
   "execution_count": null,
   "metadata": {},
   "outputs": [],
   "source": []
  }
 ],
 "metadata": {
  "kernelspec": {
   "display_name": "Python 3",
   "language": "python",
   "name": "python3"
  },
  "language_info": {
   "codemirror_mode": {
    "name": "ipython",
    "version": 3
   },
   "file_extension": ".py",
   "mimetype": "text/x-python",
   "name": "python",
   "nbconvert_exporter": "python",
   "pygments_lexer": "ipython3",
   "version": "3.11.3"
  }
 },
 "nbformat": 4,
 "nbformat_minor": 2
}
