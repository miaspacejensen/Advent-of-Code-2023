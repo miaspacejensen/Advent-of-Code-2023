{
 "cells": [
  {
   "cell_type": "markdown",
   "metadata": {},
   "source": [
    "# Stars: \n",
    "\n",
    "### Day 15: Lens Library\n",
    "\n",
    "#### Part 1"
   ]
  },
  {
   "cell_type": "code",
   "execution_count": 15,
   "metadata": {},
   "outputs": [],
   "source": [
    "# read all lines in text file\n",
    "with open(\"input.txt\", \"r\") as file:\n",
    "    text = file.read() \n",
    "\n",
    "lines = text.split(\",\")\n",
    "# lines"
   ]
  },
  {
   "cell_type": "code",
   "execution_count": 17,
   "metadata": {},
   "outputs": [
    {
     "data": {
      "text/plain": [
       "508552"
      ]
     },
     "execution_count": 17,
     "metadata": {},
     "output_type": "execute_result"
    }
   ],
   "source": [
    "print_val = False\n",
    "count = 0\n",
    "\n",
    "values = []\n",
    "\n",
    "for line in lines:\n",
    "    current_value = 0\n",
    "    for char in line:\n",
    "        count += 1\n",
    "        ascii = ord(char)\n",
    "        if print_val == True: print(char, \"=\", ascii)\n",
    "        current_value += ascii\n",
    "        if print_val == True: print(\" >>>\", current_value)\n",
    "        current_value *= 17\n",
    "        if print_val == True: print(\" >>>\", current_value)\n",
    "        current_value %= 256\n",
    "        if print_val == True: print(\" >>>\", current_value)\n",
    "    values.append(current_value)\n",
    "\n",
    "# print(values)\n",
    "sum(values)"
   ]
  },
  {
   "cell_type": "markdown",
   "metadata": {},
   "source": []
  },
  {
   "cell_type": "code",
   "execution_count": null,
   "metadata": {},
   "outputs": [],
   "source": []
  }
 ],
 "metadata": {
  "kernelspec": {
   "display_name": "Python 3",
   "language": "python",
   "name": "python3"
  },
  "language_info": {
   "codemirror_mode": {
    "name": "ipython",
    "version": 3
   },
   "file_extension": ".py",
   "mimetype": "text/x-python",
   "name": "python",
   "nbconvert_exporter": "python",
   "pygments_lexer": "ipython3",
   "version": "3.11.3"
  }
 },
 "nbformat": 4,
 "nbformat_minor": 2
}
