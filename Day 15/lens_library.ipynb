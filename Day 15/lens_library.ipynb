{
 "cells": [
  {
   "cell_type": "markdown",
   "metadata": {},
   "source": [
    "# Stars: \n",
    "\n",
    "### Day 15: Lens Library\n",
    "\n",
    "#### Part 1"
   ]
  },
  {
   "cell_type": "code",
   "execution_count": 1,
   "metadata": {},
   "outputs": [],
   "source": [
    "# read all lines in text file\n",
    "with open(\"input.txt\", \"r\") as file:\n",
    "    text = file.read() \n",
    "\n",
    "lines = text.split(\",\")\n",
    "# lines"
   ]
  },
  {
   "cell_type": "code",
   "execution_count": 2,
   "metadata": {},
   "outputs": [],
   "source": [
    "def hash(line):\n",
    "    current_value = 0\n",
    "    for char in line:\n",
    "        ascii = ord(char)\n",
    "        current_value += ascii\n",
    "        current_value *= 17\n",
    "        current_value %= 256\n",
    "    return current_value"
   ]
  },
  {
   "cell_type": "code",
   "execution_count": 3,
   "metadata": {},
   "outputs": [
    {
     "data": {
      "text/plain": [
       "508552"
      ]
     },
     "execution_count": 3,
     "metadata": {},
     "output_type": "execute_result"
    }
   ],
   "source": [
    "values = []\n",
    "\n",
    "for line in lines:\n",
    "    current_value = hash(line)\n",
    "    values.append(current_value)\n",
    "    \n",
    "sum(values)\n",
    "\n",
    "# correct answer = 508552"
   ]
  },
  {
   "cell_type": "markdown",
   "metadata": {},
   "source": [
    "#### Part 2"
   ]
  },
  {
   "cell_type": "code",
   "execution_count": 4,
   "metadata": {},
   "outputs": [
    {
     "data": {
      "text/plain": [
       "['rn=1',\n",
       " 'cm-',\n",
       " 'qp=3',\n",
       " 'cm=2',\n",
       " 'qp-',\n",
       " 'pc=4',\n",
       " 'ot=9',\n",
       " 'ab=5',\n",
       " 'pc-',\n",
       " 'pc=6',\n",
       " 'ot=7']"
      ]
     },
     "execution_count": 4,
     "metadata": {},
     "output_type": "execute_result"
    }
   ],
   "source": [
    "# read all lines in text file\n",
    "with open(\"test_input.txt\", \"r\") as file:\n",
    "    text = file.read() \n",
    "\n",
    "lines = text.split(\",\")\n",
    "lines"
   ]
  },
  {
   "cell_type": "code",
   "execution_count": 5,
   "metadata": {},
   "outputs": [],
   "source": [
    "# def check_box_for_lens(boxes, lens):\n",
    "#     for box, box_dic in boxes.items():\n",
    "#         if lens in box_dic.keys():\n",
    "#             del boxes[box][lens]\n",
    "#     return boxes\n",
    "\n",
    "# boxes = {\n",
    "#     0: {\"a1\":1, \"a2\":2},\n",
    "#     1: {\"b1\":3, \"b2\":4}\n",
    "# }\n",
    "\n",
    "# lens = \"a1\"\n",
    "# result = check_box_for_lens(boxes, lens)\n",
    "# print(\"Boxes:\")\n",
    "# for key, val in result.items():\n",
    "#     print(key, val)"
   ]
  },
  {
   "cell_type": "code",
   "execution_count": 21,
   "metadata": {},
   "outputs": [],
   "source": [
    "def check_if_lens_exists(item, dic):\n",
    "    for box, lenses in dic.items():\n",
    "        for lens in lenses:\n",
    "            if item in lens:\n",
    "                return [box, lens]\n",
    "    return False"
   ]
  },
  {
   "cell_type": "code",
   "execution_count": 31,
   "metadata": {},
   "outputs": [
    {
     "data": {
      "text/plain": [
       "{0: ['rn 1', 'cm 2'],\n",
       " 1: [],\n",
       " 2: [],\n",
       " 3: ['ot 9', 'ABC', 'pc 6', 'ot 7'],\n",
       " 4: [],\n",
       " 5: []}"
      ]
     },
     "execution_count": 31,
     "metadata": {},
     "output_type": "execute_result"
    }
   ],
   "source": [
    "box_dic"
   ]
  },
  {
   "cell_type": "code",
   "execution_count": 28,
   "metadata": {},
   "outputs": [
    {
     "data": {
      "text/plain": [
       "['ot 9', 'ab 5', 'pc 6', 'ot 7']"
      ]
     },
     "execution_count": 28,
     "metadata": {},
     "output_type": "execute_result"
    }
   ],
   "source": [
    "box_dic[box]"
   ]
  },
  {
   "cell_type": "code",
   "execution_count": 29,
   "metadata": {},
   "outputs": [],
   "source": [
    "box_dic[box]"
   ]
  },
  {
   "cell_type": "code",
   "execution_count": 30,
   "metadata": {},
   "outputs": [
    {
     "data": {
      "text/plain": [
       "['ot 9', 'ABC', 'pc 6', 'ot 7']"
      ]
     },
     "execution_count": 30,
     "metadata": {},
     "output_type": "execute_result"
    }
   ],
   "source": [
    "box_dic[box]"
   ]
  },
  {
   "cell_type": "code",
   "execution_count": 36,
   "metadata": {},
   "outputs": [],
   "source": [
    "def replace_lens(old_line, new_line, dic, key, val):\n",
    "\n",
    "    for i, item in enumerate(val):\n",
    "        if old_line in val:\n",
    "            dic[key][i] = new_line\n",
    "\n",
    "    return dic\n",
    "\n"
   ]
  },
  {
   "cell_type": "code",
   "execution_count": 35,
   "metadata": {},
   "outputs": [
    {
     "data": {
      "text/plain": [
       "{0: ['rn 1', 'cm 2'],\n",
       " 1: [],\n",
       " 2: [],\n",
       " 3: ['ABC', 'ABC', 'ABC', 'ABC'],\n",
       " 4: [],\n",
       " 5: []}"
      ]
     },
     "execution_count": 35,
     "metadata": {},
     "output_type": "execute_result"
    }
   ],
   "source": [
    "dic = {\n",
    "    0: ['rn 1', 'cm 2'],\n",
    "    1: [],\n",
    "    2: [],\n",
    "    3: ['ot 9', 'ab 5', 'pc 6', 'ot 7'],\n",
    "    4: [],\n",
    "    5: []\n",
    "}\n",
    "old_line = 'ab 5'\n",
    "new_line = \"ABC\"\n",
    "key = 3\n",
    "val = ['ot 9', 'ab 5', 'pc 6', 'ot 7']\n",
    "\n",
    "replace_lens(old_line, new_line, dic, key, val)"
   ]
  },
  {
   "cell_type": "code",
   "execution_count": 23,
   "metadata": {},
   "outputs": [
    {
     "name": "stdout",
     "output_type": "stream",
     "text": [
      "After \"rn=1\"\n",
      "False\n",
      "{0: ['rn 1'], 1: [], 2: [], 3: [], 4: [], 5: []}\n",
      "Box 0: [rn 1]\n",
      "\n",
      "After \"cm-\"\n",
      "False\n",
      "{0: ['rn 1'], 1: [], 2: [], 3: [], 4: [], 5: []}\n",
      "Box 0: [rn 1]\n",
      "\n",
      "After \"qp=3\"\n",
      "False\n",
      "{0: ['rn 1'], 1: ['qp 3'], 2: [], 3: [], 4: [], 5: []}\n",
      "Box 0: [rn 1]\n",
      "Box 1: [qp 3]\n",
      "\n",
      "After \"cm=2\"\n",
      "False\n",
      "{0: ['rn 1', 'cm 2'], 1: ['qp 3'], 2: [], 3: [], 4: [], 5: []}\n",
      "Box 0: [rn 1] [cm 2]\n",
      "Box 1: [qp 3]\n",
      "\n",
      "After \"qp-\"\n",
      "(1, 'qp 3')\n",
      "1 qp 3 ['qp 3']\n",
      "{0: ['rn 1', 'cm 2'], 1: [], 2: [], 3: [], 4: [], 5: []}\n",
      "Box 0: [rn 1] [cm 2]\n",
      "\n",
      "After \"pc=4\"\n",
      "False\n",
      "{0: ['rn 1', 'cm 2'], 1: [], 2: [], 3: ['pc 4'], 4: [], 5: []}\n",
      "Box 0: [rn 1] [cm 2]\n",
      "Box 3: [pc 4]\n",
      "\n",
      "After \"ot=9\"\n",
      "False\n",
      "{0: ['rn 1', 'cm 2'], 1: [], 2: [], 3: ['pc 4', 'ot 9'], 4: [], 5: []}\n",
      "Box 0: [rn 1] [cm 2]\n",
      "Box 3: [pc 4] [ot 9]\n",
      "\n",
      "After \"ab=5\"\n",
      "False\n",
      "{0: ['rn 1', 'cm 2'], 1: [], 2: [], 3: ['pc 4', 'ot 9', 'ab 5'], 4: [], 5: []}\n",
      "Box 0: [rn 1] [cm 2]\n",
      "Box 3: [pc 4] [ot 9] [ab 5]\n",
      "\n",
      "After \"pc-\"\n",
      "(3, 'pc 4')\n",
      "3 pc 4 ['pc 4', 'ot 9', 'ab 5']\n",
      "{0: ['rn 1', 'cm 2'], 1: [], 2: [], 3: ['ot 9', 'ab 5'], 4: [], 5: []}\n",
      "Box 0: [rn 1] [cm 2]\n",
      "Box 3: [ot 9] [ab 5]\n",
      "\n",
      "After \"pc=6\"\n",
      "False\n",
      "{0: ['rn 1', 'cm 2'], 1: [], 2: [], 3: ['ot 9', 'ab 5', 'pc 6'], 4: [], 5: []}\n",
      "Box 0: [rn 1] [cm 2]\n",
      "Box 3: [ot 9] [ab 5] [pc 6]\n",
      "\n",
      "After \"ot=7\"\n",
      "(3, 'ot 9')\n",
      "{0: ['rn 1', 'cm 2'], 1: [], 2: [], 3: ['ot 9', 'ab 5', 'pc 6', 'ot 7'], 4: [], 5: []}\n",
      "Box 0: [rn 1] [cm 2]\n",
      "Box 3: [ot 9] [ab 5] [pc 6] [ot 7]\n",
      "\n"
     ]
    }
   ],
   "source": [
    "n_boxes = 5\n",
    "box_keys = list(range(n_boxes+1))\n",
    "box_dic = dict(zip(box_keys, [[]]*len(box_keys)))\n",
    "\n",
    "# print(box_dic, \"\\n\")\n",
    "\n",
    "for line in lines:\n",
    "\n",
    "    print(f'After \"{line}\"')\n",
    "    \n",
    "    if \"=\" in line:\n",
    "        line_new = line.replace('=', ' ')\n",
    "        line_split = line.split(\"=\")\n",
    "        lens = line_split[0]\n",
    "        focal_length = line_split[1]\n",
    "        box = hash(lens)\n",
    "\n",
    "        exists = check_if_lens_exists(lens, box_dic)\n",
    "        if exists != False: \n",
    "            print(exists)\n",
    "            # replace\n",
    "\n",
    "        box_contents = box_dic[box] + [line_new]\n",
    "        box_dic[box] = box_contents\n",
    "        \n",
    "    elif \"-\" in line:\n",
    "        line_split = line.split(\"-\")\n",
    "        lens = line_split[0]\n",
    "        focal_length = line_split[1]\n",
    "\n",
    "        exists = check_if_lens_exists(lens, box_dic)\n",
    "        print(exists)\n",
    "\n",
    "        for box, lenses in box_dic.items():\n",
    "            for item in lenses:\n",
    "                if lens in item:\n",
    "                    box_contents = box_dic[box]\n",
    "                    print(box, item, box_contents)\n",
    "                    box_dic[box] = [i for i in box_contents if lens not in i]\n",
    "\n",
    "    else:\n",
    "        pass\n",
    "    \n",
    "    print(box_dic)\n",
    "    for key, val in box_dic.items():\n",
    "        if len(val)>0:\n",
    "            join_val = \"[\"+\"] [\".join(val)+\"]\"\n",
    "            print(f\"Box {key}: {join_val}\")\n",
    "    \n",
    "    print(\"\")"
   ]
  },
  {
   "cell_type": "code",
   "execution_count": null,
   "metadata": {},
   "outputs": [],
   "source": []
  },
  {
   "cell_type": "code",
   "execution_count": null,
   "metadata": {},
   "outputs": [],
   "source": []
  },
  {
   "cell_type": "code",
   "execution_count": 14,
   "metadata": {},
   "outputs": [
    {
     "data": {
      "text/plain": [
       "False"
      ]
     },
     "execution_count": 14,
     "metadata": {},
     "output_type": "execute_result"
    }
   ],
   "source": [
    "dic = {0: ['rn 1', 'cm 2'], 1: [], 2: [], 3: ['pc 4', 'ot 9', 'ab 5'], 4: [], 5: []}\n",
    "lens = \"xy\"\n",
    "check_if_label_exists(lens, dic)"
   ]
  }
 ],
 "metadata": {
  "kernelspec": {
   "display_name": "Python 3",
   "language": "python",
   "name": "python3"
  },
  "language_info": {
   "codemirror_mode": {
    "name": "ipython",
    "version": 3
   },
   "file_extension": ".py",
   "mimetype": "text/x-python",
   "name": "python",
   "nbconvert_exporter": "python",
   "pygments_lexer": "ipython3",
   "version": "3.11.3"
  }
 },
 "nbformat": 4,
 "nbformat_minor": 2
}
