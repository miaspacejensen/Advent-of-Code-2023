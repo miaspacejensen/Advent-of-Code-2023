{
 "cells": [
  {
   "cell_type": "markdown",
   "metadata": {},
   "source": [
    "# Stars: \n",
    "\n",
    "### Day 20: Pulse Propagation\n",
    "\n",
    "#### Part 1"
   ]
  },
  {
   "cell_type": "code",
   "execution_count": 6,
   "metadata": {},
   "outputs": [
    {
     "name": "stdout",
     "output_type": "stream",
     "text": [
      "['broadcaster -> a, b, c', '%a -> b', '%b -> c', '%c -> inv', '&inv -> a']\n"
     ]
    }
   ],
   "source": [
    "def get_data(file_name):\n",
    "    with open(file_name, \"r\") as file:\n",
    "        lines = file.read() \n",
    "    lines = lines.split(\"\\n\")\n",
    "    # lines = [section.split(\"\\n\") for section in sections]\n",
    "    return lines\n",
    "\n",
    "file_name = \"test_input.txt\"\n",
    "config = get_data(file_name)\n",
    "print(config)"
   ]
  },
  {
   "cell_type": "code",
   "execution_count": null,
   "metadata": {},
   "outputs": [],
   "source": [
    "# flip flop modules:\n",
    "#   > prefix %\n",
    "#   > either on or off\n",
    "#   > initally off\n",
    "#   > if recieves a high pulse, it does nothing\n",
    "#   > if recieves a low pulse, it switches on/off\n",
    "#       > if initally off, it turns on and sends a high pulse\n",
    "#       > if initally on, it turns off and sends a low pulse\n",
    "\n",
    "# conjuntion modules:\n",
    "#   > prefix &\n",
    "#   > remembers most recent pulse recieved from each of their connected input modules\n",
    "#   > inital defaults to low pulse for each input\n",
    "#   > when pulse is recieved\n",
    "#       > first updates memory for that input\n",
    "#       > if it remembers high pulses for all inputs, it sends a low pulse\n",
    "#       > otherwise, it sends a high pulse\n",
    "\n",
    "# broadcast modules:\n",
    "#   > only one of these\n",
    "#   > when recieved a pulse, sends the same pulse to all destination modules\n",
    "\n",
    "# button modules:\n",
    "#   > only one of these\n",
    "#   > when recieved a pulse, sends the same pulse to all destination modules\n"
   ]
  },
  {
   "cell_type": "code",
   "execution_count": 75,
   "metadata": {},
   "outputs": [],
   "source": [
    "class Module:\n",
    "    def __init__(self, name):\n",
    "        self.name = name\n",
    "        self.destinations = []\n",
    "        self.high_pulse_count = 0\n",
    "        self.low_pulse_count = 0\n",
    "\n",
    "    def add_destination(self, module):\n",
    "        self.destinations.append(module)\n",
    "\n",
    "    def send_pulse(self, pulse):\n",
    "        for destination in self.destinations:\n",
    "            destination.receive_pulse(pulse)\n",
    "            \n",
    "    def receive_pulse(self, pulse):\n",
    "        if pulse == \"high\":\n",
    "            self.high_pulse_count += 1\n",
    "        elif pulse == \"low\":\n",
    "            self.low_pulse_count += 1"
   ]
  },
  {
   "cell_type": "code",
   "execution_count": 76,
   "metadata": {},
   "outputs": [],
   "source": [
    "class FlipFlop(Module):\n",
    "    def __init__(self, name):\n",
    "        super().__init__(name)\n",
    "        self.state = False  # False for off, True for on\n",
    "\n",
    "    def receive_pulse(self, pulse):\n",
    "        if pulse == \"low\":\n",
    "            self.state = not self.state\n",
    "            if self.state:\n",
    "                self.send_pulse(\"high\")\n",
    "            else:\n",
    "                self.send_pulse(\"low\")\n",
    "        super().receive_pulse(pulse)"
   ]
  },
  {
   "cell_type": "code",
   "execution_count": 77,
   "metadata": {},
   "outputs": [],
   "source": [
    "class Conjunction(Module):\n",
    "    def __init__(self, name, num_inputs):\n",
    "        super().__init__(name)\n",
    "        self.inputs = {i: \"low\" for i in range(num_inputs)}  # Initialize input memories to low\n",
    "\n",
    "    def receive_pulse(self, pulse):\n",
    "        # Update input memory\n",
    "        # Assumes pulse format: (\"module_name\", \"pulse_type\")\n",
    "        module_name, pulse_type = pulse\n",
    "        input_index = int(module_name.split(\"_\")[-1])  # Extract input index from module name\n",
    "        self.inputs[input_index] = pulse_type\n",
    "\n",
    "        # Check if all inputs are high\n",
    "        all_high = all(pulse_type == \"high\" for pulse_type in self.inputs.values())\n",
    "\n",
    "        # Send pulse based on input status\n",
    "        if all_high:\n",
    "            self.send_pulse(\"low\")\n",
    "        else:\n",
    "            self.send_pulse(\"high\")\n",
    "        super().receive_pulse(pulse)"
   ]
  },
  {
   "cell_type": "code",
   "execution_count": 78,
   "metadata": {},
   "outputs": [],
   "source": [
    "class Broadcaster(Module):\n",
    "    def receive_pulse(self, pulse):\n",
    "        self.send_pulse(pulse)\n",
    "        super().receive_pulse(pulse)"
   ]
  },
  {
   "cell_type": "code",
   "execution_count": 79,
   "metadata": {},
   "outputs": [],
   "source": [
    "a = FlipFlop(\"%a\")\n",
    "b = FlipFlop(\"%b\")\n",
    "c = FlipFlop(\"%c\")\n",
    "inv = Conjunction(\"&inv\", num_inputs=1)\n",
    "broadcaster = Broadcaster(\"broadcaster\")\n",
    "\n",
    "broadcaster.add_destination(a)\n",
    "broadcaster.add_destination(b)\n",
    "broadcaster.add_destination(c)\n",
    "a.add_destination(b)\n",
    "b.add_destination(c)\n",
    "c.add_destination(inv)\n",
    "inv.add_destination(a)\n"
   ]
  },
  {
   "cell_type": "code",
   "execution_count": 80,
   "metadata": {},
   "outputs": [],
   "source": [
    "broadcaster.receive_pulse(\"high\")"
   ]
  },
  {
   "cell_type": "code",
   "execution_count": 81,
   "metadata": {},
   "outputs": [],
   "source": [
    "a.receive_pulse(\"high\")"
   ]
  },
  {
   "cell_type": "code",
   "execution_count": null,
   "metadata": {},
   "outputs": [],
   "source": []
  }
 ],
 "metadata": {
  "kernelspec": {
   "display_name": "Python 3",
   "language": "python",
   "name": "python3"
  },
  "language_info": {
   "codemirror_mode": {
    "name": "ipython",
    "version": 3
   },
   "file_extension": ".py",
   "mimetype": "text/x-python",
   "name": "python",
   "nbconvert_exporter": "python",
   "pygments_lexer": "ipython3",
   "version": "3.11.3"
  }
 },
 "nbformat": 4,
 "nbformat_minor": 2
}
