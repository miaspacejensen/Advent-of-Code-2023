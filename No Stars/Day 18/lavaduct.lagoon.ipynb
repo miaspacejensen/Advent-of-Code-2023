{
 "cells": [
  {
   "cell_type": "markdown",
   "metadata": {},
   "source": [
    "# Stars: \n",
    "\n",
    "### Day 17: Lavaduct Lagoon\n",
    "\n",
    "#### Part 1"
   ]
  },
  {
   "cell_type": "code",
   "execution_count": 48,
   "metadata": {},
   "outputs": [
    {
     "data": {
      "text/plain": [
       "[['R', '6', '(#70c710)'],\n",
       " ['D', '5', '(#0dc571)'],\n",
       " ['L', '2', '(#5713f0)'],\n",
       " ['D', '2', '(#d2c081)'],\n",
       " ['R', '2', '(#59c680)'],\n",
       " ['D', '2', '(#411b91)'],\n",
       " ['L', '5', '(#8ceee2)'],\n",
       " ['U', '2', '(#caa173)'],\n",
       " ['L', '1', '(#1b58a2)'],\n",
       " ['U', '2', '(#caa171)'],\n",
       " ['R', '2', '(#7807d2)'],\n",
       " ['U', '3', '(#a77fa3)'],\n",
       " ['L', '2', '(#015232)'],\n",
       " ['U', '2', '(#7a21e3)']]"
      ]
     },
     "execution_count": 48,
     "metadata": {},
     "output_type": "execute_result"
    }
   ],
   "source": [
    "def get_data(file_name):\n",
    "    with open(file_name, \"r\") as file:\n",
    "        lines = file.read() \n",
    "\n",
    "    lines = lines.split(\"\\n\")\n",
    "    lines = [line.split(\" \") for line in lines]\n",
    "    return lines\n",
    "\n",
    "file_name = \"test_input.txt\"\n",
    "lines = get_data(file_name)\n",
    "lines"
   ]
  },
  {
   "cell_type": "code",
   "execution_count": 49,
   "metadata": {},
   "outputs": [],
   "source": [
    "def display_grid(grid):\n",
    "    for row in grid:\n",
    "        print(\"\".join(row))"
   ]
  },
  {
   "cell_type": "code",
   "execution_count": 50,
   "metadata": {},
   "outputs": [
    {
     "name": "stdout",
     "output_type": "stream",
     "text": [
      "###.\n",
      "..##\n",
      "....\n"
     ]
    }
   ],
   "source": [
    "def add_hash(grid, new_row_index, new_column_index):\n",
    "    \n",
    "    # Extend the grid if necessary\n",
    "    max_row_index = max(len(grid) - 1, new_row_index)\n",
    "    max_column_index = max(len(grid[0]) - 1, new_column_index)\n",
    "\n",
    "    while len(grid) <= max_row_index:\n",
    "        grid.append(['.' for _ in range(len(grid[0]))])\n",
    "\n",
    "    for row in grid:\n",
    "        while len(row) <= max_column_index:\n",
    "            row.append('.')\n",
    "\n",
    "    # Add the new hashtag at the specified coordinate\n",
    "    grid[new_row_index][new_column_index] = '#'\n",
    "\n",
    "    return grid\n",
    "\n",
    "#Example:\n",
    "grid = [\n",
    "    ['#', '#', '#'],\n",
    "    ['.', '.', '#'],\n",
    "    ['.', '.', '.']\n",
    "]\n",
    "new_grid = add_hash(grid, new_row_index=1, new_column_index=3)\n",
    "display_grid(grid)"
   ]
  },
  {
   "cell_type": "code",
   "execution_count": 53,
   "metadata": {},
   "outputs": [],
   "source": [
    "offsets = {\n",
    "    \"R\": (0, 1),\n",
    "    \"L\": (0,-1),\n",
    "    \"U\": (-1,0),\n",
    "    \"D\": (1, 0)\n",
    "}"
   ]
  },
  {
   "cell_type": "code",
   "execution_count": null,
   "metadata": {},
   "outputs": [],
   "source": [
    "opp_dirs = {\n",
    "    \"R\": \"L\",\n",
    "    \"L\": \"R\",\n",
    "    \"U\": \"U\",\n",
    "    \"D\": \"D\"\n",
    "}"
   ]
  },
  {
   "cell_type": "code",
   "execution_count": 59,
   "metadata": {},
   "outputs": [
    {
     "name": "stdout",
     "output_type": "stream",
     "text": [
      "#######\n",
      "#.....#\n",
      "###...#\n",
      "..#...#\n",
      "..#...#\n",
      "###.###\n",
      "#...#..\n",
      "##..###\n",
      ".#....#\n",
      ".######\n"
     ]
    }
   ],
   "source": [
    "current_pos = [0, 0]\n",
    "path = [current_pos]\n",
    "dirs = []\n",
    "grid = [[\"#\"]]\n",
    "\n",
    "for dir, steps, hex in lines:\n",
    "\n",
    "    offset = offsets[dir]\n",
    "\n",
    "    for step in range(int(steps)):\n",
    "\n",
    "        current_pos = [current_pos[0]+offset[0], current_pos[1]+offset[1]]\n",
    "        path.append(current_pos)\n",
    "        dirs.append(dir)\n",
    "        grid = add_hash(grid, current_pos[0], current_pos[1])\n",
    "\n",
    "display_grid(grid)"
   ]
  },
  {
   "cell_type": "code",
   "execution_count": 58,
   "metadata": {},
   "outputs": [
    {
     "data": {
      "text/plain": [
       "[['#', '#', '#', '#', '#', '#', '#'],\n",
       " ['#', '.', '.', '.', '.', '.', '#'],\n",
       " ['#', '#', '#', '.', '.', '.', '#'],\n",
       " ['.', '.', '#', '.', '.', '.', '#'],\n",
       " ['.', '.', '#', '.', '.', '.', '#'],\n",
       " ['#', '#', '#', '.', '#', '#', '#'],\n",
       " ['#', '.', '.', '.', '#', '.', '.'],\n",
       " ['#', '#', '.', '.', '#', '#', '#'],\n",
       " ['.', '#', '.', '.', '.', '.', '#'],\n",
       " ['.', '#', '#', '#', '#', '#', '#']]"
      ]
     },
     "execution_count": 58,
     "metadata": {},
     "output_type": "execute_result"
    }
   ],
   "source": [
    "grid"
   ]
  },
  {
   "cell_type": "code",
   "execution_count": null,
   "metadata": {},
   "outputs": [],
   "source": []
  }
 ],
 "metadata": {
  "kernelspec": {
   "display_name": "Python 3",
   "language": "python",
   "name": "python3"
  },
  "language_info": {
   "codemirror_mode": {
    "name": "ipython",
    "version": 3
   },
   "file_extension": ".py",
   "mimetype": "text/x-python",
   "name": "python",
   "nbconvert_exporter": "python",
   "pygments_lexer": "ipython3",
   "version": "3.11.3"
  }
 },
 "nbformat": 4,
 "nbformat_minor": 2
}
