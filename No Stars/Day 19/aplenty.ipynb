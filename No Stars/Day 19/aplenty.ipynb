{
 "cells": [
  {
   "cell_type": "markdown",
   "metadata": {},
   "source": [
    "# Stars: \n",
    "\n",
    "### Day 19: Aplenty\n",
    "\n",
    "#### Part 1"
   ]
  },
  {
   "cell_type": "code",
   "execution_count": 1,
   "metadata": {},
   "outputs": [],
   "source": [
    "# def get_data(file_name):\n",
    "#     with open(file_name, \"r\") as file:\n",
    "#         lines = file.read() \n",
    "#     sections = lines.split(\"\\n\\n\")\n",
    "#     lines = [section.split(\"\\n\") for section in sections]\n",
    "#     return lines\n",
    "\n",
    "# file_name = \"test_input.txt\"\n",
    "# workflows, parts = get_data(file_name)\n",
    "# display(workflows)\n",
    "# display(parts)"
   ]
  },
  {
   "cell_type": "code",
   "execution_count": 7,
   "metadata": {},
   "outputs": [],
   "source": [
    "# import re\n",
    "# import numpy as np\n",
    "# import math"
   ]
  },
  {
   "cell_type": "code",
   "execution_count": 8,
   "metadata": {},
   "outputs": [],
   "source": [
    "# def convert_ratings_to_dic(parts):\n",
    "#     rating_dics = []\n",
    "#     for part in parts:\n",
    "\n",
    "#         part = re.findall(r'\\{(.*?)\\}', part)[0]\n",
    "#         ratings = part.split(\",\")\n",
    "\n",
    "#         rating_dic = {}\n",
    "#         for rating in ratings:\n",
    "#             category, value = rating.split(\"=\")\n",
    "#             rating_dic[category] = value\n",
    "\n",
    "#         rating_dics.append(rating_dic)\n",
    "\n",
    "#     return rating_dics\n",
    "\n",
    "# rating_dic = convert_ratings_to_dic(parts)\n",
    "# rating_dic"
   ]
  },
  {
   "cell_type": "code",
   "execution_count": 9,
   "metadata": {},
   "outputs": [],
   "source": [
    "# categories = [\"x\", \"m\", \"a\", \"s\"]"
   ]
  },
  {
   "cell_type": "code",
   "execution_count": 10,
   "metadata": {},
   "outputs": [],
   "source": [
    "# # convert ALL workflows\n",
    "\n",
    "# def convert_workflows_to_dic(workflows):\n",
    "\n",
    "    \n",
    "#     category_dics = []\n",
    "\n",
    "#     for workflow in workflows:\n",
    "\n",
    "#         part, content = workflow.split(\"}\")[0].split(\"{\")\n",
    "#         content = content.split(\",\")\n",
    "#         content_lookups = content[:-1]\n",
    "#         content_final = content[-1]\n",
    "\n",
    "#         category_dic = {key: {\">\":np.nan, \"<\":np.nan, \"output\":np.nan} for key in categories}\n",
    "#         for cont in content_lookups:\n",
    "#             category = cont[0]\n",
    "#             if \">\" in cont:\n",
    "#                 value = int(cont.split(\":\")[0].split(\">\")[1])\n",
    "#                 category_dic[category][\">\"] = value\n",
    "#             elif \"<\" in cont:\n",
    "#                 value = int(cont.split(\":\")[0].split(\"<\")[1])\n",
    "#                 category_dic[category][\"<\"] = value\n",
    "#             category_dic[category][\"output\"] = cont.split(\":\")[1]\n",
    "\n",
    "#         category_dic[\"part\"] = part\n",
    "#         category_dic[\"else\"] = content_final\n",
    "\n",
    "#         category_dics.append(category_dic)\n",
    "\n",
    "#     return category_dics        \n",
    "\n",
    "# workflow_dic = convert_workflows_to_dic(workflows)\n",
    "# workflow_dic[0]"
   ]
  },
  {
   "cell_type": "code",
   "execution_count": 11,
   "metadata": {},
   "outputs": [],
   "source": [
    "# # convert one workflow\n",
    "\n",
    "# def convert_workflow_to_dic(workflow):\n",
    "\n",
    "#     categories = [\"x\", \"m\", \"a\", \"s\"]\n",
    "\n",
    "#     part, content = workflow.split(\"}\")[0].split(\"{\")\n",
    "#     content = content.split(\",\")\n",
    "#     content_lookups = content[:-1]\n",
    "#     content_else = content[-1]\n",
    "\n",
    "#     category_dic = {key: {\">\":0, \"<\":0, \"output\":\"\"} for key in categories}\n",
    "#     for cont in content_lookups:\n",
    "#         category = cont[0]\n",
    "#         if \">\" in cont:\n",
    "#             value = int(cont.split(\":\")[0].split(\">\")[1])\n",
    "#             category_dic[category][\">\"] = value\n",
    "#         elif \"<\" in cont:\n",
    "#             value = int(cont.split(\":\")[0].split(\"<\")[1])\n",
    "#             category_dic[category][\"<\"] = value\n",
    "#         category_dic[category][\"output\"] = cont.split(\":\")[1]\n",
    "\n",
    "#     category_dic[\"part\"] = part\n",
    "#     category_dic[\"else\"] = content_else\n",
    "\n",
    "#     return category_dic\n",
    "\n",
    "# workflow = \"rfg{s<537:gd,x>2440:R,A}\"\n",
    "# convert_workflow_to_dic(workflow)"
   ]
  },
  {
   "cell_type": "code",
   "execution_count": 12,
   "metadata": {},
   "outputs": [],
   "source": [
    "# def lookup_workflow(part):\n",
    "#     for workflow in workflows:\n",
    "#         if workflow.startswith(part):\n",
    "#             return workflow\n",
    "\n",
    "# lookup_workflow(\"in\")"
   ]
  },
  {
   "cell_type": "code",
   "execution_count": 13,
   "metadata": {},
   "outputs": [],
   "source": [
    "# rating_dics = convert_ratings_to_dic(parts)\n",
    "# start = \"in\"\n",
    "\n",
    "# for rating_dic in rating_dics:\n",
    "\n",
    "#     workflow = lookup_workflow(start)\n",
    "#     workflow_dic = convert_workflow_to_dic(workflow)\n",
    "\n",
    "#     display(rating_dic)\n",
    "#     display(workflow_dic)\n",
    "\n",
    "#     for cat, lookups in workflow_dic.items():\n",
    "#         if cat in categories:\n",
    "#             output = workflow_dic[cat]['output']\n",
    "#             lower = workflow_dic[cat]['>']\n",
    "#             upper = workflow_dic[cat]['<']\n",
    "#             range = [lower, upper]\n",
    "#             if output != \"\":\n",
    "#                 print(cat, rating_dic[cat], range)\n",
    "#     break"
   ]
  },
  {
   "cell_type": "code",
   "execution_count": 14,
   "metadata": {},
   "outputs": [],
   "source": [
    "# workflow = lookup_workflow(\"in\")\n",
    "# print(workflow)\n",
    "# convert_workflow_to_dic(workflow)"
   ]
  },
  {
   "cell_type": "code",
   "execution_count": 15,
   "metadata": {},
   "outputs": [],
   "source": [
    "# workflow = \"np{a>132:R,m>2527:R,a>55:sc,tdf}\"\n",
    "# workflow"
   ]
  },
  {
   "cell_type": "markdown",
   "metadata": {},
   "source": [
    "Attempt 2"
   ]
  },
  {
   "cell_type": "code",
   "execution_count": 253,
   "metadata": {},
   "outputs": [
    {
     "data": {
      "text/plain": [
       "['px{a<2006:qkq,m>2090:A,rfg}',\n",
       " 'pv{a>1716:R,A}',\n",
       " 'lnx{m>1548:A,A}',\n",
       " 'rfg{s<537:gd,x>2440:R,A}',\n",
       " 'qs{s>3448:A,lnx}',\n",
       " 'qkq{x<1416:A,crn}',\n",
       " 'crn{x>2662:A,R}',\n",
       " 'in{s<1351:px,qqz}',\n",
       " 'qqz{s>2770:qs,m<1801:hdj,R}',\n",
       " 'gd{a>3333:R,R}',\n",
       " 'hdj{m>838:A,pv}']"
      ]
     },
     "metadata": {},
     "output_type": "display_data"
    },
    {
     "data": {
      "text/plain": [
       "['{x=787,m=2655,a=1222,s=2876}',\n",
       " '{x=1679,m=44,a=2067,s=496}',\n",
       " '{x=2036,m=264,a=79,s=2244}',\n",
       " '{x=2461,m=1339,a=466,s=291}',\n",
       " '{x=2127,m=1623,a=2188,s=1013}']"
      ]
     },
     "metadata": {},
     "output_type": "display_data"
    }
   ],
   "source": [
    "def get_data(file_name):\n",
    "    with open(file_name, \"r\") as file:\n",
    "        lines = file.read() \n",
    "    sections = lines.split(\"\\n\\n\")\n",
    "    lines = [section.split(\"\\n\") for section in sections]\n",
    "    return lines\n",
    "\n",
    "file_name = \"test_input.txt\"\n",
    "workflows, parts = get_data(file_name)\n",
    "display(workflows)\n",
    "display(parts)"
   ]
  },
  {
   "cell_type": "code",
   "execution_count": 254,
   "metadata": {},
   "outputs": [],
   "source": [
    "categories = [\"x\", \"m\", \"a\", \"s\"]"
   ]
  },
  {
   "cell_type": "code",
   "execution_count": 255,
   "metadata": {},
   "outputs": [],
   "source": [
    "import re"
   ]
  },
  {
   "cell_type": "code",
   "execution_count": 285,
   "metadata": {},
   "outputs": [
    {
     "data": {
      "text/plain": [
       "[{'x': '787', 'm': '2655', 'a': '1222', 's': '2876'},\n",
       " {'x': '1679', 'm': '44', 'a': '2067', 's': '496'},\n",
       " {'x': '2036', 'm': '264', 'a': '79', 's': '2244'},\n",
       " {'x': '2461', 'm': '1339', 'a': '466', 's': '291'},\n",
       " {'x': '2127', 'm': '1623', 'a': '2188', 's': '1013'}]"
      ]
     },
     "execution_count": 285,
     "metadata": {},
     "output_type": "execute_result"
    }
   ],
   "source": [
    "def convert_ratings_to_dic(parts):\n",
    "    rating_dics = []\n",
    "    for part in parts:\n",
    "\n",
    "        part = re.findall(r'\\{(.*?)\\}', part)[0]\n",
    "        ratings = part.split(\",\")\n",
    "\n",
    "        rating_dic = {}\n",
    "        for rating in ratings:\n",
    "            category, value = rating.split(\"=\")\n",
    "            rating_dic[category] = value\n",
    "\n",
    "        rating_dics.append(rating_dic)\n",
    "\n",
    "    return rating_dics\n",
    "\n",
    "file_name = \"test_input.txt\"\n",
    "workflows, parts = get_data(file_name)\n",
    "rating_dics = convert_ratings_to_dic(parts)\n",
    "rating_dics"
   ]
  },
  {
   "cell_type": "code",
   "execution_count": 286,
   "metadata": {},
   "outputs": [],
   "source": [
    "def parse_workflow(workflow):\n",
    "\n",
    "    categories = [\"x\", \"m\", \"a\", \"s\"]\n",
    "\n",
    "    part, content = workflow.split(\"}\")[0].split(\"{\")\n",
    "    content = content.split(\",\")\n",
    "    content_lookups = content[:-1] #.split(\",\")\n",
    "    content_else = content[-1]\n",
    "    \n",
    "    return content"
   ]
  },
  {
   "cell_type": "code",
   "execution_count": 287,
   "metadata": {},
   "outputs": [],
   "source": [
    "def lookup_workflow(input):\n",
    "    for workflow in workflows:\n",
    "        if workflow.startswith(input):\n",
    "            return workflow"
   ]
  },
  {
   "cell_type": "code",
   "execution_count": 294,
   "metadata": {},
   "outputs": [],
   "source": [
    "def get_path_and_status(rating_dic, input):\n",
    "\n",
    "    print(\"Input:\", input)\n",
    "\n",
    "    workflow = lookup_workflow(input)\n",
    "    workflow_contents = parse_workflow(workflow)\n",
    "    \n",
    "    # print(workflow_contents)\n",
    "\n",
    "    for key, val in rating_dic.items():\n",
    "\n",
    "        for item in workflow_contents[:-1]:\n",
    "        \n",
    "            digit = \"\".join(re.findall(r'\\d', item))\n",
    "\n",
    "            # print(item, key)\n",
    "\n",
    "            if item.startswith(key):\n",
    "                sign = item[1]\n",
    "                status = False\n",
    "\n",
    "                # check if rating meets conditions\n",
    "                rating = rating_dic[key]\n",
    "                output = workflow_contents[-1]\n",
    "                # print(\" \", key, rating, sign, digit)\n",
    "                if (sign == \"<\" and (int(rating) < int(digit))) or (sign == \">\" and (int(rating) > int(digit))):\n",
    "                    status = True\n",
    "                    output = item.split(\":\")[-1]\n",
    "                else:\n",
    "                    status = False                    \n",
    "\n",
    "                # print(\" \", status, \"->\", output)\n",
    "                if status == True:\n",
    "                    return output\n",
    "\n",
    "            # print(\"Output:\", outputs)\n",
    "\n",
    "    return output"
   ]
  },
  {
   "cell_type": "code",
   "execution_count": 299,
   "metadata": {},
   "outputs": [
    {
     "name": "stdout",
     "output_type": "stream",
     "text": [
      "{'x': '787', 'm': '2655', 'a': '1222', 's': '2876'}\n",
      "Input: in\n",
      "Input: qqz\n",
      "['in', 'qqz', 'R']\n",
      "{'x': '1679', 'm': '44', 'a': '2067', 's': '496'}\n",
      "Input: in\n",
      "Input: px\n",
      "Input: rfg\n",
      "Input: gd\n",
      "['in', 'px', 'rfg', 'gd', 'R']\n",
      "{'x': '2036', 'm': '264', 'a': '79', 's': '2244'}\n",
      "Input: in\n",
      "Input: qqz\n",
      "Input: hdj\n",
      "Input: pv\n",
      "['in', 'qqz', 'hdj', 'pv', 'A']\n",
      "{'x': '2461', 'm': '1339', 'a': '466', 's': '291'}\n",
      "Input: in\n",
      "Input: px\n",
      "Input: qkq\n",
      "Input: crn\n",
      "['in', 'px', 'qkq', 'crn', 'R']\n",
      "{'x': '2127', 'm': '1623', 'a': '2188', 's': '1013'}\n",
      "Input: in\n",
      "Input: px\n",
      "Input: rfg\n",
      "['in', 'px', 'rfg', 'A']\n"
     ]
    },
    {
     "data": {
      "text/plain": [
       "11574"
      ]
     },
     "execution_count": 299,
     "metadata": {},
     "output_type": "execute_result"
    }
   ],
   "source": [
    "def get_result(rating_dics):\n",
    "\n",
    "    total_rating_sum = 0\n",
    "\n",
    "    count = 0\n",
    "    \n",
    "    for rating_dic in rating_dics:\n",
    "\n",
    "        count += 1\n",
    "\n",
    "        print(rating_dic)\n",
    "        input = \"in\"\n",
    "    \n",
    "        path = [input]\n",
    "        while True:\n",
    "            input = get_path_and_status(rating_dic, input)\n",
    "            path.append(input)\n",
    "            if input == \"A\" or input == \"R\":\n",
    "                break\n",
    "    \n",
    "        if path[-1] == \"A\":\n",
    "            rating_sum = 0\n",
    "            for val in rating_dic.values():\n",
    "                val = int(val)\n",
    "                rating_sum += val\n",
    "            total_rating_sum += rating_sum\n",
    "\n",
    "        print(path)\n",
    "        \n",
    "        # if count == 3:\n",
    "        #     break\n",
    "\n",
    "    return total_rating_sum\n",
    "\n",
    "get_result(rating_dics)"
   ]
  },
  {
   "cell_type": "code",
   "execution_count": 300,
   "metadata": {},
   "outputs": [
    {
     "name": "stdout",
     "output_type": "stream",
     "text": [
      "{'x': '787', 'm': '2655', 'a': '1222', 's': '2876'}\n",
      "Input: in\n",
      "Input: qqz\n",
      "Input: qs\n",
      "Input: lnx\n",
      "['in', 'qqz', 'qs', 'lnx', 'A']\n",
      "{'x': '1679', 'm': '44', 'a': '2067', 's': '496'}\n",
      "Input: in\n",
      "Input: px\n",
      "Input: rfg\n",
      "Input: gd\n",
      "['in', 'px', 'rfg', 'gd', 'R']\n",
      "{'x': '2036', 'm': '264', 'a': '79', 's': '2244'}\n",
      "Input: in\n",
      "Input: qqz\n",
      "Input: hdj\n",
      "Input: pv\n",
      "['in', 'qqz', 'hdj', 'pv', 'A']\n",
      "{'x': '2461', 'm': '1339', 'a': '466', 's': '291'}\n",
      "Input: in\n",
      "Input: px\n",
      "Input: qkq\n",
      "Input: crn\n",
      "['in', 'px', 'qkq', 'crn', 'R']\n",
      "{'x': '2127', 'm': '1623', 'a': '2188', 's': '1013'}\n",
      "Input: in\n",
      "Input: px\n",
      "Input: rfg\n",
      "['in', 'px', 'rfg', 'A']\n"
     ]
    },
    {
     "data": {
      "text/plain": [
       "19114"
      ]
     },
     "execution_count": 300,
     "metadata": {},
     "output_type": "execute_result"
    }
   ],
   "source": [
    "file_name = \"test_input.txt\"\n",
    "workflows, parts = get_data(file_name)\n",
    "rating_dics = convert_ratings_to_dic(parts)\n",
    "get_result(rating_dics)\n",
    "\n",
    "# 443128 - too high"
   ]
  }
 ],
 "metadata": {
  "kernelspec": {
   "display_name": "Python 3",
   "language": "python",
   "name": "python3"
  },
  "language_info": {
   "codemirror_mode": {
    "name": "ipython",
    "version": 3
   },
   "file_extension": ".py",
   "mimetype": "text/x-python",
   "name": "python",
   "nbconvert_exporter": "python",
   "pygments_lexer": "ipython3",
   "version": "3.11.3"
  }
 },
 "nbformat": 4,
 "nbformat_minor": 2
}
