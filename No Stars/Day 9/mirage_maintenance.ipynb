{
 "cells": [
  {
   "cell_type": "markdown",
   "metadata": {},
   "source": [
    "# Stars: \n",
    "\n",
    "### Day 9: Mirage Maintenance\n",
    "\n",
    "#### Part 1"
   ]
  },
  {
   "cell_type": "code",
   "execution_count": 3,
   "metadata": {},
   "outputs": [],
   "source": [
    "def read_lines(file_name):\n",
    "    # read all lines in text file\n",
    "    with open(file_name, \"r\") as file:\n",
    "        lines = file.readlines() \n",
    "\n",
    "    # remove newline text from each line\n",
    "    lines = [line.rstrip(\"\\n\").split(\" \") for line in lines]\n",
    "    lines = [[int(val) for val in line] for line in lines]\n",
    "    return lines"
   ]
  },
  {
   "cell_type": "code",
   "execution_count": 4,
   "metadata": {},
   "outputs": [
    {
     "data": {
      "text/plain": [
       "[[0, 3, 6, 9, 12, 15], [1, 3, 6, 10, 15, 21], [10, 13, 16, 21, 30, 45]]"
      ]
     },
     "execution_count": 4,
     "metadata": {},
     "output_type": "execute_result"
    }
   ],
   "source": [
    "lines = read_lines(\"test_input.txt\")\n",
    "lines"
   ]
  },
  {
   "cell_type": "code",
   "execution_count": 5,
   "metadata": {},
   "outputs": [],
   "source": [
    "def get_next_row(history):\n",
    "\n",
    "    row = history[-1]\n",
    "    \n",
    "    next_row = []\n",
    "    for i, item in enumerate(row):\n",
    "        item = int(item)\n",
    "    \n",
    "        try: \n",
    "            current_item = int(row[i])\n",
    "            next_item = int(row[i+1])\n",
    "            diff = next_item - current_item\n",
    "            next_row.append(diff)\n",
    "\n",
    "        except: \n",
    "            pass\n",
    "    \n",
    "    return next_row"
   ]
  },
  {
   "cell_type": "code",
   "execution_count": 6,
   "metadata": {},
   "outputs": [],
   "source": [
    "def get_total_history(lines):\n",
    "\n",
    "    total_history = []\n",
    "\n",
    "    for row in lines:\n",
    "        \n",
    "        history = []\n",
    "        history.append(row)\n",
    "\n",
    "        while True:\n",
    "            next_row = get_next_row(history)\n",
    "            history.append(next_row)\n",
    "            if sum(next_row) == 0:\n",
    "                break\n",
    "\n",
    "        total_history.append(history)\n",
    "\n",
    "    return total_history"
   ]
  },
  {
   "cell_type": "code",
   "execution_count": 7,
   "metadata": {},
   "outputs": [],
   "source": [
    "def get_new_total_history(total_history):\n",
    "    \n",
    "    new_total_history = []\n",
    "    new_vals = []\n",
    "    sum_new_vals = 0\n",
    "\n",
    "    for history in total_history:\n",
    "\n",
    "        num_rows = len(history)\n",
    "        new_history = []\n",
    "        all_next_vals = []\n",
    "\n",
    "        for i in range(num_rows-1, -1, -1):\n",
    "\n",
    "            last_row = history[i]\n",
    "            print(last_row)\n",
    "            next_vals = []\n",
    "\n",
    "            for j, val in enumerate(last_row):\n",
    "                try:\n",
    "                    # if j > 0:\n",
    "                    # print(j, all_next_vals)\n",
    "                    try: \n",
    "                        last_val = all_next_vals[-1][-1]\n",
    "                    except:\n",
    "                        last_val = 0\n",
    "                    # print(last_val)\n",
    "                    diff = last_row[j] - last_row[j-1]\n",
    "                    next_val = last_row[j] + diff\n",
    "                    next_vals.append(next_val)\n",
    "                    # print(\" >>>\", last_val, next_val)\n",
    "\n",
    "\n",
    "                except IndexError:\n",
    "                    pass\n",
    "                \n",
    "                # print(\" >>>>> \", next_vals)\n",
    "\n",
    "            all_next_vals.append(next_vals)\n",
    "            # print(\" >>>>>>> \", all_next_vals)\n",
    "            \n",
    "            if i == 0:\n",
    "                sum_new_vals += next_val\n",
    "                new_vals.append(next_val)\n",
    "\n",
    "            last_row.append(next_val)\n",
    "            new_history.append(last_row)\n",
    "\n",
    "        new_total_history.append(new_history)\n",
    "        \n",
    "    return new_total_history, new_vals"
   ]
  },
  {
   "cell_type": "code",
   "execution_count": 8,
   "metadata": {},
   "outputs": [],
   "source": [
    "def get_result(file_name):\n",
    "    lines = read_lines(file_name)\n",
    "    original_history = get_total_history(lines)\n",
    "    new_history, new_vals = get_new_total_history(original_history)\n",
    "    return new_history, new_vals"
   ]
  },
  {
   "cell_type": "code",
   "execution_count": 9,
   "metadata": {},
   "outputs": [
    {
     "name": "stdout",
     "output_type": "stream",
     "text": [
      "[0, 0, 0]\n",
      "[1, 1, 1, 1]\n",
      "[2, 3, 4, 5, 6]\n",
      "[1, 3, 6, 10, 15, 21]\n"
     ]
    },
    {
     "data": {
      "text/plain": [
       "[[[0, 0, 0, 0],\n",
       "  [1, 1, 1, 1, 1],\n",
       "  [2, 3, 4, 5, 6, 7],\n",
       "  [1, 3, 6, 10, 15, 21, 27]]]"
      ]
     },
     "metadata": {},
     "output_type": "display_data"
    },
    {
     "name": "stdout",
     "output_type": "stream",
     "text": [
      "[27]\n"
     ]
    }
   ],
   "source": [
    "new_history, new_vals = get_result(\"test2_input.txt\")\n",
    "display(new_history)\n",
    "print(new_vals)"
   ]
  },
  {
   "cell_type": "code",
   "execution_count": 10,
   "metadata": {},
   "outputs": [],
   "source": [
    "# new_total_history, sum_new_vals = get_result(\"test2_input.txt\")\n",
    "# display(new_total_history)\n",
    "# print(sum_new_vals)\n",
    "# # 1339869515 - too low"
   ]
  },
  {
   "cell_type": "code",
   "execution_count": null,
   "metadata": {},
   "outputs": [],
   "source": []
  }
 ],
 "metadata": {
  "kernelspec": {
   "display_name": "Python 3",
   "language": "python",
   "name": "python3"
  },
  "language_info": {
   "codemirror_mode": {
    "name": "ipython",
    "version": 3
   },
   "file_extension": ".py",
   "mimetype": "text/x-python",
   "name": "python",
   "nbconvert_exporter": "python",
   "pygments_lexer": "ipython3",
   "version": "3.11.3"
  }
 },
 "nbformat": 4,
 "nbformat_minor": 2
}
