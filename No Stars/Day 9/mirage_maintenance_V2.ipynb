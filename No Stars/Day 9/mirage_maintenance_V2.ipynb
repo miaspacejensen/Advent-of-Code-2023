{
 "cells": [
  {
   "cell_type": "markdown",
   "metadata": {},
   "source": [
    "# Stars: \n",
    "\n",
    "### Day 9: Mirage Maintenance\n",
    "\n",
    "#### Part 1"
   ]
  },
  {
   "cell_type": "code",
   "execution_count": 133,
   "metadata": {},
   "outputs": [],
   "source": [
    "def read_lines(file_name):\n",
    "    # read all lines in text file\n",
    "    with open(file_name, \"r\") as file:\n",
    "        lines = file.readlines() \n",
    "\n",
    "    # remove newline text from each line\n",
    "    lines = [line.rstrip(\"\\n\").split(\" \") for line in lines]\n",
    "    lines = [[int(val) for val in line] for line in lines]\n",
    "    return lines"
   ]
  },
  {
   "cell_type": "code",
   "execution_count": 134,
   "metadata": {},
   "outputs": [],
   "source": [
    "def get_differences(lst):\n",
    "    diffs = []\n",
    "    for i, val in enumerate(lst):\n",
    "        if i > 0:\n",
    "            diff = lst[i] - lst[i-1]\n",
    "            diffs.append(diff)\n",
    "    return diffs\n",
    "\n",
    "def get_histories(lines):\n",
    "    histories = []\n",
    "    for sequence in lines:\n",
    "        history = [sequence]\n",
    "        while True:\n",
    "            sequence = get_differences(sequence)\n",
    "            history.append(sequence)\n",
    "            if sum(sequence) == 0:\n",
    "                histories.append(history)\n",
    "                break\n",
    "    return histories"
   ]
  },
  {
   "cell_type": "code",
   "execution_count": 135,
   "metadata": {},
   "outputs": [
    {
     "data": {
      "text/plain": [
       "[[0, 3, 6, 9, 12, 15], [1, 3, 6, 10, 15, 21], [10, 13, 16, 21, 30, 45]]"
      ]
     },
     "metadata": {},
     "output_type": "display_data"
    },
    {
     "data": {
      "text/plain": [
       "[[[0, 3, 6, 9, 12, 15], [3, 3, 3, 3, 3], [0, 0, 0, 0]],\n",
       " [[1, 3, 6, 10, 15, 21], [2, 3, 4, 5, 6], [1, 1, 1, 1], [0, 0, 0]],\n",
       " [[10, 13, 16, 21, 30, 45], [3, 3, 5, 9, 15], [0, 2, 4, 6], [2, 2, 2], [0, 0]]]"
      ]
     },
     "execution_count": 135,
     "metadata": {},
     "output_type": "execute_result"
    }
   ],
   "source": [
    "lines = read_lines(\"test_input.txt\")\n",
    "display(lines)\n",
    "heirarchies = get_histories(lines)\n",
    "heirarchies"
   ]
  },
  {
   "cell_type": "code",
   "execution_count": 136,
   "metadata": {},
   "outputs": [
    {
     "name": "stdout",
     "output_type": "stream",
     "text": [
      "114\n"
     ]
    }
   ],
   "source": [
    "def get_next_vals(history):\n",
    "\n",
    "    updated_history = []\n",
    "    prev_sequence = []\n",
    "    next_vals = []\n",
    "\n",
    "    for i, sequence in enumerate(reversed(history)):\n",
    "\n",
    "        if i == 0:\n",
    "            next_val = 0\n",
    "\n",
    "        else:\n",
    "            next_val = sequence[-1] + prev_sequence[-1]\n",
    "\n",
    "        next_vals.append(next_val)\n",
    "        updated_sequence = sequence + [next_val]\n",
    "        updated_history.append(updated_sequence)\n",
    "        prev_sequence = updated_sequence\n",
    "\n",
    "    updated_history = list(reversed(updated_history))\n",
    "\n",
    "    return updated_history, next_vals\n",
    "\n",
    "sum_vals = 0\n",
    "for heirarchy in heirarchies:\n",
    "    updated_heirarchy, next_vals = get_next_vals(heirarchy)\n",
    "    # display(updated_heirarchy, next_vals)\n",
    "    sum_vals += next_vals[-1]\n",
    "print(sum_vals)"
   ]
  },
  {
   "cell_type": "code",
   "execution_count": 148,
   "metadata": {},
   "outputs": [
    {
     "data": {
      "text/plain": [
       "[[-7,\n",
       "  -4,\n",
       "  1,\n",
       "  5,\n",
       "  18,\n",
       "  78,\n",
       "  281,\n",
       "  836,\n",
       "  2166,\n",
       "  5113,\n",
       "  11395,\n",
       "  24648,\n",
       "  52730,\n",
       "  112561,\n",
       "  239752,\n",
       "  506795,\n",
       "  1055794,\n",
       "  2154637,\n",
       "  4288752,\n",
       "  8302746,\n",
       "  15603689,\n",
       "  28422671],\n",
       " [3,\n",
       "  5,\n",
       "  4,\n",
       "  13,\n",
       "  60,\n",
       "  203,\n",
       "  555,\n",
       "  1330,\n",
       "  2947,\n",
       "  6282,\n",
       "  13253,\n",
       "  28082,\n",
       "  59831,\n",
       "  127191,\n",
       "  267043,\n",
       "  548999,\n",
       "  1098843,\n",
       "  2134115,\n",
       "  4013994,\n",
       "  7300943,\n",
       "  12818982],\n",
       " [2,\n",
       "  -1,\n",
       "  9,\n",
       "  47,\n",
       "  143,\n",
       "  352,\n",
       "  775,\n",
       "  1617,\n",
       "  3335,\n",
       "  6971,\n",
       "  14829,\n",
       "  31749,\n",
       "  67360,\n",
       "  139852,\n",
       "  281956,\n",
       "  549844,\n",
       "  1035272,\n",
       "  1879879,\n",
       "  3286949,\n",
       "  5518039],\n",
       " [-3,\n",
       "  10,\n",
       "  38,\n",
       "  96,\n",
       "  209,\n",
       "  423,\n",
       "  842,\n",
       "  1718,\n",
       "  3636,\n",
       "  7858,\n",
       "  16920,\n",
       "  35611,\n",
       "  72492,\n",
       "  142104,\n",
       "  267888,\n",
       "  485428,\n",
       "  844607,\n",
       "  1407070,\n",
       "  2231090],\n",
       " [13,\n",
       "  28,\n",
       "  58,\n",
       "  113,\n",
       "  214,\n",
       "  419,\n",
       "  876,\n",
       "  1918,\n",
       "  4222,\n",
       "  9062,\n",
       "  18691,\n",
       "  36881,\n",
       "  69612,\n",
       "  125784,\n",
       "  217540,\n",
       "  359179,\n",
       "  562463,\n",
       "  824020],\n",
       " [15,\n",
       "  30,\n",
       "  55,\n",
       "  101,\n",
       "  205,\n",
       "  457,\n",
       "  1042,\n",
       "  2304,\n",
       "  4840,\n",
       "  9629,\n",
       "  18190,\n",
       "  32731,\n",
       "  56172,\n",
       "  91756,\n",
       "  141639,\n",
       "  203284,\n",
       "  261557],\n",
       " [15,\n",
       "  25,\n",
       "  46,\n",
       "  104,\n",
       "  252,\n",
       "  585,\n",
       "  1262,\n",
       "  2536,\n",
       "  4789,\n",
       "  8561,\n",
       "  14541,\n",
       "  23441,\n",
       "  35584,\n",
       "  49883,\n",
       "  61645,\n",
       "  58273],\n",
       " [10,\n",
       "  21,\n",
       "  58,\n",
       "  148,\n",
       "  333,\n",
       "  677,\n",
       "  1274,\n",
       "  2253,\n",
       "  3772,\n",
       "  5980,\n",
       "  8900,\n",
       "  12143,\n",
       "  14299,\n",
       "  11762,\n",
       "  -3372],\n",
       " [11, 37, 90, 185, 344, 597, 979, 1519, 2208, 2920, 3243, 2156, -2537, -15134],\n",
       " [26, 53, 95, 159, 253, 382, 540, 689, 712, 323, -1087, -4693, -12597],\n",
       " [27, 42, 64, 94, 129, 158, 149, 23, -389, -1410, -3606, -7904],\n",
       " [15, 22, 30, 35, 29, -9, -126, -412, -1021, -2196, -4298],\n",
       " [7, 8, 5, -6, -38, -117, -286, -609, -1175, -2102],\n",
       " [1, -3, -11, -32, -79, -169, -323, -566, -927],\n",
       " [-4, -8, -21, -47, -90, -154, -243, -361],\n",
       " [-4, -13, -26, -43, -64, -89, -118],\n",
       " [-9, -13, -17, -21, -25, -29],\n",
       " [-4, -4, -4, -4, -4],\n",
       " [0, 0, 0, 0]]"
      ]
     },
     "metadata": {},
     "output_type": "display_data"
    },
    {
     "data": {
      "text/plain": [
       "[0,\n",
       " -4,\n",
       " -29,\n",
       " -118,\n",
       " -361,\n",
       " -927,\n",
       " -2102,\n",
       " -4298,\n",
       " -7904,\n",
       " -12597,\n",
       " -15134,\n",
       " -3372,\n",
       " 58273,\n",
       " 261557,\n",
       " 824020,\n",
       " 2231090,\n",
       " 5518039,\n",
       " 12818982,\n",
       " 28422671]"
      ]
     },
     "metadata": {},
     "output_type": "display_data"
    },
    {
     "name": "stdout",
     "output_type": "stream",
     "text": [
      "28422671\n"
     ]
    }
   ],
   "source": [
    "lines = read_lines(\"test2_input.txt\")\n",
    "\n",
    "heirarchies = get_histories(lines)\n",
    "\n",
    "sum_vals = 0\n",
    "for heirarchy in heirarchies:\n",
    "    updated_heirarchy, next_vals = get_next_vals(heirarchy)\n",
    "    display(updated_heirarchy, next_vals)\n",
    "    sum_vals += next_vals[-1]\n",
    "\n",
    "print(sum_vals)\n",
    "# 1339869515 - too low\n",
    "# 1708206327 - too high"
   ]
  },
  {
   "cell_type": "code",
   "execution_count": null,
   "metadata": {},
   "outputs": [],
   "source": []
  }
 ],
 "metadata": {
  "kernelspec": {
   "display_name": "Python 3",
   "language": "python",
   "name": "python3"
  },
  "language_info": {
   "codemirror_mode": {
    "name": "ipython",
    "version": 3
   },
   "file_extension": ".py",
   "mimetype": "text/x-python",
   "name": "python",
   "nbconvert_exporter": "python",
   "pygments_lexer": "ipython3",
   "version": "3.11.3"
  }
 },
 "nbformat": 4,
 "nbformat_minor": 2
}
