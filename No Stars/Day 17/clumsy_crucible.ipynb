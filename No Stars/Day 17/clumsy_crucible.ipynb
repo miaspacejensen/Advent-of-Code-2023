{
 "cells": [
  {
   "cell_type": "markdown",
   "metadata": {},
   "source": [
    "# Stars: \n",
    "\n",
    "### Day 17: Clumsy Crucible\n",
    "\n",
    "#### Part 1"
   ]
  },
  {
   "cell_type": "code",
   "execution_count": 68,
   "metadata": {},
   "outputs": [
    {
     "data": {
      "text/plain": [
       "[['2', '4', '1', '3', '4', '3', '2', '3', '1', '1', '3', '2', '3'],\n",
       " ['3', '2', '1', '5', '4', '5', '3', '5', '3', '5', '6', '2', '3'],\n",
       " ['3', '2', '5', '5', '2', '4', '5', '6', '5', '4', '2', '5', '4'],\n",
       " ['3', '4', '4', '6', '5', '8', '5', '8', '4', '5', '4', '5', '2'],\n",
       " ['4', '5', '4', '6', '6', '5', '7', '8', '6', '7', '5', '3', '6'],\n",
       " ['1', '4', '3', '8', '5', '9', '8', '7', '9', '8', '4', '5', '4'],\n",
       " ['4', '4', '5', '7', '8', '7', '6', '9', '8', '7', '7', '6', '6'],\n",
       " ['3', '6', '3', '7', '8', '7', '7', '9', '7', '9', '6', '5', '3'],\n",
       " ['4', '6', '5', '4', '9', '6', '7', '9', '8', '6', '8', '8', '7'],\n",
       " ['4', '5', '6', '4', '6', '7', '9', '9', '8', '6', '4', '5', '3'],\n",
       " ['1', '2', '2', '4', '6', '8', '6', '8', '6', '5', '5', '6', '3'],\n",
       " ['2', '5', '4', '6', '5', '4', '8', '8', '8', '7', '7', '3', '5'],\n",
       " ['4', '3', '2', '2', '6', '7', '4', '6', '5', '5', '5', '3', '3']]"
      ]
     },
     "execution_count": 68,
     "metadata": {},
     "output_type": "execute_result"
    }
   ],
   "source": [
    "def get_data(file_name):\n",
    "    with open(file_name, \"r\") as file:\n",
    "        lines = file.read() \n",
    "\n",
    "    lines = lines.split(\"\\n\")\n",
    "    grid = [[char for char in line] for line in lines]\n",
    "    return grid\n",
    "\n",
    "file_name = \"test_input.txt\"\n",
    "grid = get_data(file_name)\n",
    "grid"
   ]
  },
  {
   "cell_type": "code",
   "execution_count": 70,
   "metadata": {},
   "outputs": [],
   "source": [
    "def display_grid(grid):\n",
    "    for row in grid:\n",
    "        print(\"\".join(row))"
   ]
  },
  {
   "cell_type": "code",
   "execution_count": 74,
   "metadata": {},
   "outputs": [],
   "source": [
    "possible_dirs = {\n",
    "    \"Left\": [\"left\", \"Up\", \"Down\"], \n",
    "    \"Right\": [\"Right\", \"Up\", \"Down\"], \n",
    "    \"Up\": [\"Up\", \"Left\", \"Right\"], \n",
    "    \"Down\": [\"Down\", \"Left\", \"Right\"]\n",
    "}"
   ]
  },
  {
   "cell_type": "code",
   "execution_count": 75,
   "metadata": {},
   "outputs": [],
   "source": [
    "dir_offsets = {\n",
    "    \"Left\": [0,-1], \n",
    "    \"Right\": [0,1], \n",
    "    \"Up\": [-1,0], \n",
    "    \"Down\": [1,0]\n",
    "}"
   ]
  },
  {
   "cell_type": "code",
   "execution_count": 76,
   "metadata": {},
   "outputs": [],
   "source": [
    "start_pos = [0,0] #top left corner\n",
    "end_pos = [len(grid)-1, len(grid[0])-1] #bottom right corner\n",
    "max_steps = 3 "
   ]
  },
  {
   "cell_type": "code",
   "execution_count": 78,
   "metadata": {},
   "outputs": [
    {
     "name": "stdout",
     "output_type": "stream",
     "text": [
      "['2', '4', '1', '3', '4', '3', '2', '3', '1', '1', '3', '2', '3']\n"
     ]
    }
   ],
   "source": [
    "path = [start_pos]\n",
    "\n",
    "i = 0\n",
    "while True:\n",
    "    i += 1\n",
    "    if i == 10:\n",
    "        break \n",
    "    else:\n",
    "        \n",
    "        "
   ]
  },
  {
   "cell_type": "code",
   "execution_count": null,
   "metadata": {},
   "outputs": [],
   "source": []
  }
 ],
 "metadata": {
  "kernelspec": {
   "display_name": "Python 3",
   "language": "python",
   "name": "python3"
  },
  "language_info": {
   "codemirror_mode": {
    "name": "ipython",
    "version": 3
   },
   "file_extension": ".py",
   "mimetype": "text/x-python",
   "name": "python",
   "nbconvert_exporter": "python",
   "pygments_lexer": "ipython3",
   "version": "3.11.3"
  }
 },
 "nbformat": 4,
 "nbformat_minor": 2
}
