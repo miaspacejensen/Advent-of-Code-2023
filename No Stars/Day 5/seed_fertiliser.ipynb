{
 "cells": [
  {
   "cell_type": "markdown",
   "metadata": {},
   "source": [
    "# Stars: "
   ]
  },
  {
   "cell_type": "markdown",
   "metadata": {},
   "source": [
    "### Day 5: If You Give A Seed A Fertilizer\n",
    "\n",
    "#### Part 1"
   ]
  },
  {
   "cell_type": "code",
   "execution_count": 171,
   "metadata": {},
   "outputs": [],
   "source": [
    "# read all lines in text file\n",
    "with open(\"test_input.txt\", \"r\") as file:\n",
    "    text = file.read() "
   ]
  },
  {
   "cell_type": "code",
   "execution_count": 193,
   "metadata": {},
   "outputs": [],
   "source": [
    "# preprocessing\n",
    "sections = text.split(\"\\n\\n\")\n",
    "\n",
    "seed_mapping_dic = {}\n",
    "for section in sections:\n",
    "    split = section.split(\":\")\n",
    "    name = split[0]\n",
    "    content = split[1].strip()\n",
    "    content = content.split(\"\\n\")\n",
    "    \n",
    "    if name != \"seeds\":\n",
    "        content_split = []\n",
    "        for row in content:\n",
    "            row_split = row.split(\" \")\n",
    "            content_split.append(row_split)\n",
    "        seed_mapping_dic[name] = content_split\n",
    "    else:\n",
    "        seeds = content[0].split(\" \")"
   ]
  },
  {
   "cell_type": "code",
   "execution_count": 194,
   "metadata": {},
   "outputs": [],
   "source": [
    "# task\n",
    "def mapping(source, dest):\n",
    "\n",
    "    dic = {}\n",
    "\n",
    "    for item_s in source:\n",
    "        item_s = int(item_s)\n",
    "        \n",
    "        for row in dest:\n",
    "            item_d = int(row[0])\n",
    "            start_range = int(row[1])\n",
    "            range_length = int(row[2])\n",
    "            end_range = start_range + range_length\n",
    "            \n",
    "            if start_range <= item_s <= end_range:\n",
    "                dist = item_s - start_range\n",
    "                dic[item_s] = item_d + dist\n",
    "            \n",
    "            else:\n",
    "                dic[item_s] = item_s\n",
    "    \n",
    "    keys = list(dic.keys())\n",
    "    values = list(dic.values())\n",
    "\n",
    "    return dic, keys, values\n"
   ]
  },
  {
   "cell_type": "code",
   "execution_count": 203,
   "metadata": {},
   "outputs": [
    {
     "name": "stdout",
     "output_type": "stream",
     "text": [
      "seed-to-soil map\n",
      "{79: 81, 14: 14, 55: 57, 13: 13}\n",
      "soil-to-fertilizer map\n",
      "{81: 81, 14: 53, 57: 57, 13: 52}\n",
      "fertilizer-to-water map\n",
      "{81: 81, 53: 53, 57: 57, 52: 52}\n",
      "water-to-light map\n",
      "{81: 74, 53: 46, 57: 50, 52: 45}\n",
      "light-to-temperature map\n",
      "{74: 78, 46: 46, 50: 50, 45: 45}\n",
      "temperature-to-humidity map\n",
      "{78: 78, 46: 47, 50: 51, 45: 46}\n",
      "humidity-to-location map\n",
      "{78: 78, 47: 47, 51: 51, 46: 46}\n",
      "\n",
      "Locations: [78, 47, 51, 46]\n",
      "Min = 46\n"
     ]
    }
   ],
   "source": [
    "values = seeds\n",
    "for key in seed_mapping_dic.keys():\n",
    "    print(key)\n",
    "    map = seed_mapping_dic[key]\n",
    "    dic, keys, values = mapping(values, map)  \n",
    "    print(dic)\n",
    "\n",
    "locations = list(dic.keys())\n",
    "print(\"\\nLocations:\", values)\n",
    "print(\"Min =\", min(locations))"
   ]
  },
  {
   "cell_type": "code",
   "execution_count": null,
   "metadata": {},
   "outputs": [],
   "source": []
  }
 ],
 "metadata": {
  "kernelspec": {
   "display_name": "Python 3",
   "language": "python",
   "name": "python3"
  },
  "language_info": {
   "codemirror_mode": {
    "name": "ipython",
    "version": 3
   },
   "file_extension": ".py",
   "mimetype": "text/x-python",
   "name": "python",
   "nbconvert_exporter": "python",
   "pygments_lexer": "ipython3",
   "version": "3.11.3"
  }
 },
 "nbformat": 4,
 "nbformat_minor": 2
}
