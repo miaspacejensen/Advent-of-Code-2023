{
 "cells": [
  {
   "cell_type": "markdown",
   "metadata": {},
   "source": [
    "# Stars: \n",
    "\n",
    "### Day 11: Cosmic Expansion\n",
    "\n",
    "#### Part 1"
   ]
  },
  {
   "cell_type": "code",
   "execution_count": 4,
   "metadata": {},
   "outputs": [
    {
     "name": "stdout",
     "output_type": "stream",
     "text": [
      "Shape: 10 columns, 10 rows\n"
     ]
    }
   ],
   "source": [
    "# read all lines in text file\n",
    "with open(\"test1_input.txt\", \"r\") as file:\n",
    "    lines = file.readlines() \n",
    "\n",
    "# remove newline text from each line\n",
    "lines = [line.rstrip(\"\\n\").split(\" \") for line in lines]\n",
    "\n",
    "# get metadata\n",
    "n_rows = len(lines)\n",
    "n_cols = len(lines[0][0])\n",
    "print(f\"Shape: {n_cols} columns, {n_rows} rows\")"
   ]
  },
  {
   "cell_type": "code",
   "execution_count": 5,
   "metadata": {},
   "outputs": [],
   "source": [
    "def display_grid(grid):\n",
    "    for row in grid:\n",
    "        row = [str(val) for val in row]\n",
    "        print(\"\".join(row))\n",
    "\n",
    "def generate_grid(lines, n_rows, n_cols, print_grid=False):\n",
    "\n",
    "    grid = [[' ' for _ in range(n_rows)] for _ in range(n_cols)]\n",
    "\n",
    "    for i, row in enumerate(lines):\n",
    "        for j, element in enumerate(row[0]):\n",
    "            grid[i][j] = element\n",
    "\n",
    "    if print_grid==True:\n",
    "        display_grid(grid)\n",
    "    \n",
    "    return grid"
   ]
  },
  {
   "cell_type": "code",
   "execution_count": 6,
   "metadata": {},
   "outputs": [],
   "source": [
    "def find_empty_rows_and_columns(grid):\n",
    "    empty_rows = []\n",
    "    empty_columns = []\n",
    "\n",
    "    # Check empty rows\n",
    "    for i, row in enumerate(grid):\n",
    "        if all(cell == \".\" for cell in row):\n",
    "            empty_rows.append(i)\n",
    "\n",
    "    # Check empty columns\n",
    "    num_columns = len(grid[0])\n",
    "    for j in range(num_columns):\n",
    "        if all(grid[i][j] == \".\" for i in range(len(grid))):\n",
    "            empty_columns.append(j)\n",
    "\n",
    "    return empty_rows, empty_columns\n",
    "\n",
    "def insert_new_row(grid, row_index, new_row):\n",
    "    grid.insert(row_index, new_row)\n",
    "    return grid\n",
    "\n",
    "def insert_new_column(grid, column_index, new_column):\n",
    "    for row in grid:\n",
    "        row.insert(column_index, new_column)\n",
    "    return grid"
   ]
  },
  {
   "cell_type": "code",
   "execution_count": 7,
   "metadata": {},
   "outputs": [],
   "source": [
    "def expand_grid(grid, loops=1, print_grid=False):\n",
    "\n",
    "    for loop in range(loops):\n",
    "\n",
    "        empty_rows, empty_columns = find_empty_rows_and_columns(grid)\n",
    "\n",
    "        for row_index in empty_rows[::-1]:\n",
    "            new_row = grid[row_index]\n",
    "            grid = insert_new_row(grid, row_index, new_row)\n",
    "\n",
    "        for col_index in empty_columns[::-1]:\n",
    "            for i, row in enumerate(grid):\n",
    "                new_row = row[:]\n",
    "                new_row[col_index:col_index] = [\".\"]\n",
    "                grid[i] = new_row\n",
    "    \n",
    "    if print_grid==True:\n",
    "        print(\"\\nExpanded grid:\")\n",
    "        display_grid(grid)\n",
    "\n",
    "    return grid"
   ]
  },
  {
   "cell_type": "code",
   "execution_count": 8,
   "metadata": {},
   "outputs": [],
   "source": [
    "def enumerate_galaxies(grid, print_grid=False):\n",
    "    i = 1\n",
    "    galaxies = {}\n",
    "    for row_index, row in enumerate(grid):\n",
    "        for col_index, col in enumerate(row):\n",
    "            val = grid[row_index][col_index]\n",
    "            if val == \"#\":\n",
    "                galaxy = str(i)\n",
    "                grid[row_index][col_index] = galaxy\n",
    "                galaxies[galaxy] = [row_index, col_index]\n",
    "                i += 1\n",
    "    \n",
    "    if print_grid==True:\n",
    "        print(\"\\nEnumerated grid:\")\n",
    "        display_grid(grid)\n",
    "\n",
    "    return galaxies, grid"
   ]
  },
  {
   "cell_type": "code",
   "execution_count": 9,
   "metadata": {},
   "outputs": [],
   "source": [
    "def find_obstacles(grid, print_grid=False):\n",
    "    n_rows = len(grid)\n",
    "    n_cols = len(grid[0])\n",
    "    obs_grid = [[' ' for _ in range(n_cols)] for _ in range(n_rows)]\n",
    "    for row_index, row in enumerate(obs_grid):\n",
    "        for col_index, col in enumerate(row):\n",
    "            val = grid[row_index][col_index]\n",
    "            if val == \".\":\n",
    "                obs_grid[row_index][col_index] = 0\n",
    "            else:\n",
    "                obs_grid[row_index][col_index] = 1\n",
    "\n",
    "    if print_grid==True:\n",
    "        print(\"\\nObstacles:\")\n",
    "        display_grid(obs_grid)\n",
    "\n",
    "    return obs_grid"
   ]
  },
  {
   "cell_type": "code",
   "execution_count": 10,
   "metadata": {},
   "outputs": [],
   "source": [
    "def pair_galaxies(galaxies):\n",
    "    pairs = []\n",
    "    for galaxy1 in galaxies:\n",
    "        for galaxy2 in galaxies:\n",
    "            if galaxy1 != galaxy2:\n",
    "                pair = sorted([galaxy1, galaxy2])\n",
    "                if pair not in pairs:\n",
    "                    pairs.append(pair)\n",
    "    return pairs"
   ]
  },
  {
   "cell_type": "code",
   "execution_count": 11,
   "metadata": {},
   "outputs": [
    {
     "name": "stdout",
     "output_type": "stream",
     "text": [
      "...#......\n",
      ".......#..\n",
      "#.........\n",
      "..........\n",
      "......#...\n",
      ".#........\n",
      ".........#\n",
      "..........\n",
      ".......#..\n",
      "#...#.....\n",
      "\n",
      "Expanded grid:\n",
      "....#........\n",
      ".........#...\n",
      "#............\n",
      ".............\n",
      ".............\n",
      "........#....\n",
      ".#...........\n",
      "............#\n",
      ".............\n",
      ".............\n",
      ".........#...\n",
      "#....#.......\n",
      "\n",
      "Enumerated grid:\n",
      "....1........\n",
      ".........2...\n",
      "3............\n",
      ".............\n",
      ".............\n",
      "........4....\n",
      ".5...........\n",
      "............6\n",
      ".............\n",
      ".............\n",
      ".........7...\n",
      "8....9.......\n",
      "\n",
      "Obstacles:\n",
      "0000100000000\n",
      "0000000001000\n",
      "1000000000000\n",
      "0000000000000\n",
      "0000000000000\n",
      "0000000010000\n",
      "0100000000000\n",
      "0000000000001\n",
      "0000000000000\n",
      "0000000000000\n",
      "0000000001000\n",
      "1000010000000\n",
      "\n",
      "There are 36 galaxy pairs\n"
     ]
    }
   ],
   "source": [
    "grid = generate_grid(lines, n_rows, n_cols, print_grid=True)\n",
    "\n",
    "# cosmic expansion - find and duplicate empty rows and columns\n",
    "grid = expand_grid(grid, loops=1, print_grid=True)\n",
    "\n",
    "# enumerate galaxies\n",
    "galaxies, grid = enumerate_galaxies(grid, print_grid=True)\n",
    "\n",
    "# find obstacles\n",
    "obstacles = find_obstacles(grid, print_grid=True)\n",
    "\n",
    "# pair up galaxies\n",
    "pairs = pair_galaxies(galaxies.keys())\n",
    "print(f\"\\nThere are {len(pairs)} galaxy pairs\")"
   ]
  },
  {
   "cell_type": "code",
   "execution_count": 12,
   "metadata": {},
   "outputs": [
    {
     "data": {
      "text/plain": [
       "[['.', '.', '.', '.', '1', '.', '.', '.', '.', '.', '.', '.', '.'],\n",
       " ['.', '.', '.', '.', '.', '.', '.', '.', '.', '2', '.', '.', '.'],\n",
       " ['3', '.', '.', '.', '.', '.', '.', '.', '.', '.', '.', '.', '.'],\n",
       " ['.', '.', '.', '.', '.', '.', '.', '.', '.', '.', '.', '.', '.'],\n",
       " ['.', '.', '.', '.', '.', '.', '.', '.', '.', '.', '.', '.', '.'],\n",
       " ['.', '.', '.', '.', '.', '.', '.', '.', '4', '.', '.', '.', '.'],\n",
       " ['.', '5', '.', '.', '.', '.', '.', '.', '.', '.', '.', '.', '.'],\n",
       " ['.', '.', '.', '.', '.', '.', '.', '.', '.', '.', '.', '.', '6'],\n",
       " ['.', '.', '.', '.', '.', '.', '.', '.', '.', '.', '.', '.', '.'],\n",
       " ['.', '.', '.', '.', '.', '.', '.', '.', '.', '.', '.', '.', '.'],\n",
       " ['.', '.', '.', '.', '.', '.', '.', '.', '.', '7', '.', '.', '.'],\n",
       " ['8', '.', '.', '.', '.', '9', '.', '.', '.', '.', '.', '.', '.']]"
      ]
     },
     "execution_count": 12,
     "metadata": {},
     "output_type": "execute_result"
    }
   ],
   "source": [
    "grid"
   ]
  },
  {
   "cell_type": "code",
   "execution_count": 13,
   "metadata": {},
   "outputs": [
    {
     "name": "stdout",
     "output_type": "stream",
     "text": [
      "Limited grid:\n",
      "..1......\n",
      ".......2.\n",
      ".........\n",
      ".........\n",
      ".........\n",
      "......4..\n",
      ".........\n",
      ".........\n"
     ]
    }
   ],
   "source": [
    "def limit_grid(start, end, grid, print_grid=False):\n",
    "    n_rows = len(grid)\n",
    "    n_cols = len(grid[0])\n",
    "\n",
    "    min_row = min(start[0], end[0])\n",
    "    max_row = max(start[0], end[0])\n",
    "    min_col = min(start[1], end[1])\n",
    "    max_col = max(start[1], end[1])\n",
    "\n",
    "    i = 2\n",
    "    j = 3\n",
    "    if min_row-i < 0: min_row_range = 0\n",
    "    else: min_row_range = min_row-i\n",
    "    if min_col-i < 0: min_col_range = 0\n",
    "    else: min_col_range = min_col-i\n",
    "    if max_row+j > n_rows: max_row_range = n_rows\n",
    "    else: max_row_range = max_row+j\n",
    "    if max_col+j > n_cols: max_col_range = n_cols\n",
    "    else: max_col_range = max_col+j\n",
    "    \n",
    "    row_range = [min_row_range, max_row_range]\n",
    "    col_range = [min_col_range, max_col_range]\n",
    "    # print(\"Rows:\", row_range)\n",
    "    # print(\"Cols:\", col_range)\n",
    "\n",
    "    grid_ltd = []\n",
    "    for row_index, row in enumerate(grid):\n",
    "        row_ltd = []\n",
    "        if row_index in range(row_range[0], row_range[1]):\n",
    "            for col_index, col in enumerate(row):\n",
    "                if col_index in range(col_range[0], col_range[1]):\n",
    "                    val = grid[row_index][col_index]\n",
    "                    row_ltd.append(val)\n",
    "        if len(row_ltd)>0:\n",
    "            grid_ltd.append(row_ltd)\n",
    "\n",
    "    if print_grid == True:\n",
    "        print(\"Limited grid:\")\n",
    "        display_grid(grid_ltd)\n",
    "    \n",
    "    return grid_ltd\n",
    "\n",
    "# example\n",
    "start = [0, 4] # galaxy 1\n",
    "end = [5, 8]   # galaxy 4\n",
    "grid_ltd = limit_grid(start, end, grid, print_grid=True)"
   ]
  },
  {
   "cell_type": "code",
   "execution_count": 62,
   "metadata": {},
   "outputs": [
    {
     "name": "stdout",
     "output_type": "stream",
     "text": [
      "Limited grid:\n",
      "........\n",
      "........\n",
      ".5......\n",
      "........\n",
      "........\n",
      "........\n",
      "........\n",
      "8....9..\n"
     ]
    }
   ],
   "source": [
    "def find_paths_recursive(current_path=[(0, 4)], end=(5, 8), grid=grid_ltd, solutions=[]):\n",
    "    \n",
    "    n_rows = len(grid)\n",
    "    n_cols = len(grid[0])\n",
    "\n",
    "    last_cell = current_path[-1]\n",
    "\n",
    "    offsets = [(0,1), (1,0), (0,-1), (-1,0)]\n",
    "\n",
    "    for offset in offsets:\n",
    "\n",
    "        x, y = offset\n",
    "        new_i = last_cell[0] + x\n",
    "        new_j = last_cell[1] + y\n",
    "        new_cell = (new_i, new_j)\n",
    "\n",
    "        # Check if new cell is in grid\n",
    "        if 0 > new_i or new_i >= n_rows or 0 > new_j or new_j >= n_cols:\n",
    "            # print(f\">>> {new_cell} out of index\")\n",
    "            continue\n",
    "\n",
    "        # Check if new cell is already in path\n",
    "        if new_cell in current_path[1:]:\n",
    "            # print(f\">>> {new_cell} already in path\")\n",
    "            continue\n",
    "\n",
    "        current_path_copy = current_path.copy()\n",
    "        current_path_copy.append(new_cell)\n",
    "\n",
    "        # print(current_path_copy)\n",
    "\n",
    "        if (new_i==n_rows-1 and new_j == n_cols-1) or (end in current_path_copy):\n",
    "            solutions.append(current_path_copy)\n",
    "\n",
    "        solutions.append(current_path_copy)\n",
    "\n",
    "        # Create new current_path array for every direction\n",
    "        find_paths_recursive(current_path_copy, end, grid, solutions)\n",
    "        break\n",
    "\n",
    "    for solution in solutions:\n",
    "        if solution[-1] == end:\n",
    "            print(\"Found\")\n",
    "            return solution\n",
    "\n",
    "# example\n",
    "start = (6, 2) # galaxy 5\n",
    "end = (11, 5)   # galaxy 9\n",
    "grid_ltd = limit_grid(start, end, grid, print_grid=True)\n",
    "solution = find_paths_recursive(current_path=[start], end=end, grid=grid_ltd, solutions=[])\n",
    "solution"
   ]
  },
  {
   "cell_type": "code",
   "execution_count": null,
   "metadata": {},
   "outputs": [],
   "source": []
  },
  {
   "cell_type": "code",
   "execution_count": 68,
   "metadata": {},
   "outputs": [],
   "source": [
    "def is_valid_move(grid, row, col):\n",
    "    # Check if the move is within the grid boundaries and not an obstacle\n",
    "    return 0 <= row < len(grid) and 0 <= col < len(grid[0]) and grid[row][col] != '.'\n",
    "\n",
    "def shortest_path(grid, start, end):\n",
    "    # Define possible moves: up, down, left, right\n",
    "    directions = [(-1, 0), (1, 0), (0, -1), (0, 1)]\n",
    "    queue = [(start, 0)]  # Initialize queue with start point and distance\n",
    "    visited = set()  # Set to store visited points\n",
    "\n",
    "    while queue:\n",
    "        current_point, distance = queue.pop(0)\n",
    "        if current_point == end:\n",
    "            return distance  # Return distance when end point is reached\n",
    "        visited.add(current_point)\n",
    "        for dx, dy in directions:\n",
    "            new_row, new_col = current_point[0] + dx, current_point[1] + dy\n",
    "            if is_valid_move(grid, new_row, new_col) and (new_row, new_col) not in visited:\n",
    "                queue.append(((new_row, new_col), distance + 1))\n",
    "\n",
    "    # return -1  # Return -1 if no path is found"
   ]
  },
  {
   "cell_type": "code",
   "execution_count": 63,
   "metadata": {},
   "outputs": [
    {
     "data": {
      "text/plain": [
       "[['.', '.', '.', '.', '1', '.', '.', '.', '.', '.', '.', '.', '.'],\n",
       " ['.', '.', '.', '.', '.', '.', '.', '.', '.', '2', '.', '.', '.'],\n",
       " ['3', '.', '.', '.', '.', '.', '.', '.', '.', '.', '.', '.', '.'],\n",
       " ['.', '.', '.', '.', '.', '.', '.', '.', '.', '.', '.', '.', '.'],\n",
       " ['.', '.', '.', '.', '.', '.', '.', '.', '.', '.', '.', '.', '.'],\n",
       " ['.', '.', '.', '.', '.', '.', '.', '.', '4', '.', '.', '.', '.'],\n",
       " ['.', '5', '.', '.', '.', '.', '.', '.', '.', '.', '.', '.', '.'],\n",
       " ['.', '.', '.', '.', '.', '.', '.', '.', '.', '.', '.', '.', '6'],\n",
       " ['.', '.', '.', '.', '.', '.', '.', '.', '.', '.', '.', '.', '.'],\n",
       " ['.', '.', '.', '.', '.', '.', '.', '.', '.', '.', '.', '.', '.'],\n",
       " ['.', '.', '.', '.', '.', '.', '.', '.', '.', '7', '.', '.', '.'],\n",
       " ['8', '.', '.', '.', '.', '9', '.', '.', '.', '.', '.', '.', '.']]"
      ]
     },
     "execution_count": 63,
     "metadata": {},
     "output_type": "execute_result"
    }
   ],
   "source": [
    "grid"
   ]
  },
  {
   "cell_type": "code",
   "execution_count": 67,
   "metadata": {},
   "outputs": [
    {
     "name": "stdout",
     "output_type": "stream",
     "text": [
      "Shortest distance between point 5 and point 9: -1\n"
     ]
    }
   ],
   "source": [
    "# Finding the shortest path\n",
    "# start = (6, 2) # galaxy 5\n",
    "# end = (11, 5)   # galaxy 9\n",
    "start = (6, 1)  # Starting point\n",
    "end = (10, 5)   # Ending point\n",
    "shortest_distance = shortest_path(grid, start, end)\n",
    "print(\"Shortest distance between point 5 and point 9:\", shortest_distance)"
   ]
  }
 ],
 "metadata": {
  "kernelspec": {
   "display_name": "Python 3",
   "language": "python",
   "name": "python3"
  },
  "language_info": {
   "codemirror_mode": {
    "name": "ipython",
    "version": 3
   },
   "file_extension": ".py",
   "mimetype": "text/x-python",
   "name": "python",
   "nbconvert_exporter": "python",
   "pygments_lexer": "ipython3",
   "version": "3.11.3"
  }
 },
 "nbformat": 4,
 "nbformat_minor": 2
}
