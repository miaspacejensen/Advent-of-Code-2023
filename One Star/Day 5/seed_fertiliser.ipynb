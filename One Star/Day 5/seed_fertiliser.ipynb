{
 "cells": [
  {
   "cell_type": "markdown",
   "metadata": {},
   "source": [
    "# Stars: *"
   ]
  },
  {
   "cell_type": "markdown",
   "metadata": {},
   "source": [
    "### Day 5: If You Give A Seed A Fertilizer\n",
    "\n",
    "#### Part 1"
   ]
  },
  {
   "cell_type": "code",
   "execution_count": 70,
   "metadata": {},
   "outputs": [],
   "source": [
    "# read all lines in text file\n",
    "with open(\"input.txt\", \"r\") as file:\n",
    "    text = file.read() \n",
    "\n",
    "sections = text.split(\"\\n\\n\")\n",
    "seeds = sections[0].split(\": \")[1].split(\" \")\n",
    "seeds = [int(seed) for seed in seeds]\n",
    "mappings = sections[1:]\n",
    "map_dic = {}\n",
    "for map in mappings:\n",
    "    name, content = map.split(\":\\n\")\n",
    "    lines = content.split(\"\\n\")\n",
    "    lines = [line.split(\" \") for line in lines]\n",
    "    lines = [[int(val) for val in line] for line in lines]\n",
    "    map_dic[name] = lines\n",
    "\n",
    "# display(seeds)\n",
    "# display(map_dic)"
   ]
  },
  {
   "cell_type": "code",
   "execution_count": 71,
   "metadata": {},
   "outputs": [],
   "source": [
    "def get_range(map_item):\n",
    "\n",
    "    range_length = map_item[2]\n",
    "    output_start_range = map_item[0]\n",
    "    input_start_range = map_item[1]\n",
    "    output_end_range = output_start_range + range_length\n",
    "    input_end_range = input_start_range + range_length\n",
    "\n",
    "    ranges = {\n",
    "        \"Input\": [input_start_range, input_end_range],\n",
    "        \"Output\": [output_start_range, output_end_range]\n",
    "    }\n",
    "\n",
    "    return ranges\n",
    "\n",
    "# # example\n",
    "# map_item = [\"49\", \"53\", \"8\"]\n",
    "# get_range(map_item)"
   ]
  },
  {
   "cell_type": "code",
   "execution_count": 72,
   "metadata": {},
   "outputs": [],
   "source": [
    "def get_all_ranges_from_map(map):\n",
    "\n",
    "    all_ranges = []\n",
    "\n",
    "    for map_item in map:\n",
    "\n",
    "        ranges = get_range(map_item)\n",
    "        all_ranges.append(ranges)\n",
    "\n",
    "    return all_ranges\n",
    "\n",
    "# # example\n",
    "# map = map_dic[\"seed-to-soil map\"]\n",
    "# get_all_ranges_from_map(map)"
   ]
  },
  {
   "cell_type": "code",
   "execution_count": 75,
   "metadata": {},
   "outputs": [
    {
     "data": {
      "text/plain": [
       "78"
      ]
     },
     "execution_count": 75,
     "metadata": {},
     "output_type": "execute_result"
    }
   ],
   "source": [
    "def check_if_in_range(input, ranges):\n",
    "\n",
    "    for range_ in ranges:\n",
    "\n",
    "        input_range = range_[\"Input\"]\n",
    "        output_range = range_[\"Output\"]\n",
    "\n",
    "        # print(range_)\n",
    "\n",
    "        min_input = input_range[0]\n",
    "        max_input = input_range[1]\n",
    "        min_output = output_range[0]\n",
    "\n",
    "        if min_input <= input <= max_input:\n",
    "            diff = input - min_input\n",
    "            output = min_output + diff\n",
    "            return output\n",
    "        \n",
    "        else:\n",
    "            output = input \n",
    "\n",
    "    return output\n",
    "\n",
    "# example\n",
    "seed = 78\n",
    "map = map_dic[\"humidity-to-location map\"]\n",
    "ranges = get_all_ranges_from_map(map)\n",
    "check_if_in_range(seed, ranges)"
   ]
  },
  {
   "cell_type": "code",
   "execution_count": 76,
   "metadata": {},
   "outputs": [
    {
     "name": "stdout",
     "output_type": "stream",
     "text": [
      "\n",
      "Lowest location number is 84470622\n"
     ]
    }
   ],
   "source": [
    "outputs = []\n",
    "\n",
    "for input in seeds:\n",
    "\n",
    "    # print(\"\\nSeed\", input)\n",
    "\n",
    "    for map_name, map_items in map_dic.items():\n",
    "\n",
    "        map_name_short = map_name.split(\"-\")[-1].split(\" \")[0]\n",
    "        ranges = get_all_ranges_from_map(map_items)\n",
    "        output = check_if_in_range(input, ranges)\n",
    "        \n",
    "        # print(f\"  {map_name_short} {output}\")\n",
    "        \n",
    "        input = output\n",
    "    \n",
    "    outputs.append(output)\n",
    "\n",
    "result = min(outputs)\n",
    "print(\"\\nLowest location number is\", result)"
   ]
  },
  {
   "cell_type": "markdown",
   "metadata": {},
   "source": [
    "#### Part 2"
   ]
  },
  {
   "cell_type": "code",
   "execution_count": 79,
   "metadata": {},
   "outputs": [],
   "source": [
    "# read all lines in text file\n",
    "with open(\"test_input.txt\", \"r\") as file:\n",
    "    text = file.read() \n",
    "\n",
    "sections = text.split(\"\\n\\n\")\n",
    "seeds = sections[0].split(\": \")[1].split(\" \")\n",
    "seeds = [int(seed) for seed in seeds]\n",
    "mappings = sections[1:]\n",
    "map_dic = {}\n",
    "for map in mappings:\n",
    "    name, content = map.split(\":\\n\")\n",
    "    lines = content.split(\"\\n\")\n",
    "    lines = [line.split(\" \") for line in lines]\n",
    "    lines = [[int(val) for val in line] for line in lines]\n",
    "    map_dic[name] = lines\n",
    "\n",
    "# display(seeds)\n",
    "# display(map_dic)"
   ]
  },
  {
   "cell_type": "code",
   "execution_count": 193,
   "metadata": {},
   "outputs": [
    {
     "data": {
      "text/plain": [
       "[[79, 93], [55, 68]]"
      ]
     },
     "execution_count": 193,
     "metadata": {},
     "output_type": "execute_result"
    }
   ],
   "source": [
    "num_pairs = int(len(seeds)/2)\n",
    "seed_start_list = seeds[::2]\n",
    "seed_end_list = seeds[1::2]\n",
    "seed_ranges = []\n",
    "for ind in range(num_pairs):\n",
    "    start_range = seed_start_list[ind]\n",
    "    range_len = seed_end_list[ind]\n",
    "    end_range = start_range+range_len\n",
    "    range_ = [start_range, end_range]\n",
    "    seed_ranges.append(range_)\n",
    "seed_ranges"
   ]
  },
  {
   "cell_type": "code",
   "execution_count": 192,
   "metadata": {},
   "outputs": [
    {
     "data": {
      "text/plain": [
       "[81, 95]"
      ]
     },
     "metadata": {},
     "output_type": "display_data"
    },
    {
     "data": {
      "text/plain": [
       "[57, 70]"
      ]
     },
     "metadata": {},
     "output_type": "display_data"
    }
   ],
   "source": [
    "def get_map_output(input, ranges):\n",
    "\n",
    "    min_input_range = input[0]\n",
    "    max_input_range = input[1]\n",
    "\n",
    "    for range_ in ranges:\n",
    "\n",
    "        lookup_range = range_[\"Input\"]\n",
    "        min_lookup_range = lookup_range[0]\n",
    "        max_lookup_range = lookup_range[1]\n",
    "\n",
    "        output_range = range_[\"Output\"]\n",
    "        min_output_range = output_range[0]\n",
    "        max_output_range = output_range[1]\n",
    "\n",
    "        # # printing  \n",
    "        # print(\"\")\n",
    "        # print(\"Input range\", input)\n",
    "        # print(\"Lookup and output ranges\", range_)\n",
    "\n",
    "        # check if overlap exists\n",
    "        if max_input_range < min_lookup_range:\n",
    "\n",
    "            # print(\"No overlap\")\n",
    "            pass\n",
    "\n",
    "        else:\n",
    "\n",
    "            # find overlap range\n",
    "            min_overlap_range = max(min_input_range, min_lookup_range)\n",
    "            max_overlap_range = min(max_input_range, max_lookup_range)\n",
    "            overlap_range = [min_overlap_range, max_overlap_range]\n",
    "            # print(\"Overlap range\", overlap_range)\n",
    "\n",
    "            # find index range \n",
    "            if min_lookup_range == min_overlap_range:\n",
    "                index_start = 0\n",
    "            elif min_lookup_range < min_overlap_range:\n",
    "                index_start = min_overlap_range - min_lookup_range\n",
    "\n",
    "            if max_lookup_range == max_overlap_range:\n",
    "                index_finish = 0\n",
    "            elif max_lookup_range > max_overlap_range:\n",
    "                index_finish = max_lookup_range - max_overlap_range\n",
    "            \n",
    "            # index_range = [index_start, index_finish]\n",
    "            # print(\"Indexes\", index_range)\n",
    "            \n",
    "            # get outputs using index range\n",
    "            output_start = min_output_range + index_start\n",
    "            output_end = max_output_range - index_finish\n",
    "            output = [output_start, output_end]\n",
    "\n",
    "    return output\n",
    "\n",
    "# example\n",
    "input_ranges = [[79, 93], [55, 68]]\n",
    "for input_range in input_ranges:\n",
    "    map = map_dic[\"seed-to-soil map\"]\n",
    "    ranges = get_all_ranges_from_map(map)\n",
    "    display(get_map_output(input_range, ranges))"
   ]
  },
  {
   "cell_type": "code",
   "execution_count": 194,
   "metadata": {},
   "outputs": [
    {
     "data": {
      "text/plain": [
       "[[79, 93], [55, 68]]"
      ]
     },
     "execution_count": 194,
     "metadata": {},
     "output_type": "execute_result"
    }
   ],
   "source": [
    "seed_ranges"
   ]
  },
  {
   "cell_type": "code",
   "execution_count": 198,
   "metadata": {},
   "outputs": [
    {
     "name": "stdout",
     "output_type": "stream",
     "text": [
      "\n",
      "Seed [79, 93]\n",
      "  soil [81, 95]\n",
      "  fertilizer [118, 54]\n",
      "  water [129, 61]\n",
      "  light [72, 86]\n",
      "  temperature [83, 81]\n",
      "  humidity [80, 70]\n",
      "  location [56, 56]\n",
      "\n",
      "Seed [55, 68]\n",
      "  soil [57, 70]\n",
      "  fertilizer [94, 54]\n",
      "  water [105, 61]\n",
      "  light [48, 61]\n",
      "  temperature [68, 72]\n",
      "  humidity [56, 69]\n",
      "  location [60, 72]\n",
      "\n",
      "Lowest location number is 56\n"
     ]
    }
   ],
   "source": [
    "outputs = []\n",
    "output_mins = []\n",
    "\n",
    "for input_range in seed_ranges:\n",
    "\n",
    "    print(\"\\nSeed\", input_range)\n",
    "\n",
    "    for map_name, map_items in map_dic.items():\n",
    "\n",
    "        map_name_short = map_name.split(\"-\")[-1].split(\" \")[0]\n",
    "        ranges = get_all_ranges_from_map(map_items)\n",
    "        output = get_map_output(input_range, ranges)\n",
    "        \n",
    "        print(f\"  {map_name_short} {output}\")\n",
    "        \n",
    "        input = output\n",
    "    \n",
    "    outputs.append(output)\n",
    "    output_mins.append(min(output))\n",
    "\n",
    "result = min(output_mins)\n",
    "print(\"\\nLowest location number is\", result)"
   ]
  }
 ],
 "metadata": {
  "kernelspec": {
   "display_name": "Python 3",
   "language": "python",
   "name": "python3"
  },
  "language_info": {
   "codemirror_mode": {
    "name": "ipython",
    "version": 3
   },
   "file_extension": ".py",
   "mimetype": "text/x-python",
   "name": "python",
   "nbconvert_exporter": "python",
   "pygments_lexer": "ipython3",
   "version": "3.11.3"
  }
 },
 "nbformat": 4,
 "nbformat_minor": 2
}
