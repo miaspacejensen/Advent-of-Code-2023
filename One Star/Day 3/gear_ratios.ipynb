{
 "cells": [
  {
   "cell_type": "markdown",
   "metadata": {},
   "source": [
    "# Stars: "
   ]
  },
  {
   "cell_type": "markdown",
   "metadata": {},
   "source": [
    "### Day 3: Gear Ratios\n",
    "\n",
    "#### Part 1"
   ]
  },
  {
   "cell_type": "code",
   "execution_count": 2,
   "metadata": {},
   "outputs": [],
   "source": [
    "import re"
   ]
  },
  {
   "cell_type": "code",
   "execution_count": 24,
   "metadata": {},
   "outputs": [
    {
     "name": "stdout",
     "output_type": "stream",
     "text": [
      "Shape: 140 columns, 140 rows\n"
     ]
    }
   ],
   "source": [
    "# read all lines in text file\n",
    "with open(\"input.txt\", \"r\") as file:\n",
    "    lines = file.readlines()\n",
    "\n",
    "# remove newline text from each line\n",
    "lines = [line.rstrip(\"\\n\") for line in lines]\n",
    "\n",
    "# get metadata\n",
    "n_rows = len(lines)\n",
    "n_cols = len(lines[0])\n",
    "print(f\"Shape: {n_cols} columns, {n_rows} rows\")\n",
    "\n",
    "# create grid\n",
    "grid = [[' ' for _ in range(n_rows)] for _ in range(n_cols)]\n",
    "for i, line in enumerate(lines):\n",
    "    for j, value in enumerate(line):\n",
    "        grid[i][j] = value\n",
    "# grid"
   ]
  },
  {
   "cell_type": "code",
   "execution_count": 25,
   "metadata": {},
   "outputs": [],
   "source": [
    "def display_grid(grid, row_lim=[0, len(grid)], col_lim=[0, len(grid[0])]):\n",
    "    for i, row in enumerate(grid):\n",
    "        if i >= row_lim[0] and i < row_lim[1]:\n",
    "            row_trim = row[col_lim[0]:col_lim[1]]\n",
    "            print(\"\".join(row_trim))"
   ]
  },
  {
   "cell_type": "code",
   "execution_count": 26,
   "metadata": {},
   "outputs": [],
   "source": [
    "offset_positions = [\n",
    "    (-1, -1),\n",
    "    (-1, 0),\n",
    "    (-1, 1),\n",
    "    (0, -1),\n",
    "    (0, 0),\n",
    "    (0, 1),\n",
    "    (1, -1),\n",
    "    (1, 0),\n",
    "    (1, 1)\n",
    "] "
   ]
  },
  {
   "cell_type": "code",
   "execution_count": 27,
   "metadata": {},
   "outputs": [
    {
     "name": "stdout",
     "output_type": "stream",
     "text": [
      "\n",
      "Total sum = 532445\n"
     ]
    }
   ],
   "source": [
    "all_part_numbers = []\n",
    "all_part_numbers_sum = 0\n",
    "\n",
    "for i, line in enumerate(lines):\n",
    "\n",
    "    parts = re.split(r'\\D+', line)\n",
    "    parts = [part for part in parts if part]\n",
    "\n",
    "    part_numbers = []\n",
    "    max_j = 0\n",
    "\n",
    "    if i >= 0 :\n",
    "    \n",
    "        for part in parts:\n",
    "\n",
    "            start_j = line[max_j:].index(part) + max_j\n",
    "            max_j = end_j = start_j + len(part)\n",
    "            \n",
    "            coords = []\n",
    "            for j in range(start_j, end_j):\n",
    "                coords.append((i, j))\n",
    "\n",
    "            statuses = []\n",
    "            for ind, j in enumerate(range(start_j, end_j)):\n",
    "                for offset_i, offset_j in offset_positions:\n",
    "                    if i in range(n_rows) and j in range(n_cols) and i + offset_i >= 0 and j + offset_j >= 0 and i + offset_i < n_rows and j + offset_j < n_cols:\n",
    "                        offset_value = grid[i + offset_i][j + offset_j]\n",
    "                        status = bool(re.search(r'[^0-9\\.]', offset_value))\n",
    "                        statuses.append(status)\n",
    "\n",
    "            if True in statuses:\n",
    "                part_numbers.append(int(part))\n",
    "                \n",
    "        all_part_numbers.append(part_numbers)\n",
    "        all_part_numbers_sum += sum(part_numbers)\n",
    "\n",
    "print(\"\\nTotal sum =\",all_part_numbers_sum)\n",
    "# 532068 - too high\n",
    "# 535391 - too high\n",
    "# 532445 - correct"
   ]
  },
  {
   "cell_type": "markdown",
   "metadata": {},
   "source": [
    "### Part 2"
   ]
  },
  {
   "cell_type": "code",
   "execution_count": 28,
   "metadata": {},
   "outputs": [],
   "source": [
    "# Part 2 answer = 84907174 "
   ]
  },
  {
   "cell_type": "code",
   "execution_count": null,
   "metadata": {},
   "outputs": [],
   "source": []
  }
 ],
 "metadata": {
  "kernelspec": {
   "display_name": "Python 3",
   "language": "python",
   "name": "python3"
  },
  "language_info": {
   "codemirror_mode": {
    "name": "ipython",
    "version": 3
   },
   "file_extension": ".py",
   "mimetype": "text/x-python",
   "name": "python",
   "nbconvert_exporter": "python",
   "pygments_lexer": "ipython3",
   "version": "3.11.3"
  }
 },
 "nbformat": 4,
 "nbformat_minor": 2
}
