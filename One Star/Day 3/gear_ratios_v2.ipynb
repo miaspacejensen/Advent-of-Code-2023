{
 "cells": [
  {
   "cell_type": "markdown",
   "metadata": {},
   "source": [
    "# Stars: \n",
    "\n",
    "### Day 3: Gear Ratios\n",
    "\n",
    "#### Part 1"
   ]
  },
  {
   "cell_type": "code",
   "execution_count": 172,
   "metadata": {},
   "outputs": [
    {
     "name": "stdout",
     "output_type": "stream",
     "text": [
      "Shape: 140 columns, 140 rows\n"
     ]
    }
   ],
   "source": [
    "# read all lines in text file\n",
    "with open(\"input.txt\", \"r\") as file:\n",
    "    lines = file.readlines()\n",
    "\n",
    "# remove newline text from each line\n",
    "lines = [line.rstrip(\"\\n\") for line in lines]\n",
    "\n",
    "# get metadata\n",
    "n_rows = len(lines)\n",
    "n_cols = len(lines[0])\n",
    "print(f\"Shape: {n_cols} columns, {n_rows} rows\")\n",
    "\n",
    "# create grid\n",
    "grid = [[' ' for _ in range(n_rows)] for _ in range(n_cols)]\n",
    "for i, line in enumerate(lines):\n",
    "    for j, value in enumerate(line):\n",
    "        grid[i][j] = value\n",
    "# grid"
   ]
  },
  {
   "cell_type": "code",
   "execution_count": 173,
   "metadata": {},
   "outputs": [],
   "source": [
    "offset_positions = [\n",
    "    (-1,-1),\n",
    "    ( 0,-1),\n",
    "    ( 1,-1),\n",
    "    (-1, 0),\n",
    "    ( 0, 0),\n",
    "    ( 1, 0),\n",
    "    (-1, 1),\n",
    "    ( 0, 1),\n",
    "    ( 1, 1)\n",
    "] "
   ]
  },
  {
   "cell_type": "code",
   "execution_count": 199,
   "metadata": {},
   "outputs": [
    {
     "data": {
      "text/plain": [
       "532445"
      ]
     },
     "execution_count": 199,
     "metadata": {},
     "output_type": "execute_result"
    }
   ],
   "source": [
    "parts = []\n",
    "not_parts = []\n",
    "for index_row, row in enumerate(grid):\n",
    "\n",
    "    num = ''\n",
    "    special_chars = 0\n",
    "    offset_coords = []\n",
    "\n",
    "    for index_col, col in enumerate(row):\n",
    "\n",
    "        value = grid[index_row][index_col]\n",
    "\n",
    "        if value.isdigit():\n",
    "            \n",
    "            num += value\n",
    "\n",
    "            for di, dj in offset_positions:\n",
    "\n",
    "                offset_i = index_row + di\n",
    "                offset_j = index_col + dj\n",
    "\n",
    "                if offset_i >= 0 and offset_j >= 0 and offset_i < n_rows and offset_j < n_cols:\n",
    "\n",
    "                    offset_value = grid[offset_i][offset_j]\n",
    "                    offset_coord = (offset_i, offset_j)\n",
    "\n",
    "                    try: \n",
    "                        offset_value = int(offset_value)\n",
    "                    except:\n",
    "                        if offset_value != \".\":\n",
    "                            special_chars += 1\n",
    "\n",
    "                    offset_coords.append(offset_coord)\n",
    "\n",
    "            if offset_j == n_cols:\n",
    "\n",
    "                if len(num)>0:\n",
    "                    \n",
    "                    if special_chars > 0:\n",
    "                        # print(f\"{num} is a part ({index_row}, {index_col})\")\n",
    "                        parts.append(int(num))\n",
    "                    else:\n",
    "                        # print(f\"{num} is NOT a part ({index_row}, {index_col})\")\n",
    "                        not_parts.append(int(num))\n",
    "\n",
    "                num = ''\n",
    "                special_chars = 0\n",
    "                offset_coords = []\n",
    "\n",
    "        else:\n",
    "\n",
    "            if len(num)>0:\n",
    "                \n",
    "                if special_chars > 0:\n",
    "                    # print(f\"{num} is a part ({index_row}, {index_col})\")\n",
    "                    parts.append(int(num))\n",
    "                else:\n",
    "                    # print(f\"{num} is NOT a part ({index_row}, {index_col})\")\n",
    "                    not_parts.append(int(num))\n",
    "\n",
    "            num = ''\n",
    "            special_chars = 0\n",
    "            offset_coords = []\n",
    "\n",
    "sum(parts)\n",
    "# 532068 - too high\n",
    "# 535391 - too high\n",
    "# 532445 - correct"
   ]
  },
  {
   "cell_type": "markdown",
   "metadata": {},
   "source": [
    "### Part 2"
   ]
  },
  {
   "cell_type": "code",
   "execution_count": 124,
   "metadata": {},
   "outputs": [],
   "source": [
    "\n",
    "\n",
    "# Part 2 answer = 84907174 "
   ]
  },
  {
   "cell_type": "code",
   "execution_count": 200,
   "metadata": {},
   "outputs": [
    {
     "name": "stdout",
     "output_type": "stream",
     "text": [
      "Shape: 10 columns, 10 rows\n"
     ]
    }
   ],
   "source": [
    "# read all lines in text file\n",
    "with open(\"test_input.txt\", \"r\") as file:\n",
    "    lines = file.readlines()\n",
    "\n",
    "# remove newline text from each line\n",
    "lines = [line.rstrip(\"\\n\") for line in lines]\n",
    "\n",
    "# get metadata\n",
    "n_rows = len(lines)\n",
    "n_cols = len(lines[0])\n",
    "print(f\"Shape: {n_cols} columns, {n_rows} rows\")\n",
    "\n",
    "# create grid\n",
    "grid = [[' ' for _ in range(n_rows)] for _ in range(n_cols)]\n",
    "for i, line in enumerate(lines):\n",
    "    for j, value in enumerate(line):\n",
    "        grid[i][j] = value\n",
    "# grid"
   ]
  },
  {
   "cell_type": "code",
   "execution_count": null,
   "metadata": {},
   "outputs": [],
   "source": []
  }
 ],
 "metadata": {
  "kernelspec": {
   "display_name": "Python 3",
   "language": "python",
   "name": "python3"
  },
  "language_info": {
   "codemirror_mode": {
    "name": "ipython",
    "version": 3
   },
   "file_extension": ".py",
   "mimetype": "text/x-python",
   "name": "python",
   "nbconvert_exporter": "python",
   "pygments_lexer": "ipython3",
   "version": "3.11.3"
  }
 },
 "nbformat": 4,
 "nbformat_minor": 2
}
