{
 "cells": [
  {
   "cell_type": "markdown",
   "metadata": {},
   "source": [
    "# Stars: *\n",
    "\n",
    "### Day 8: Haunted Wasteland\n",
    "\n",
    "#### Part 1"
   ]
  },
  {
   "cell_type": "code",
   "execution_count": 69,
   "metadata": {},
   "outputs": [],
   "source": [
    "# read all lines in text file\n",
    "with open(\"input.txt\", \"r\") as file:\n",
    "    lines = file.readlines() \n",
    "    \n",
    "# remove newline text from each line\n",
    "lines = [line.rstrip(\"\\n\") for line in lines]\n",
    "nav = [char for char in lines[0]]\n",
    "maps = lines[2:]"
   ]
  },
  {
   "cell_type": "code",
   "execution_count": 70,
   "metadata": {},
   "outputs": [],
   "source": [
    "map_dic = {}\n",
    "for map in maps:\n",
    "    split_map = map.split(\" = \")\n",
    "    name = split_map[0]\n",
    "    elements = split_map[1][1:-1].split(\", \")\n",
    "    map_dic[name] = elements"
   ]
  },
  {
   "cell_type": "code",
   "execution_count": 71,
   "metadata": {},
   "outputs": [],
   "source": [
    "def pick_element(elements, step):\n",
    "    if step == \"L\":\n",
    "        index = 0\n",
    "    elif step == \"R\":\n",
    "        index = 1\n",
    "    else:\n",
    "        return False \n",
    "    element = elements[index]\n",
    "    return element "
   ]
  },
  {
   "cell_type": "code",
   "execution_count": 72,
   "metadata": {},
   "outputs": [],
   "source": [
    "element = \"AAA\"\n",
    "zzz_found = False\n",
    "count_steps = 0\n",
    "while zzz_found == False:\n",
    "    for step in nav:\n",
    "        count_steps += 1\n",
    "        elements = map_dic[element]\n",
    "        element = pick_element(elements, step)\n",
    "        if element == \"ZZZ\":\n",
    "            zzz_found = True"
   ]
  },
  {
   "cell_type": "code",
   "execution_count": 73,
   "metadata": {},
   "outputs": [
    {
     "data": {
      "text/plain": [
       "18113"
      ]
     },
     "execution_count": 73,
     "metadata": {},
     "output_type": "execute_result"
    }
   ],
   "source": [
    "count_steps"
   ]
  },
  {
   "cell_type": "markdown",
   "metadata": {},
   "source": [
    "#### Part 2"
   ]
  },
  {
   "cell_type": "code",
   "execution_count": 126,
   "metadata": {},
   "outputs": [],
   "source": [
    "# read all lines in text file\n",
    "with open(\"input.txt\", \"r\") as file:\n",
    "    lines = file.readlines() \n",
    "    \n",
    "# remove newline text from each line\n",
    "lines = [line.rstrip(\"\\n\") for line in lines]\n",
    "nav = [char for char in lines[0]]\n",
    "maps = lines[2:]"
   ]
  },
  {
   "cell_type": "code",
   "execution_count": 127,
   "metadata": {},
   "outputs": [],
   "source": [
    "map_dic = {}\n",
    "for map in maps:\n",
    "    split_map = map.split(\" = \")\n",
    "    name = split_map[0]\n",
    "    elements = split_map[1][1:-1].split(\", \")\n",
    "    map_dic[name] = elements"
   ]
  },
  {
   "cell_type": "code",
   "execution_count": 128,
   "metadata": {},
   "outputs": [
    {
     "name": "stdout",
     "output_type": "stream",
     "text": [
      "Start elements:\t ['BXA', 'KBA', 'VTA', 'AAA', 'HMA', 'HLA']\n",
      "End elements:\t ['CHZ', 'XQZ', 'ZZZ', 'LSZ', 'KMZ', 'KRZ']\n"
     ]
    }
   ],
   "source": [
    "start_elements = []\n",
    "end_elements = []\n",
    "for key, val in map_dic.items():\n",
    "    if key.endswith(\"A\"):\n",
    "        start_elements.append(key)\n",
    "    if key.endswith(\"Z\"):\n",
    "        end_elements.append(key)\n",
    "print(f\"Start elements:\\t {start_elements}\")\n",
    "print(f\"End elements:\\t {end_elements}\")"
   ]
  },
  {
   "cell_type": "code",
   "execution_count": 129,
   "metadata": {},
   "outputs": [
    {
     "data": {
      "text/plain": [
       "[['BXA', 'XQZ', 13201],\n",
       " ['KBA', 'KMZ', 22411],\n",
       " ['VTA', 'KRZ', 18727],\n",
       " ['AAA', 'ZZZ', 18113],\n",
       " ['HMA', 'CHZ', 16271],\n",
       " ['HLA', 'LSZ', 20569]]"
      ]
     },
     "execution_count": 129,
     "metadata": {},
     "output_type": "execute_result"
    }
   ],
   "source": [
    "paths = []\n",
    "count_steps = 0\n",
    "for element in start_elements:\n",
    "    start_element = element\n",
    "    path = [start_element]\n",
    "    xxz_found = False \n",
    "    while xxz_found == False:\n",
    "        for step in nav:\n",
    "            count_steps += 1\n",
    "            elements = map_dic[element]\n",
    "            element = pick_element(elements, step)\n",
    "            path.append(element)\n",
    "            if element in end_elements:\n",
    "                end_element = element\n",
    "                xxz_found = True\n",
    "    steps = len(path) - 1\n",
    "    paths.append([start_element, end_element, steps])\n",
    "paths"
   ]
  },
  {
   "cell_type": "code",
   "execution_count": 130,
   "metadata": {},
   "outputs": [
    {
     "data": {
      "text/plain": [
       "109292"
      ]
     },
     "execution_count": 130,
     "metadata": {},
     "output_type": "execute_result"
    }
   ],
   "source": [
    "count_steps\n",
    "# 218590 - too low\n",
    "# 218584 - too low\n",
    "# 109292 - too low"
   ]
  },
  {
   "cell_type": "code",
   "execution_count": null,
   "metadata": {},
   "outputs": [],
   "source": []
  }
 ],
 "metadata": {
  "kernelspec": {
   "display_name": "Python 3",
   "language": "python",
   "name": "python3"
  },
  "language_info": {
   "codemirror_mode": {
    "name": "ipython",
    "version": 3
   },
   "file_extension": ".py",
   "mimetype": "text/x-python",
   "name": "python",
   "nbconvert_exporter": "python",
   "pygments_lexer": "ipython3",
   "version": "3.11.3"
  }
 },
 "nbformat": 4,
 "nbformat_minor": 2
}
