{
 "cells": [
  {
   "cell_type": "markdown",
   "metadata": {},
   "source": [
    "# Stars: *\n",
    "\n",
    "### Day 12: Hot Springs\n",
    "\n",
    "#### Part 1"
   ]
  },
  {
   "cell_type": "code",
   "execution_count": 115,
   "metadata": {},
   "outputs": [],
   "source": [
    "def get_data(file_name):\n",
    "    # read all lines in text file\n",
    "    with open(file_name, \"r\") as file:\n",
    "        lines = file.readlines() \n",
    "\n",
    "    # remove newline text from each line\n",
    "    lines = [line.rstrip(\"\\n\").split(\" \") for line in lines]\n",
    "\n",
    "    return lines "
   ]
  },
  {
   "cell_type": "code",
   "execution_count": 111,
   "metadata": {},
   "outputs": [],
   "source": [
    "def get_groups(lines):\n",
    "\n",
    "    all_groups = []\n",
    "\n",
    "    for line in lines:\n",
    "\n",
    "        springs = line[0]\n",
    "        arrangement = line[1]\n",
    "        arrangement_lst = arrangement.split(\",\")\n",
    "        len_springs = len(springs)\n",
    "\n",
    "        groups = []\n",
    "        for num in arrangement_lst:\n",
    "            group = \"#\" * int(num)\n",
    "            groups.append(group)\n",
    "\n",
    "        all_groups.append(groups)\n",
    "        # print(f\"({arrangement}) {groups}\")\n",
    "        \n",
    "    return all_groups"
   ]
  },
  {
   "cell_type": "code",
   "execution_count": 112,
   "metadata": {},
   "outputs": [],
   "source": [
    "def get_combos(springs, index=0, current_combo=\"\"):\n",
    "    combos = []\n",
    "\n",
    "    if index == len(springs):\n",
    "        current_combo = current_combo.split(\".\")\n",
    "        current_combo = [item for item in current_combo if item]\n",
    "        combos.append(current_combo)\n",
    "        return combos\n",
    "\n",
    "    if springs[index] == \"?\":\n",
    "        combos.extend(get_combos(springs, index + 1, current_combo + \".\"))\n",
    "        combos.extend(get_combos(springs, index + 1, current_combo + \"#\"))\n",
    "    else:\n",
    "        combos.extend(get_combos(springs, index + 1, current_combo + springs[index]))\n",
    "\n",
    "    return combos"
   ]
  },
  {
   "cell_type": "code",
   "execution_count": 151,
   "metadata": {},
   "outputs": [
    {
     "name": "stdout",
     "output_type": "stream",
     "text": [
      "7007\n"
     ]
    }
   ],
   "source": [
    "lines = get_data(\"input.txt\")\n",
    "expected_groups = get_groups(lines)\n",
    "\n",
    "total = 0\n",
    "i = 0\n",
    "for springs, arrangement in lines:\n",
    "    expected_group = expected_groups[i]\n",
    "    combinations = get_combos(springs)\n",
    "    count = combinations.count(expected_group)\n",
    "    # print(springs, \"=\", count)\n",
    "    total += count\n",
    "    i += 1\n",
    "\n",
    "print(total)"
   ]
  },
  {
   "cell_type": "markdown",
   "metadata": {},
   "source": [
    "#### Part 2"
   ]
  },
  {
   "cell_type": "code",
   "execution_count": 155,
   "metadata": {},
   "outputs": [],
   "source": [
    "# try use dynamic programming - top-down / bottom-up approach \n",
    "# makes it possible to count the number of solutions without visiting them all"
   ]
  },
  {
   "cell_type": "code",
   "execution_count": 154,
   "metadata": {},
   "outputs": [],
   "source": [
    "def unfold_lines(lines):\n",
    "    new_lines = []\n",
    "    for springs, arrangement in lines:\n",
    "        new_springs = \"?\".join([springs]*5)\n",
    "        new_arrangement = \",\".join([arrangement]*5)\n",
    "        new_line = [new_springs, new_arrangement]\n",
    "        new_lines.append(new_line)\n",
    "    return new_lines"
   ]
  },
  {
   "cell_type": "code",
   "execution_count": 159,
   "metadata": {},
   "outputs": [
    {
     "name": "stdout",
     "output_type": "stream",
     "text": [
      "???.###????.###????.###????.###????.### = 1\n",
      "\n",
      "Total = 1\n"
     ]
    }
   ],
   "source": [
    "# Brute force - this is far too slow\n",
    "\n",
    "lines = get_data(\"test_input.txt\")\n",
    "new_lines = unfold_lines(lines)\n",
    "expected_groups = get_groups(new_lines)\n",
    "\n",
    "total = 0\n",
    "i = 0\n",
    "for springs, arrangement in new_lines:\n",
    "    expected_group = expected_groups[i]\n",
    "    combinations = get_combos(springs)\n",
    "    count = combinations.count(expected_group)\n",
    "    print(springs, \"=\", count)\n",
    "    total += count\n",
    "    i += 1\n",
    "    break\n",
    "\n",
    "print(\"\\nTotal =\", total)"
   ]
  },
  {
   "cell_type": "code",
   "execution_count": null,
   "metadata": {},
   "outputs": [],
   "source": []
  }
 ],
 "metadata": {
  "kernelspec": {
   "display_name": "Python 3",
   "language": "python",
   "name": "python3"
  },
  "language_info": {
   "codemirror_mode": {
    "name": "ipython",
    "version": 3
   },
   "file_extension": ".py",
   "mimetype": "text/x-python",
   "name": "python",
   "nbconvert_exporter": "python",
   "pygments_lexer": "ipython3",
   "version": "3.11.3"
  }
 },
 "nbformat": 4,
 "nbformat_minor": 2
}
