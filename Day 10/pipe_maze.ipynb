{
 "cells": [
  {
   "cell_type": "markdown",
   "metadata": {},
   "source": [
    "# Stars: \n",
    "\n",
    "### Day 10: Pipe Maze\n",
    "\n",
    "#### Part 1"
   ]
  },
  {
   "cell_type": "code",
   "execution_count": 108,
   "metadata": {},
   "outputs": [],
   "source": [
    "from collections import deque"
   ]
  },
  {
   "cell_type": "code",
   "execution_count": 109,
   "metadata": {},
   "outputs": [
    {
     "name": "stdout",
     "output_type": "stream",
     "text": [
      "Shape: 5 columns, 5 rows\n"
     ]
    }
   ],
   "source": [
    "# read all lines in text file\n",
    "with open(\"test_input.txt\", \"r\") as file:\n",
    "    lines = file.readlines() \n",
    "\n",
    "# remove newline text from each line\n",
    "lines = [line.rstrip(\"\\n\").split(\" \") for line in lines]\n",
    "\n",
    "# get metadata\n",
    "n_rows = len(lines)\n",
    "n_cols = len(lines[0][0])\n",
    "print(f\"Shape: {n_cols} columns, {n_rows} rows\")"
   ]
  },
  {
   "cell_type": "code",
   "execution_count": 110,
   "metadata": {},
   "outputs": [],
   "source": [
    "def display_grid(grid):\n",
    "    print(\"Grid:\")\n",
    "    for row in grid:\n",
    "        print(\"\".join(row))"
   ]
  },
  {
   "cell_type": "code",
   "execution_count": 111,
   "metadata": {},
   "outputs": [],
   "source": [
    "def generate_grid(lines, print_grid=False):\n",
    "\n",
    "    grid = [[' ' for _ in range(n_rows)] for _ in range(n_cols)]\n",
    "\n",
    "    for i, row in enumerate(lines):\n",
    "        for j, element in enumerate(row[0]):\n",
    "            grid[i][j] = element\n",
    "\n",
    "    if print_grid==True:\n",
    "        display_grid(grid)\n",
    "    \n",
    "    return grid"
   ]
  },
  {
   "cell_type": "code",
   "execution_count": 112,
   "metadata": {},
   "outputs": [],
   "source": [
    "def find_position(char, grid, print_pos=False):\n",
    "    for i, row in enumerate(grid):\n",
    "        for j, element, in enumerate(row):\n",
    "            if element == char:\n",
    "                pos = (i, j)\n",
    "                if print_pos == True:\n",
    "                    print(\"Starting position:\", pos)\n",
    "                return pos\n",
    "    return None"
   ]
  },
  {
   "cell_type": "code",
   "execution_count": 116,
   "metadata": {},
   "outputs": [],
   "source": [
    "def find_possible_directions(start_pos):\n",
    "    i = start_pos[0]\n",
    "    j = start_pos[1]\n",
    "\n",
    "    possible_directions = {}\n",
    "    for dir, pos in offsets_dic.items():\n",
    "\n",
    "        offset_i = i + pos[0]\n",
    "        offset_j = j + pos[1]\n",
    "\n",
    "        offset_val = grid[offset_i][offset_j]\n",
    "        offset_pos = (offset_i, offset_j)\n",
    "\n",
    "        possible_values = possible_values_dic[dir]\n",
    "\n",
    "        if offset_val in possible_values:\n",
    "            \n",
    "            possible_directions[dir] = offset_pos\n",
    "\n",
    "    print(possible_directions)\n",
    "\n",
    "    return possible_directions\n"
   ]
  },
  {
   "cell_type": "code",
   "execution_count": 117,
   "metadata": {},
   "outputs": [],
   "source": [
    "offsets_dic = {\n",
    "    \"down\": (1, 0),\n",
    "    \"up\": (-1, 0),\n",
    "    \"right\": (0, 1),\n",
    "    \"left\": (0, -1)\n",
    "}\n",
    "\n",
    "possible_values_dic = {\n",
    "    \"down\": [\"|\", \"L\", \"J\"],\n",
    "    \"up\": [\"|\", \"F\", \"7\"],\n",
    "    \"right\": [\"-\", \"J\", \"7\"],\n",
    "    \"left\": [\"-\", \"L\", \"F\"]\n",
    "}"
   ]
  },
  {
   "cell_type": "code",
   "execution_count": 118,
   "metadata": {},
   "outputs": [
    {
     "name": "stdout",
     "output_type": "stream",
     "text": [
      "Grid:\n",
      ".....\n",
      ".S-7.\n",
      ".|.|.\n",
      ".L-J.\n",
      ".....\n",
      "Starting position: (1, 1)\n"
     ]
    }
   ],
   "source": [
    "grid = generate_grid(lines, print_grid=True)\n",
    "start_pos = find_position(\"S\", grid, print_pos=True)"
   ]
  },
  {
   "cell_type": "code",
   "execution_count": 121,
   "metadata": {},
   "outputs": [
    {
     "name": "stdout",
     "output_type": "stream",
     "text": [
      "Starting position: (1, 1)\n",
      "{'down': (2, 1), 'right': (1, 2)}\n"
     ]
    }
   ],
   "source": [
    "print(\"Starting position:\", start_pos)\n",
    "possible_directions = find_possible_directions(start_pos)"
   ]
  },
  {
   "cell_type": "code",
   "execution_count": 106,
   "metadata": {},
   "outputs": [
    {
     "name": "stdout",
     "output_type": "stream",
     "text": [
      "Grid:\n",
      ".....\n",
      ".S-7.\n",
      ".|.|.\n",
      ".L-J.\n",
      ".....\n",
      "\n",
      "S at position (1, 1) >>> 0 steps\n",
      "| at position (2, 1) >>> 1 steps\n",
      "- at position (1, 2) >>> 1 steps\n",
      "L at position (3, 1) >>> 2 steps\n",
      "7 at position (1, 3) >>> 2 steps\n",
      "- at position (3, 2) >>> 3 steps\n",
      "| at position (2, 3) >>> 3 steps\n",
      "J at position (3, 3) >>> 4 steps\n"
     ]
    }
   ],
   "source": [
    "queue = deque([(start_pos, 0)])\n",
    "visited = set()\n",
    "dist_dic = {}\n",
    "dist_grid = [[' ' for _ in range(n_rows)] for _ in range(n_cols)]\n",
    "\n",
    "while queue:\n",
    "    (i, j), dist = queue.popleft()\n",
    "    if grid[i][j] == \".\":\n",
    "        continue\n",
    "    if (i, j) not in visited:\n",
    "        visited.add((i, j))\n",
    "        dist_dic[(i, j)] = dist\n",
    "        for dir, pos in offsets_dic.items():\n",
    "            offset_i = i + pos[0]\n",
    "            offset_j = j + pos[1]\n",
    "            offset_pos = (offset_i, offset_j)\n",
    "            possible_vals = possible_values_dic[dir]\n",
    "            if 0 <= offset_i < n_rows and 0 <= offset_j < n_cols and grid[offset_i][offset_j] in possible_vals:\n",
    "                queue.append((offset_pos, dist + 1))\n",
    "                dist_grid[offset_i][offset_j] = str(dist + 1)\n",
    "            elif 0 <= offset_i < n_rows and 0 <= offset_j < n_cols and grid[offset_i][offset_j] not in possible_vals:\n",
    "                dist_grid[offset_i][offset_j] = \".\"\n",
    "\n",
    "\n",
    "display_grid(grid)\n",
    "print(\"\")\n",
    "\n",
    "for pos, dist in dist_dic.items():\n",
    "    pos_value = grid[pos[0]][pos[1]]\n",
    "    print(f\"{pos_value} at position {pos} >>> {dist} steps\")\n"
   ]
  },
  {
   "cell_type": "code",
   "execution_count": 107,
   "metadata": {},
   "outputs": [
    {
     "name": "stdout",
     "output_type": "stream",
     "text": [
      "Grid:\n",
      " ... \n",
      "..34.\n",
      ".3.5.\n",
      ".454.\n",
      " ... \n"
     ]
    }
   ],
   "source": [
    "display_grid(dist_grid)"
   ]
  },
  {
   "cell_type": "code",
   "execution_count": null,
   "metadata": {},
   "outputs": [],
   "source": []
  }
 ],
 "metadata": {
  "kernelspec": {
   "display_name": "Python 3",
   "language": "python",
   "name": "python3"
  },
  "language_info": {
   "codemirror_mode": {
    "name": "ipython",
    "version": 3
   },
   "file_extension": ".py",
   "mimetype": "text/x-python",
   "name": "python",
   "nbconvert_exporter": "python",
   "pygments_lexer": "ipython3",
   "version": "3.11.3"
  }
 },
 "nbformat": 4,
 "nbformat_minor": 2
}
